{
 "cells": [
  {
   "cell_type": "markdown",
   "id": "f5df2b21",
   "metadata": {},
   "source": [
    "## 数据集大小和标签相关性的关系"
   ]
  },
  {
   "cell_type": "code",
   "execution_count": 1,
   "id": "a8f07f3f",
   "metadata": {
    "ExecuteTime": {
     "end_time": "2023-09-22T07:33:33.851609Z",
     "start_time": "2023-09-22T07:33:33.429279Z"
    }
   },
   "outputs": [],
   "source": [
    "import skmultilearn\n",
    "# from skmultilearn.dataset import load_dataset\n",
    "from leemultilearn.dataset import available_datasets, load_dataset\n",
    "import leemultilearn\n",
    "import numpy as np\n",
    "import scipy.sparse as sp\n",
    "import scipy\n",
    "import pandas as pd"
   ]
  },
  {
   "cell_type": "markdown",
   "id": "12ecc93f",
   "metadata": {},
   "source": [
    "根据 ProXML (MM 2019), 度量数据集标签相关性强弱的方法有这样一种: \n",
    "\n",
    "计算标签相关性矩阵 $A$，\n",
    "\n",
    "$$\n",
    "a_{jk} = \\langle y_{\\bullet j},  y_{\\bullet k} \\rangle\n",
    "$$\n",
    "\n",
    "得到其拉普拉斯矩阵 $L = I - D^{1/2} A D^{1/2}$, \n",
    "记其特征值 \n",
    "\n",
    "$$\n",
    "\\lambda_1 \\leq \\lambda_2 \\leq \\dots \\leq \\lambda_q\n",
    "$$\n",
    "\n",
    "其中 $\\lambda_2$ (第二小的特征值) 和图的连通性关联非常大, 这个特征值被单独命名为the algebraic connectivity of the graph. \n",
    "\n",
    "我们尝试用 algebraic connectivity 指标来评估不同的数据集, 同时展示\n",
    "数据集的样本数 $N$, \n",
    "每个样本的平均标签数 $\\mathrm{avg.}{|\\mathcal{Y_i}|}$, \n",
    "每个标签的平均样本数 $\\mathrm{avg.}{|\\mathcal{X^j}|}$. \n",
    "\n",
    "$\\mathrm{avg.}{|\\mathcal{Y_i}|}$ 可以用来评估标签的稀疏程度, \n",
    "$\\mathrm{avg.}{|\\mathcal{X^j}|}$ 可以用来评估标签的长尾程度.  "
   ]
  },
  {
   "cell_type": "code",
   "execution_count": 2,
   "id": "0e1ee4d3",
   "metadata": {
    "ExecuteTime": {
     "end_time": "2023-09-22T07:33:34.453666Z",
     "start_time": "2023-09-22T07:33:34.434348Z"
    }
   },
   "outputs": [],
   "source": [
    "def algebraic_connectivity(Y):\n",
    "    n, q = Y.shape\n",
    "    A = (Y.T @ Y) + 0.001 * np.eye(q)\n",
    "    D1 = np.diag(A.sum(axis=1).A.ravel() ** (-1/2)) \n",
    "    I = np.eye(q)\n",
    "    L = I - D1 @ A @ D1\n",
    "    \n",
    "    eigval, eigvec = np.linalg.eigh(L)\n",
    "    return min(eigval[1], eigval[-2])\n",
    "    "
   ]
  },
  {
   "cell_type": "code",
   "execution_count": 3,
   "id": "fcc51cd0",
   "metadata": {
    "ExecuteTime": {
     "end_time": "2023-09-22T07:33:35.098566Z",
     "start_time": "2023-09-22T07:33:34.765128Z"
    }
   },
   "outputs": [],
   "source": [
    "dataset_names = {\n",
    "    name for name, split in \n",
    "    available_datasets()\n",
    "}\n",
    "\n",
    "datasets = [\n",
    "    [name] + list(load_dataset(name, 'undivided'))\n",
    "    for name in dataset_names\n",
    "]"
   ]
  },
  {
   "cell_type": "code",
   "execution_count": 4,
   "id": "48f9188b",
   "metadata": {
    "ExecuteTime": {
     "end_time": "2023-09-22T07:33:35.820150Z",
     "start_time": "2023-09-22T07:33:35.221621Z"
    }
   },
   "outputs": [],
   "source": [
    "# print('''\n",
    "# dataset               N       Q       Algebraic     avg_Yi    avg_Xj\n",
    "#                                       connectivity\n",
    "# --------------------------------------------------------------------\n",
    "# ''')\n",
    "\n",
    "dataset_info = pd.DataFrame(columns=['name', 'N', 'Q', 'Algebraic connectivity', 'avg_Yi', 'avg_Xj'])\n",
    "\n",
    "for name, X, Y, _, _ in datasets:\n",
    "    n, m = X.shape\n",
    "    _, q = Y.shape\n",
    "#     Y = Y.toarray()\n",
    "    c = abs(algebraic_connectivity(Y))\n",
    "    avg_Yi = Y.sum(axis=0).mean()\n",
    "    avg_Xj = Y.sum(axis=1).mean()\n",
    "    \n",
    "    dataset_info.loc[len(dataset_info)] = [name, n, q, c, avg_Yi, avg_Xj]\n",
    "    # print(f\"{name:<20s}  {n:<6d}  {q:<6d}  {c:<12.4f}  {avg_Yi:<8.1f}  {avg_Xj:<8.1f}\")"
   ]
  },
  {
   "cell_type": "code",
   "execution_count": 5,
   "id": "553210e3",
   "metadata": {
    "ExecuteTime": {
     "end_time": "2023-09-22T07:33:36.020694Z",
     "start_time": "2023-09-22T07:33:36.000026Z"
    }
   },
   "outputs": [
    {
     "data": {
      "text/html": [
       "<div>\n",
       "<style scoped>\n",
       "    .dataframe tbody tr th:only-of-type {\n",
       "        vertical-align: middle;\n",
       "    }\n",
       "\n",
       "    .dataframe tbody tr th {\n",
       "        vertical-align: top;\n",
       "    }\n",
       "\n",
       "    .dataframe thead th {\n",
       "        text-align: right;\n",
       "    }\n",
       "</style>\n",
       "<table border=\"1\" class=\"dataframe\">\n",
       "  <thead>\n",
       "    <tr style=\"text-align: right;\">\n",
       "      <th></th>\n",
       "      <th>name</th>\n",
       "      <th>N</th>\n",
       "      <th>Q</th>\n",
       "      <th>Algebraic connectivity</th>\n",
       "      <th>avg_Yi</th>\n",
       "      <th>avg_Xj</th>\n",
       "    </tr>\n",
       "  </thead>\n",
       "  <tbody>\n",
       "    <tr>\n",
       "      <th>9</th>\n",
       "      <td>Yahoo-Social</td>\n",
       "      <td>12111</td>\n",
       "      <td>39</td>\n",
       "      <td>0.000</td>\n",
       "      <td>397.256</td>\n",
       "      <td>1.279</td>\n",
       "    </tr>\n",
       "    <tr>\n",
       "      <th>1</th>\n",
       "      <td>Yahoo-Science</td>\n",
       "      <td>6428</td>\n",
       "      <td>40</td>\n",
       "      <td>0.186</td>\n",
       "      <td>232.975</td>\n",
       "      <td>1.450</td>\n",
       "    </tr>\n",
       "    <tr>\n",
       "      <th>10</th>\n",
       "      <td>Medical</td>\n",
       "      <td>978</td>\n",
       "      <td>45</td>\n",
       "      <td>0.000</td>\n",
       "      <td>27.067</td>\n",
       "      <td>1.245</td>\n",
       "    </tr>\n",
       "    <tr>\n",
       "      <th>19</th>\n",
       "      <td>Enron</td>\n",
       "      <td>1702</td>\n",
       "      <td>53</td>\n",
       "      <td>0.794</td>\n",
       "      <td>137.283</td>\n",
       "      <td>4.275</td>\n",
       "    </tr>\n",
       "    <tr>\n",
       "      <th>14</th>\n",
       "      <td>rcv1subset1</td>\n",
       "      <td>6000</td>\n",
       "      <td>101</td>\n",
       "      <td>0.193</td>\n",
       "      <td>171.069</td>\n",
       "      <td>2.880</td>\n",
       "    </tr>\n",
       "    <tr>\n",
       "      <th>22</th>\n",
       "      <td>rcv1subset5</td>\n",
       "      <td>6000</td>\n",
       "      <td>101</td>\n",
       "      <td>0.136</td>\n",
       "      <td>156.921</td>\n",
       "      <td>2.642</td>\n",
       "    </tr>\n",
       "    <tr>\n",
       "      <th>16</th>\n",
       "      <td>mediamill</td>\n",
       "      <td>43907</td>\n",
       "      <td>101</td>\n",
       "      <td>0.385</td>\n",
       "      <td>1902.158</td>\n",
       "      <td>4.376</td>\n",
       "    </tr>\n",
       "    <tr>\n",
       "      <th>11</th>\n",
       "      <td>Bibtex</td>\n",
       "      <td>7395</td>\n",
       "      <td>159</td>\n",
       "      <td>0.040</td>\n",
       "      <td>111.711</td>\n",
       "      <td>2.402</td>\n",
       "    </tr>\n",
       "    <tr>\n",
       "      <th>26</th>\n",
       "      <td>Corel5k</td>\n",
       "      <td>5000</td>\n",
       "      <td>374</td>\n",
       "      <td>0.129</td>\n",
       "      <td>47.086</td>\n",
       "      <td>3.522</td>\n",
       "    </tr>\n",
       "    <tr>\n",
       "      <th>13</th>\n",
       "      <td>delicious</td>\n",
       "      <td>16105</td>\n",
       "      <td>983</td>\n",
       "      <td>0.109</td>\n",
       "      <td>311.614</td>\n",
       "      <td>19.020</td>\n",
       "    </tr>\n",
       "  </tbody>\n",
       "</table>\n",
       "</div>"
      ],
      "text/plain": [
       "             name      N    Q  Algebraic connectivity   avg_Yi  avg_Xj\n",
       "9    Yahoo-Social  12111   39                   0.000  397.256   1.279\n",
       "1   Yahoo-Science   6428   40                   0.186  232.975   1.450\n",
       "10        Medical    978   45                   0.000   27.067   1.245\n",
       "19          Enron   1702   53                   0.794  137.283   4.275\n",
       "14    rcv1subset1   6000  101                   0.193  171.069   2.880\n",
       "22    rcv1subset5   6000  101                   0.136  156.921   2.642\n",
       "16      mediamill  43907  101                   0.385 1902.158   4.376\n",
       "11         Bibtex   7395  159                   0.040  111.711   2.402\n",
       "26        Corel5k   5000  374                   0.129   47.086   3.522\n",
       "13      delicious  16105  983                   0.109  311.614  19.020"
      ]
     },
     "execution_count": 5,
     "metadata": {},
     "output_type": "execute_result"
    }
   ],
   "source": [
    "pd.options.display.float_format = '{:.3f}'.format\n",
    "dataset_info.sort_values(by='Q')[-10:]"
   ]
  },
  {
   "cell_type": "markdown",
   "id": "3ae14bdf",
   "metadata": {},
   "source": [
    "结果发现并不能很好地观测到 Algebraic connectivity 随 Q 增大而下降的趋势. \n",
    "有可能是因为这里没有 Q 足够大的数据集. "
   ]
  },
  {
   "cell_type": "code",
   "execution_count": 6,
   "id": "69479f9b",
   "metadata": {
    "ExecuteTime": {
     "end_time": "2023-09-22T07:33:37.302249Z",
     "start_time": "2023-09-22T07:33:37.283212Z"
    }
   },
   "outputs": [],
   "source": [
    "dataset_names = ['Medical', 'Enron']"
   ]
  },
  {
   "cell_type": "code",
   "execution_count": 7,
   "id": "ac6be123",
   "metadata": {
    "ExecuteTime": {
     "end_time": "2023-09-22T07:33:38.285661Z",
     "start_time": "2023-09-22T07:33:37.870245Z"
    }
   },
   "outputs": [],
   "source": [
    "from skmultilearn.problem_transform import BinaryRelevance\n",
    "from leemultilearn.models import MetaBinaryRelevance\n",
    "from sklearn.svm import SVC\n",
    "from sklearn.linear_model import RidgeClassifier\n",
    "from leemultilearn.models import MLPClassifier\n",
    "\n",
    "from leemultilearn.metrics import (\n",
    "    hamming_loss, \n",
    "    label_ranking_loss,\n",
    "    average_precision_score,\n",
    "    coverage_error,\n",
    "    one_error,\n",
    "    top_k_accuracy_score\n",
    ")"
   ]
  },
  {
   "cell_type": "code",
   "execution_count": 17,
   "id": "9fbc46fc",
   "metadata": {
    "ExecuteTime": {
     "end_time": "2023-09-22T10:42:41.804444Z",
     "start_time": "2023-09-22T07:41:26.719894Z"
    }
   },
   "outputs": [
    {
     "name": "stdout",
     "output_type": "stream",
     "text": [
      "dataset: Bibtex (n=4880, q=159, c=0.0412)\n",
      "  BR:\n",
      "     hamming_loss: 0.0131\n",
      "     ranking_loss: 0.0649\n",
      "      precision@5: 0.0859\n",
      "  MBR:\n",
      "     hamming_loss: 0.0124\n",
      "     ranking_loss: 0.0785\n",
      "      precision@5: 0.1183\n"
     ]
    }
   ],
   "source": [
    "for dataset_name in ['Bibtex']:\n",
    "    X_train, Y_train, _, _ = load_dataset(dataset_name, 'train')\n",
    "    X_test, Y_test, _, _ = load_dataset(dataset_name, 'test')\n",
    "    Y_test = Y_test.toarray()\n",
    "    \n",
    "    n, q =  Y_train.shape\n",
    "    c = abs(algebraic_connectivity(Y_train))\n",
    "    \n",
    "    # without label correlations\n",
    "    model1 = BinaryRelevance(classifier=SVC(probability=True))\n",
    "    model1.fit(X_train, Y_train)\n",
    "    Y_pred1 = model1.predict(X_test).toarray()\n",
    "    Y_pred_proba1 = model1.predict_proba(X_test).toarray()\n",
    "    \n",
    "    # with label correlations\n",
    "    model2 = MetaBinaryRelevance(classifier=SVC(probability=True))\n",
    "    model2.fit(X_train, Y_train)\n",
    "    Y_pred2 = model2.predict(X_test).toarray()\n",
    "    Y_pred_proba2 = model2.predict_proba(X_test).toarray()\n",
    "    \n",
    "    print('dataset: %s (n=%d, q=%d, c=%.4f)' % (dataset_name, n, q, c))\n",
    "    print('  BR:')\n",
    "    print('  %15s: %.4f' % ('hamming_loss', hamming_loss(Y_test, Y_pred1)))\n",
    "    print('  %15s: %.4f' % ('ranking_loss', label_ranking_loss(Y_test, Y_pred_proba1)))\n",
    "    print('  %15s: %.4f' % ('precision@5', top_k_accuracy_score(Y_test, Y_pred1, k=5)))\n",
    "    print('  MBR:')\n",
    "    print('  %15s: %.4f' % ('hamming_loss', hamming_loss(Y_test, Y_pred2)))\n",
    "    print('  %15s: %.4f' % ('ranking_loss', label_ranking_loss(Y_test, Y_pred_proba2)))\n",
    "    print('  %15s: %.4f' % ('precision@5', top_k_accuracy_score(Y_test, Y_pred2, k=5)))"
   ]
  },
  {
   "cell_type": "markdown",
   "id": "6bf3e387",
   "metadata": {},
   "source": [
    "```\n",
    "dataset: Enron (n=1141, q=53, c=0.8120)\n",
    "  BR:\n",
    "     hamming_loss: 0.0426\n",
    "     ranking_loss: 0.1097\n",
    "      precision@5: 0.1561\n",
    "  MBR:\n",
    "     hamming_loss: 0.0413\n",
    "     ranking_loss: 0.1096\n",
    "      precision@5: 0.1651\n",
    "\n",
    "```"
   ]
  },
  {
   "cell_type": "code",
   "execution_count": null,
   "id": "75246c52",
   "metadata": {},
   "outputs": [],
   "source": []
  }
 ],
 "metadata": {
  "kernelspec": {
   "display_name": "multi-label",
   "language": "python",
   "name": "multi-label"
  },
  "language_info": {
   "codemirror_mode": {
    "name": "ipython",
    "version": 3
   },
   "file_extension": ".py",
   "mimetype": "text/x-python",
   "name": "python",
   "nbconvert_exporter": "python",
   "pygments_lexer": "ipython3",
   "version": "3.8.0"
  },
  "toc": {
   "base_numbering": 1,
   "nav_menu": {},
   "number_sections": true,
   "sideBar": false,
   "skip_h1_title": false,
   "title_cell": "Table of Contents",
   "title_sidebar": "Contents",
   "toc_cell": false,
   "toc_position": {},
   "toc_section_display": true,
   "toc_window_display": false
  }
 },
 "nbformat": 4,
 "nbformat_minor": 5
}
