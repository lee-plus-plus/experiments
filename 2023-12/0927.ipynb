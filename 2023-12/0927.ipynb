{
 "cells": [
  {
   "cell_type": "markdown",
   "id": "bf4af330",
   "metadata": {},
   "source": [
    "## 基础 multi-label 模型的表现"
   ]
  },
  {
   "cell_type": "markdown",
   "id": "746b937a",
   "metadata": {},
   "source": [
    "### models"
   ]
  },
  {
   "cell_type": "code",
   "execution_count": 1,
   "id": "4de3f7f2",
   "metadata": {
    "ExecuteTime": {
     "end_time": "2023-09-27T05:14:50.503360Z",
     "start_time": "2023-09-27T05:14:50.350823Z"
    }
   },
   "outputs": [],
   "source": [
    "import skmultilearn\n",
    "from leemultilearn.dataset import available_datasets, load_dataset\n",
    "import numpy as np\n",
    "import leemultilearn"
   ]
  },
  {
   "cell_type": "markdown",
   "id": "2ae2a4af",
   "metadata": {},
   "source": [
    "`BinaryRelevance`: use Support Vector Classifier as base classifier"
   ]
  },
  {
   "cell_type": "code",
   "execution_count": 2,
   "id": "5880ffba",
   "metadata": {
    "ExecuteTime": {
     "end_time": "2023-09-27T08:38:37.497953Z",
     "start_time": "2023-09-27T08:38:37.486952Z"
    },
    "code_folding": []
   },
   "outputs": [],
   "source": [
    "from skmultilearn.problem_transform import BinaryRelevance\n",
    "from sklearn.svm import SVC\n",
    "from sklearn.linear_model import RidgeClassifier\n",
    "from leemultilearn.utils.convert import to_ndarray\n",
    "\n",
    "class RidgeClf_mini(RidgeClassifier):\n",
    "    def predict_proba(self, X):\n",
    "        return self.decision_function(X)\n",
    "\n",
    "class RidgeClf_full:\n",
    "    def __init__(self, *, alpha=0.1):\n",
    "        self.alpha = alpha\n",
    "    \n",
    "    def _feature_expansion(self, X):\n",
    "        X = to_ndarray(X)\n",
    "        X = np.hstack([X, np.ones((n, 1))])\n",
    "    \n",
    "    def fit(self, X, y):\n",
    "        X = to_ndarray(X)\n",
    "        y = to_ndarray(y)\n",
    "        n, m = X.shape\n",
    "        _, q = y.shape\n",
    "        X = np.hstack([X, np.ones((n, 1))])\n",
    "        \n",
    "        self.W = np.linalg.inv(X.T @ X + self.alpha * np.eye(m + 1)) @ (X.T @ y)\n",
    "    \n",
    "    def predict_proba(self, X):\n",
    "        X = to_ndarray(X)\n",
    "        n, m = X.shape\n",
    "        X = np.hstack([X, np.ones((n, 1))])\n",
    "        return X @ self.W\n",
    "    \n",
    "    def predict(self, X):\n",
    "        X = to_ndarray(X)\n",
    "        n, m = X.shape\n",
    "        X = np.hstack([X, np.ones((n, 1))])\n",
    "        return X @ self.W > 0.5"
   ]
  },
  {
   "cell_type": "markdown",
   "id": "f8bab438",
   "metadata": {},
   "source": [
    "`RidgeClassfier`: Linear least squares with l2 regularization, minimize $\\ ||y - Xw||^2_2 + \\alpha ||w||^2_2$"
   ]
  },
  {
   "cell_type": "markdown",
   "id": "81f7e352",
   "metadata": {},
   "source": [
    "`MLPClassfier`: Multi-layer Perception With Sigmoid and BCE loss"
   ]
  },
  {
   "cell_type": "markdown",
   "id": "5c744371",
   "metadata": {},
   "source": [
    "### Multi-layer Perception With BCE loss"
   ]
  },
  {
   "cell_type": "code",
   "execution_count": 28,
   "id": "75f01827",
   "metadata": {
    "ExecuteTime": {
     "end_time": "2023-09-27T08:13:09.158735Z",
     "start_time": "2023-09-27T08:13:09.151649Z"
    },
    "code_folding": [
     1
    ]
   },
   "outputs": [],
   "source": [
    "from leemultilearn.models import MLPClassifier\n",
    "MLP_mini = lambda: MLPClassifier(\n",
    "    max_iter=1000,\n",
    "    hidden_layer_sizes=[],\n",
    "    loss='binary_log_loss',\n",
    "    out_activation_='logistic',\n",
    ")"
   ]
  },
  {
   "cell_type": "markdown",
   "id": "12d9209e",
   "metadata": {},
   "source": [
    "`ML-kNN`: lazy learning approach"
   ]
  },
  {
   "cell_type": "markdown",
   "id": "8c7aaa11",
   "metadata": {},
   "source": [
    "### ML-$k$NN "
   ]
  },
  {
   "cell_type": "code",
   "execution_count": 30,
   "id": "f004425f",
   "metadata": {
    "ExecuteTime": {
     "end_time": "2023-09-27T08:13:34.299885Z",
     "start_time": "2023-09-27T08:13:34.285820Z"
    }
   },
   "outputs": [],
   "source": [
    "from leemultilearn.models import MLkNN"
   ]
  },
  {
   "cell_type": "markdown",
   "id": "4c19b3f1",
   "metadata": {},
   "source": [
    "### dataset"
   ]
  },
  {
   "cell_type": "code",
   "execution_count": 31,
   "id": "cffd1716",
   "metadata": {
    "ExecuteTime": {
     "end_time": "2023-09-27T08:14:30.934672Z",
     "start_time": "2023-09-27T08:14:30.923582Z"
    },
    "code_folding": []
   },
   "outputs": [],
   "source": [
    "def print_mll_datasets_info(dataset_names):    \n",
    "    print(f\"{'name':<20s} {'N':<6s} {'M':<6s} {'Q':<6s}\")\n",
    "    print(\"-\" * 41)\n",
    "    for name in dataset_names:\n",
    "        X, Y, _, _ = leemultilearn.dataset.load_dataset(name, 'undivided')\n",
    "        n, m, q = X.shape[0], X.shape[1], Y.shape[1]\n",
    "        print(f\"{name:<20s} {n:<6d} {m:<6d} {q:<6d}\")"
   ]
  },
  {
   "cell_type": "code",
   "execution_count": 32,
   "id": "84a1597f",
   "metadata": {
    "ExecuteTime": {
     "end_time": "2023-09-27T08:14:12.508404Z",
     "start_time": "2023-09-27T08:14:12.468573Z"
    }
   },
   "outputs": [
    {
     "name": "stdout",
     "output_type": "stream",
     "text": [
      "name                 N      M      Q     \n",
      "-----------------------------------------\n",
      "Birds                645    260    19    \n",
      "Yahoo-Social         12111  52350  39    \n",
      "Yahoo-Science        6428   37187  40    \n",
      "scene                2407   294    6     \n",
      "Yahoo-Reference      8027   39679  33    \n",
      "Enron                1702   1001   53    \n",
      "Yahoo-Business       11214  21924  30    \n",
      "Emotions             593    72     6     \n",
      "mediamill            43907  120    101   \n",
      "rcv1subset1          6000   47236  101   \n",
      "Yahoo-Computers      12444  34096  33    \n",
      "tmc2007-500          28596  500    22    \n",
      "tmc2007              28596  49060  22    \n",
      "Yahoo-Arts           7484   23146  26    \n",
      "Medical              978    1449   45    \n",
      "Image                2000   294    5     \n",
      "Corel5k              5000   499    374   \n",
      "Yahoo-Society        14512  31802  27    \n",
      "Bibtex               7395   1836   159   \n",
      "Yahoo-Entertainment  12730  32001  21    \n",
      "yeast                2417   103    14    \n",
      "Slashdot             3782   1079   22    \n",
      "Yahoo-Health         9205   30605  32    \n",
      "delicious            16105  500    983   \n",
      "Yahoo-Education      12030  27534  33    \n",
      "rcv1subset5          6000   47235  101   \n",
      "Yahoo-Recreation     12828  30324  22    \n"
     ]
    }
   ],
   "source": [
    "datasets = {k for k, v in available_datasets()}\n",
    "print_mll_datasets_info(datasets)"
   ]
  },
  {
   "cell_type": "code",
   "execution_count": 20,
   "id": "d3414c23",
   "metadata": {
    "ExecuteTime": {
     "end_time": "2023-09-27T05:14:57.244186Z",
     "start_time": "2023-09-27T05:14:57.228708Z"
    }
   },
   "outputs": [],
   "source": [
    "from leemultilearn.metrics import (\n",
    "    hamming_loss,\n",
    "    label_ranking_loss,\n",
    "    average_precision_score,\n",
    "    coverage_error,\n",
    "    one_error,\n",
    ")\n",
    "from scipy.sparse import issparse"
   ]
  },
  {
   "cell_type": "code",
   "execution_count": 21,
   "id": "31e566e9",
   "metadata": {
    "ExecuteTime": {
     "end_time": "2023-09-27T05:14:58.053235Z",
     "start_time": "2023-09-27T05:14:58.034207Z"
    }
   },
   "outputs": [],
   "source": [
    "def test_result(y_test, y_pred, y_pred_proba):\n",
    "    y_test = y_test.toarray() if issparse(y_test) else y_test\n",
    "    y_pred = y_pred.toarray() if issparse(y_pred) else y_pred\n",
    "    y_pred_proba = y_pred_proba.toarray() if issparse(y_pred_proba) else y_pred_proba\n",
    "    \n",
    "    return (\n",
    "        hamming_loss(y_test, y_pred), \n",
    "        label_ranking_loss(y_test, y_pred_proba), \n",
    "        coverage_error(y_test, y_pred_proba), \n",
    "        one_error(y_test, y_pred_proba), \n",
    "        average_precision_score(y_test, y_pred_proba), \n",
    "    )"
   ]
  },
  {
   "cell_type": "code",
   "execution_count": 22,
   "id": "c6b91161",
   "metadata": {
    "ExecuteTime": {
     "end_time": "2023-09-27T05:14:59.065510Z",
     "start_time": "2023-09-27T05:14:59.058231Z"
    },
    "code_folding": []
   },
   "outputs": [],
   "source": [
    "def print_test_result(y_test, y_pred, y_pred_proba):\n",
    "    hamming_loss, label_ranking_loss, coverage_error, one_error, average_precision_score = test_result(y_test, y_pred, y_pred_proba)\n",
    "    \n",
    "    print('%15s: %.4f' % ('hamming_loss', hamming_loss))\n",
    "    print('%15s: %.4f' % ('ranking_loss', label_ranking_loss))\n",
    "    print('%15s: %.4f' % ('coverage_error', coverage_error))\n",
    "    print('%15s: %.4f' % ('one_error', one_error))\n",
    "    print('%15s: %.4f' % ('avg_precision', average_precision_score))"
   ]
  },
  {
   "cell_type": "markdown",
   "id": "946d6b8b",
   "metadata": {},
   "source": [
    "### 测试"
   ]
  },
  {
   "cell_type": "code",
   "execution_count": 23,
   "id": "97ac0393",
   "metadata": {
    "ExecuteTime": {
     "end_time": "2023-09-27T05:17:40.083090Z",
     "start_time": "2023-09-27T05:17:40.075074Z"
    }
   },
   "outputs": [
    {
     "ename": "NameError",
     "evalue": "name 'ML' is not defined",
     "output_type": "error",
     "traceback": [
      "\u001b[0;31m---------------------------------------------------------------------------\u001b[0m",
      "\u001b[0;31mNameError\u001b[0m                                 Traceback (most recent call last)",
      "Cell \u001b[0;32mIn[23], line 4\u001b[0m\n\u001b[1;32m      1\u001b[0m models \u001b[38;5;241m=\u001b[39m {\n\u001b[1;32m      2\u001b[0m     \u001b[38;5;124m'\u001b[39m\u001b[38;5;124mridge_reg(mini)\u001b[39m\u001b[38;5;124m'\u001b[39m: RidgeClf_mini,\n\u001b[1;32m      3\u001b[0m     \u001b[38;5;124m'\u001b[39m\u001b[38;5;124mmlp(BCEloss)\u001b[39m\u001b[38;5;124m'\u001b[39m: MLP_mini,\n\u001b[0;32m----> 4\u001b[0m     \u001b[38;5;124m'\u001b[39m\u001b[38;5;124mml_knn\u001b[39m\u001b[38;5;124m'\u001b[39m: \u001b[43mML\u001b[49m,\n\u001b[1;32m      5\u001b[0m     \u001b[38;5;66;03m# 'br(SVC)': model_br, \u001b[39;00m\n\u001b[1;32m      6\u001b[0m     \u001b[38;5;124m'\u001b[39m\u001b[38;5;124mridge_reg(full)\u001b[39m\u001b[38;5;124m'\u001b[39m: \u001b[38;5;28;01mlambda\u001b[39;00m: RidgeClassifier2(alpha\u001b[38;5;241m=\u001b[39m\u001b[38;5;241m0.1\u001b[39m)\n\u001b[1;32m      7\u001b[0m }\n",
      "\u001b[0;31mNameError\u001b[0m: name 'ML' is not defined"
     ]
    }
   ],
   "source": [
    "models = {\n",
    "    'ridge_reg(mini)': RidgeClf_mini,\n",
    "    'mlp(BCEloss)': MLP_mini,\n",
    "    'ml_knn': MLkNN,\n",
    "    # 'br(SVC)': model_br, \n",
    "    'ridge_reg(full)': lambda: RidgeClassifier2(alpha=0.1)\n",
    "}"
   ]
  },
  {
   "cell_type": "code",
   "execution_count": 24,
   "id": "8406ece9",
   "metadata": {
    "ExecuteTime": {
     "end_time": "2023-09-27T05:17:40.504323Z",
     "start_time": "2023-09-27T05:17:40.498275Z"
    }
   },
   "outputs": [],
   "source": [
    "import time\n",
    "from leemultilearn.dataset import available_datasets, load_dataset"
   ]
  },
  {
   "cell_type": "code",
   "execution_count": 25,
   "id": "b46aab70",
   "metadata": {
    "ExecuteTime": {
     "end_time": "2023-09-27T05:18:32.824875Z",
     "start_time": "2023-09-27T05:18:30.335320Z"
    }
   },
   "outputs": [
    {
     "name": "stdout",
     "output_type": "stream",
     "text": [
      "Image\n"
     ]
    },
    {
     "ename": "NameError",
     "evalue": "name 'models' is not defined",
     "output_type": "error",
     "traceback": [
      "\u001b[0;31m---------------------------------------------------------------------------\u001b[0m",
      "\u001b[0;31mNameError\u001b[0m                                 Traceback (most recent call last)",
      "Cell \u001b[0;32mIn[25], line 9\u001b[0m\n\u001b[1;32m      6\u001b[0m X_train, Y_train, _, _ \u001b[38;5;241m=\u001b[39m load_dataset(dataset_name, \u001b[38;5;124m'\u001b[39m\u001b[38;5;124mtrain\u001b[39m\u001b[38;5;124m'\u001b[39m)\n\u001b[1;32m      7\u001b[0m X_test,  Y_test,  _, _ \u001b[38;5;241m=\u001b[39m load_dataset(dataset_name, \u001b[38;5;124m'\u001b[39m\u001b[38;5;124mtest\u001b[39m\u001b[38;5;124m'\u001b[39m)\n\u001b[0;32m----> 9\u001b[0m \u001b[38;5;28;01mfor\u001b[39;00m model_name, model_initializer \u001b[38;5;129;01min\u001b[39;00m \u001b[43mmodels\u001b[49m\u001b[38;5;241m.\u001b[39mitems():\n\u001b[1;32m     10\u001b[0m     \u001b[38;5;28mprint\u001b[39m(\u001b[38;5;124mf\u001b[39m\u001b[38;5;124m\"\u001b[39m\u001b[38;5;124m- \u001b[39m\u001b[38;5;132;01m{\u001b[39;00mmodel_name\u001b[38;5;132;01m}\u001b[39;00m\u001b[38;5;124m training ...\u001b[39m\u001b[38;5;124m\"\u001b[39m, end\u001b[38;5;241m=\u001b[39m\u001b[38;5;124m\"\u001b[39m\u001b[38;5;124m \u001b[39m\u001b[38;5;124m\"\u001b[39m)\n\u001b[1;32m     12\u001b[0m     time_begin \u001b[38;5;241m=\u001b[39m time\u001b[38;5;241m.\u001b[39mtime()\n",
      "\u001b[0;31mNameError\u001b[0m: name 'models' is not defined"
     ]
    }
   ],
   "source": [
    "result = dict()\n",
    "\n",
    "for dataset_name in ['Image', 'Emotions', 'scene', 'yeast', 'Birds', 'Enron']:\n",
    "# for dataset_name in ['Birds', 'Yahoo-Social', 'Enron', 'rcv1subset1', 'Bibtex']:\n",
    "    print(dataset_name)\n",
    "    X_train, Y_train, _, _ = load_dataset(dataset_name, 'train')\n",
    "    X_test,  Y_test,  _, _ = load_dataset(dataset_name, 'test')\n",
    "    \n",
    "    for model_name, model_initializer in models.items():\n",
    "        print(f\"- {model_name} training ...\", end=\" \")\n",
    "        \n",
    "        time_begin = time.time()\n",
    "        \n",
    "        model = model_initializer()\n",
    "        model.fit(X_train, Y_train)\n",
    "        \n",
    "        Y_pred       = model.predict(X_test)\n",
    "        Y_pred_proba = model.predict_proba(X_test)\n",
    "        \n",
    "        time_end = time.time()\n",
    "        time_cost = time_end - time_begin\n",
    "        \n",
    "        result[(dataset_name, model_name)] = (Y_test, Y_pred, Y_pred_proba)\n",
    "        print(f\"done ({time_cost:.2f}s)\")"
   ]
  },
  {
   "cell_type": "code",
   "execution_count": 26,
   "id": "0b65e531",
   "metadata": {
    "ExecuteTime": {
     "end_time": "2023-09-27T05:18:35.164838Z",
     "start_time": "2023-09-27T05:18:35.157836Z"
    }
   },
   "outputs": [],
   "source": [
    "import warnings\n",
    "warnings.filterwarnings(\"ignore\")"
   ]
  },
  {
   "cell_type": "code",
   "execution_count": 30,
   "id": "b840e95e",
   "metadata": {
    "ExecuteTime": {
     "end_time": "2023-09-27T05:18:35.495086Z",
     "start_time": "2023-09-27T05:18:35.287077Z"
    }
   },
   "outputs": [
    {
     "name": "stdout",
     "output_type": "stream",
     "text": [
      "dataset         model               hamming_loss ranking_loss coverage_err one_err      avg_precision \n",
      "----------------------------------------------------------------------------------------------------\n",
      "Image           ridge_reg(mini)     0.1808       0.1953       0.4124       0.3520       0.6299       \n",
      "Image           ridge_reg(full)     0.1820       0.1947       0.4120       0.3500       0.6298       \n",
      "Emotions        ridge_reg(mini)     0.2219       0.1890       0.5025       0.2822       0.6920       \n",
      "Emotions        ridge_reg(full)     0.2203       0.1873       0.5017       0.2822       0.6915       \n",
      "scene           ridge_reg(mini)     0.1267       0.1354       0.2984       0.3420       0.6495       \n",
      "scene           ridge_reg(full)     0.1268       0.1358       0.2988       0.3420       0.6496       \n",
      "yeast           ridge_reg(mini)     0.2030       0.1832       0.5480       0.2366       0.4544       \n",
      "yeast           ridge_reg(full)     0.2030       0.1832       0.5481       0.2366       0.4544       \n",
      "Birds           ridge_reg(mini)     0.0556       0.1042       0.1874       0.6966       0.2352       \n",
      "Birds           ridge_reg(full)     0.0608       0.1135       0.1955       0.7152       0.2761       \n",
      "Enron           ridge_reg(mini)     0.0824       0.2049       0.3796       0.6542       0.5560       \n",
      "Enron           ridge_reg(full)     0.0826       0.2045       0.3788       0.6578       0.5544       \n"
     ]
    }
   ],
   "source": [
    "result2 = dict()\n",
    "print(f'{\"dataset\":15s} {\"model\":20s}', end='')\n",
    "print(('{:12s} ' * 5).format(\"hamming_loss\", \"ranking_loss\", \"coverage_err\", \"one_err\", \"avg_precision\"))\n",
    "print('-' * 100)\n",
    "\n",
    "for (dataset_name, model_name), (Y_test, Y_pred, Y_pred_proba) in result.items():\n",
    "    print(f'{dataset_name:15s} {model_name:20s}', end='')\n",
    "    print(('{:<12.4f} ' * 5).format(*test_result(Y_test, Y_pred, Y_pred_proba)))"
   ]
  },
  {
   "cell_type": "markdown",
   "id": "85e16771",
   "metadata": {},
   "source": [
    "`ridge_reg(mini)` 和 `ridge_reg(full)` 的结果是一致的"
   ]
  },
  {
   "cell_type": "markdown",
   "id": "3500caef",
   "metadata": {
    "heading_collapsed": true
   },
   "source": [
    "### 数据记录"
   ]
  },
  {
   "cell_type": "markdown",
   "id": "fd69e266",
   "metadata": {
    "hidden": true
   },
   "source": [
    "\n",
    "```\n",
    "dataset         model          hamming_loss ranking_loss coverage_err one_err      avg_precision \n",
    "----------------------------------------------------------------------------------------------------\n",
    "Image           ridge_reg      0.1808       0.1953       0.4124       0.3520       0.4820       \n",
    "Image           mlp(BCEloss)   0.1748       0.1683       0.3924       0.3080       0.4986       \n",
    "Image           ml_knn         0.1868       0.1895       0.4068       0.3380       0.4802       \n",
    "Image           br(SVC)        0.1864       0.1475       0.3772       0.2740       0.4369  \n",
    "-----------------------------------------------------------------------------------------\n",
    "Emotions        ridge_reg      0.2219       0.1890       0.5025       0.2822       0.5495       \n",
    "Emotions        mlp(BCEloss)   0.2252       0.1769       0.4893       0.2871       0.5406       \n",
    "Emotions        ml_knn         0.3036       0.2809       0.5734       0.4307       0.4140       \n",
    "Emotions        br(SVC)        0.3251       0.2524       0.5619       0.4257       0.3325\n",
    "-----------------------------------------------------------------------------------------\n",
    "scene           ridge_reg      0.1267       0.1354       0.2984       0.3420       0.4748       \n",
    "scene           mlp(BCEloss)   0.1073       0.0897       0.2582       0.2567       0.5518       \n",
    "scene           ml_knn         0.0900       0.0939       0.2620       0.2349       0.6054       \n",
    "scene           br(SVC)        0.0842       0.0628       0.2355       0.1931       0.6295\n",
    "-----------------------------------------------------------------------------------------\n",
    "yeast           ridge_reg      0.2030       0.1832       0.5480       0.2366       0.3644       \n",
    "yeast           mlp(BCEloss)   0.2045       0.1811       0.5435       0.2497       0.3691       \n",
    "yeast           ml_knn         0.2092       0.1806       0.5400       0.2519       0.3734       \n",
    "yeast           br(SVC)        0.1866       0.1600       0.5189       0.2356       0.3869\n",
    "```"
   ]
  },
  {
   "cell_type": "markdown",
   "id": "1ad8c15b",
   "metadata": {
    "hidden": true
   },
   "source": [
    "看起来四个基础模型都差不太多，\n",
    "师兄虽然跟我说用 BCE loss 效果特别好，\n",
    "但在这些 multi-label learning 数据集上没看出来 (抱歉). \n",
    "\n",
    "`br(SVC)` 因为没有并行所以需要 q 个模型分别训练，特别慢. "
   ]
  },
  {
   "cell_type": "markdown",
   "id": "794041c3",
   "metadata": {
    "hidden": true
   },
   "source": [
    "```\n",
    "dataset         model          hamming_loss ranking_loss coverage_err one_err      avg_precision \n",
    "----------------------------------------------------------------------------------------------------\n",
    "Birds           ridge_reg      0.0556       0.1042       0.1874       0.6966       0.1428       \n",
    "Birds           mlp(BCEloss)   0.0565       0.1993       0.2953       0.8328       0.0839       \n",
    "Birds           ml_knn         0.0538       0.1690       0.2496       0.8824       0.0524\n",
    "-----------------------------------------------------------------------------------------\n",
    "Yahoo-Social    ridge_reg      0.0629       0.1891       0.2554       0.4697       0.0669       \n",
    "Yahoo-Social    mlp(BCEloss)   0.0199       0.0464       0.0948       0.2502       0.1525       \n",
    "Yahoo-Social    ml_knn         0.0230       0.0614       0.1076       0.3398       0.1201\n",
    "-----------------------------------------------------------------------------------------\n",
    "Enron           ridge_reg      0.0824       0.2049       0.3796       0.6542       0.3927       \n",
    "Enron           mlp(BCEloss)   0.0441       0.1358       0.2974       0.5989       0.5617       \n",
    "Enron           ml_knn         0.0512       0.1375       0.2932       0.6756       0.4620\n",
    "-----------------------------------------------------------------------------------------\n",
    "rcv1subset1     ridge_reg      0.0412       0.4246       0.6566       0.8763       0.0600       \n",
    "rcv1subset1     mlp(BCEloss)   0.0406       0.4033       0.6278       0.8673       0.0550       \n",
    "rcv1subset1     ml_knn         0.0434       0.4352       0.6443       0.8937       0.0592\n",
    "-----------------------------------------------------------------------------------------\n",
    "Bibtex          ridge_reg      0.0127       0.1200       0.2347       0.3650       0.1420\n",
    "Bibtex          mlp(BCEloss)   0.0142       0.1112       0.2066       0.4358       0.1508       \n",
    "Bibtex          ml_knn         0.0151       0.2576       0.4097       0.5956       0.0710       \n",
    "```"
   ]
  },
  {
   "cell_type": "markdown",
   "id": "01753a99",
   "metadata": {
    "hidden": true
   },
   "source": [
    "看起来在更大的数据集上面这些模型的表现还有很大很大提升空间，\n",
    "毕竟 `avg_precision` 太低而 `one_err` 太高了. "
   ]
  },
  {
   "cell_type": "markdown",
   "id": "e22d61e4",
   "metadata": {
    "heading_collapsed": true
   },
   "source": [
    "## 偏多标记测试"
   ]
  },
  {
   "cell_type": "code",
   "execution_count": 21,
   "id": "584d5e00",
   "metadata": {
    "ExecuteTime": {
     "end_time": "2023-09-27T05:10:36.864586Z",
     "start_time": "2023-09-27T05:10:36.843971Z"
    },
    "hidden": true
   },
   "outputs": [],
   "source": [
    "from leemultilearn.pml_dataset import available_datasets, load_dataset"
   ]
  },
  {
   "cell_type": "code",
   "execution_count": null,
   "id": "5c38d762",
   "metadata": {
    "ExecuteTime": {
     "start_time": "2023-09-27T05:10:37.137Z"
    },
    "hidden": true
   },
   "outputs": [
    {
     "name": "stdout",
     "output_type": "stream",
     "text": [
      "YeastMF\n",
      "- ridge_reg training ... done (1.76s)\n",
      "- ridge_reg2 training ... "
     ]
    }
   ],
   "source": [
    "result = dict()\n",
    "\n",
    "for dataset_name in {k for k, v in available_datasets()}:\n",
    "    print(dataset_name)\n",
    "    X_train, _,      Yc_train = load_dataset(dataset_name, 'train')\n",
    "    X_test,  Y_test, _        = load_dataset(dataset_name, 'test')\n",
    "    \n",
    "    for model_name, model_initializer in models.items():\n",
    "        print(f\"- {model_name} training ...\", end=\" \")\n",
    "        \n",
    "        time_begin = time.time()\n",
    "        \n",
    "        model = model_initializer()\n",
    "        model.fit(X_train, Yc_train)\n",
    "        \n",
    "        Y_pred       = model.predict(X_test)\n",
    "        Y_pred_proba = model.predict_proba(X_test)\n",
    "        \n",
    "        time_end = time.time()\n",
    "        time_cost = time_end - time_begin\n",
    "        \n",
    "        result[(dataset_name, model_name)] = (Y_test, Y_pred, Y_pred_proba)\n",
    "        print(f\"done ({time_cost:.2f}s)\")"
   ]
  },
  {
   "cell_type": "code",
   "execution_count": 99,
   "id": "f34e9ecf",
   "metadata": {
    "ExecuteTime": {
     "end_time": "2023-09-27T04:15:06.118445Z",
     "start_time": "2023-09-27T04:15:05.189125Z"
    },
    "hidden": true
   },
   "outputs": [
    {
     "name": "stdout",
     "output_type": "stream",
     "text": [
      "dataset         model          hamming_loss ranking_loss coverage_err one_err      avg_precision \n",
      "----------------------------------------------------------------------------------------------------\n",
      "YeastMF         ridge_reg2     0.1135       0.1544       0.1969       0.9235       0.0822       \n",
      "mirflickr       ridge_reg2     0.2160       0.1480       0.3933       0.3102       0.5689       \n",
      "music_style     ridge_reg2     0.7114       0.1472       0.3059       0.3562       0.3443       \n",
      "YeastCC         ridge_reg2     0.1054       0.1299       0.1897       0.8740       0.1399       \n",
      "music_emotion   ridge_reg2     0.3286       0.2552       0.5099       0.4951       0.4146       \n",
      "YeastBP         ridge_reg2     0.0984       0.2370       0.4016       0.8534       0.1291       \n"
     ]
    }
   ],
   "source": [
    "result2 = dict()\n",
    "print(f'{\"dataset\":15s} {\"model\":15s}', end='')\n",
    "print(('{:12s} ' * 5).format(\"hamming_loss\", \"ranking_loss\", \"coverage_err\", \"one_err\", \"avg_precision\"))\n",
    "print('-' * 100)\n",
    "\n",
    "for (dataset_name, model_name), (Y_test, Y_pred, Y_pred_proba) in result.items():\n",
    "    print(f'{dataset_name:15s} {model_name:15s}', end='')\n",
    "    print(('{:<12.4f} ' * 5).format(*test_result(Y_test, Y_pred, Y_pred_proba)))"
   ]
  },
  {
   "cell_type": "markdown",
   "id": "f86b5aa2",
   "metadata": {
    "heading_collapsed": true,
    "hidden": true
   },
   "source": [
    "### 数据记录"
   ]
  },
  {
   "cell_type": "markdown",
   "id": "b4987977",
   "metadata": {
    "hidden": true
   },
   "source": [
    "```\n",
    "dataset         model          hamming_loss ranking_loss coverage_err one_err      avg_precision \n",
    "----------------------------------------------------------------------------------------------------\n",
    "YeastMF         ridge_reg      0.1135       0.1544       0.1969       0.9235       0.0427       \n",
    "YeastMF         mlp(BCEloss)   0.0274       0.0932       0.1321       0.8393       0.0948       \n",
    "YeastMF         ml_knn         0.0269       0.1493       0.1940       0.9273       0.0486\n",
    "-----------------------------------------------------------------------------------------\n",
    "mirflickr       ridge_reg      0.2160       0.1480       0.3933       0.3102       0.4151       \n",
    "mirflickr       mlp(BCEloss)   0.2178       0.1071       0.3604       0.2633       0.4187       \n",
    "mirflickr       ml_knn         0.2237       0.1371       0.3985       0.2032       0.4084\n",
    "-----------------------------------------------------------------------------------------\n",
    "music_style     ridge_reg      0.7114       0.1472       0.3059       0.3562       0.1545       \n",
    "music_style     mlp(BCEloss)   0.4646       0.6461       0.7477       0.9479       0.1434       \n",
    "music_style     ml_knn         0.6358       0.2939       0.4493       0.5658       0.1460\n",
    "-----------------------------------------------------------------------------------------\n",
    "YeastCC         ridge_reg      0.1054       0.1299       0.1897       0.8740       0.0657       \n",
    "YeastCC         mlp(BCEloss)   0.0260       0.0653       0.1149       0.7736       0.1927       \n",
    "YeastCC         ml_knn         0.0281       0.1273       0.1905       0.8599       0.1122\n",
    "-----------------------------------------------------------------------------------------\n",
    "music_emotion   ridge_reg      0.3286       0.2552       0.5099       0.4951       0.2932       \n",
    "music_emotion   mlp(BCEloss)   0.4474       0.6719       0.8665       0.7541       0.2210       \n",
    "music_emotion   ml_knn         0.4187       0.3955       0.6509       0.6254       0.2241\n",
    "-----------------------------------------------------------------------------------------\n",
    "YeastBP         ridge_reg      0.0984       0.2370       0.4016       0.8534       0.0591       \n",
    "YeastBP         mlp(BCEloss)   0.0269       0.1460       0.2843       0.7139       0.1473       \n",
    "YeastBP         ml_knn         0.0265       0.2375       0.3978       0.8252       0.1027     \n",
    "```"
   ]
  },
  {
   "cell_type": "code",
   "execution_count": 88,
   "id": "9f556359",
   "metadata": {
    "ExecuteTime": {
     "end_time": "2023-09-27T04:02:02.014772Z",
     "start_time": "2023-09-27T04:02:02.004266Z"
    },
    "hidden": true
   },
   "outputs": [],
   "source": [
    "Y_test, Y_pred, Y_pred_proba = result[('mirflickr', 'ridge_reg')]"
   ]
  },
  {
   "cell_type": "code",
   "execution_count": 85,
   "id": "3e8edcc5",
   "metadata": {
    "ExecuteTime": {
     "end_time": "2023-09-27T03:59:10.617908Z",
     "start_time": "2023-09-27T03:59:10.599420Z"
    },
    "hidden": true
   },
   "outputs": [
    {
     "data": {
      "text/plain": [
       "0.02575591547956789"
      ]
     },
     "execution_count": 85,
     "metadata": {},
     "output_type": "execute_result"
    }
   ],
   "source": [
    "Y_test.mean()"
   ]
  },
  {
   "cell_type": "markdown",
   "id": "07b19b4a",
   "metadata": {},
   "source": [
    "## mixup"
   ]
  },
  {
   "cell_type": "code",
   "execution_count": 32,
   "id": "d85ddf46",
   "metadata": {
    "ExecuteTime": {
     "end_time": "2023-09-27T05:19:35.632640Z",
     "start_time": "2023-09-27T05:19:35.626616Z"
    }
   },
   "outputs": [],
   "source": [
    "import torch\n",
    "import torch.nn as nn\n",
    "from torch.utils.data import DataLoader, Dataset\n",
    "import random\n",
    "from leemultilearn.utils.convert import to_ndarray"
   ]
  },
  {
   "cell_type": "code",
   "execution_count": 33,
   "id": "2bc2a05d",
   "metadata": {
    "ExecuteTime": {
     "end_time": "2023-09-27T05:19:36.548177Z",
     "start_time": "2023-09-27T05:19:36.506156Z"
    }
   },
   "outputs": [],
   "source": [
    "seed = 42\n",
    "torch.manual_seed(seed)\n",
    "np.random.seed(seed)\n",
    "random.seed(seed)"
   ]
  },
  {
   "cell_type": "code",
   "execution_count": 43,
   "id": "72985837",
   "metadata": {
    "ExecuteTime": {
     "end_time": "2023-09-27T05:21:11.465023Z",
     "start_time": "2023-09-27T05:21:11.448946Z"
    },
    "code_folding": []
   },
   "outputs": [],
   "source": [
    "from leemultilearn.dataset import load_dataset\n",
    "\n",
    "class MllDataset(Dataset):\n",
    "    def __init__(self, name, divide):\n",
    "        X, Y, _, _ = load_dataset(name, divide)\n",
    "        self.X = X\n",
    "        self.Y = Y\n",
    "        self.num_samples = X.shape[0]\n",
    "        self.dim_features = X.shape[1]\n",
    "        self.dim_labels = Y.shape[1]\n",
    "        \n",
    "    def __getitem__(self, index):\n",
    "        return to_ndarray(self.X[index, :]), to_ndarray(self.Y[index, :])\n",
    "        \n",
    "    def __len__(self):\n",
    "        return self.num_samples"
   ]
  },
  {
   "cell_type": "code",
   "execution_count": 194,
   "id": "2fbf66fc",
   "metadata": {
    "ExecuteTime": {
     "end_time": "2023-09-27T06:32:52.575019Z",
     "start_time": "2023-09-27T06:32:52.546020Z"
    }
   },
   "outputs": [],
   "source": [
    "train_dataset = MllDataset(name='Scene', divide='train')\n",
    "test_dataset = MllDataset(name='Scene', divide='test')\n",
    "train_dataloader = DataLoader(\n",
    "    train_dataset, \n",
    "    batch_size=64, \n",
    "    shuffle=True\n",
    ")\n",
    "test_dataloader = DataLoader(\n",
    "    test_dataset, \n",
    "    batch_size=64, \n",
    "    shuffle=True\n",
    ")"
   ]
  },
  {
   "cell_type": "code",
   "execution_count": 125,
   "id": "1ada46d3",
   "metadata": {
    "ExecuteTime": {
     "end_time": "2023-09-27T05:39:34.628715Z",
     "start_time": "2023-09-27T05:39:34.616719Z"
    },
    "code_folding": [
     0
    ]
   },
   "outputs": [],
   "source": [
    "class MlpNet(torch.nn.Module):\n",
    "    def __init__(self, in_features, out_features, hidden_layer_sizes=[]):\n",
    "        super(MlpNet, self).__init__()\n",
    "        \n",
    "        sizes = [in_features] + list(hidden_layer_sizes) + [out_features]\n",
    "        \n",
    "        sequential = []\n",
    "        sequential.append(torch.nn.Flatten())\n",
    "        sequential.append(torch.nn.Linear(sizes[0], sizes[1], bias=True))\n",
    "        for in_, out_ in zip(sizes[1:-1], sizes[2:]):\n",
    "            sequential.append(torch.nn.ReLU(inplace=True))\n",
    "            sequential.append(torch.nn.Linear(in_, out_, bias=True))\n",
    "        sequential.append(nn.Sigmoid())\n",
    "        \n",
    "        self.sequential = nn.Sequential(*sequential)\n",
    "            \n",
    "    def forward(self, x):\n",
    "        x = x.to(torch.float32)\n",
    "        x = self.sequential(x)\n",
    "        return x"
   ]
  },
  {
   "cell_type": "code",
   "execution_count": 166,
   "id": "040fefb9",
   "metadata": {
    "ExecuteTime": {
     "end_time": "2023-09-27T05:49:22.787450Z",
     "start_time": "2023-09-27T05:49:22.781448Z"
    },
    "code_folding": []
   },
   "outputs": [],
   "source": [
    "def train(model, dataloader, criterion, optimizer, epochs=5, verbose=True):\n",
    "    model.train()\n",
    "    for epoch in range(epochs):\n",
    "        \n",
    "        epoch_loss = 0.0\n",
    "        \n",
    "        for X, Y in dataloader:\n",
    "            Y = Y.squeeze().to(torch.float32)\n",
    "            \n",
    "            # # Mixup inputs.\n",
    "            # lambda_ = np.random.beta(alpha, alpha)\n",
    "            # idxs = torch.randperm(X.size(0))\n",
    "            # mixed_X = lambda_ * X + (1 - lambda_) * X[idxs, :]\n",
    "            # \n",
    "            # # Mixup loss.    \n",
    "            # Y_pred = model(X)\n",
    "            # loss = lambda_ * criterion(Y_pred, Y) + (1 - lambda_) * criterion(Y_pred, Y[idxs, :])\n",
    "            \n",
    "            # no Mixup\n",
    "            Y_pred = model(X)\n",
    "            loss = criterion(Y_pred, Y)\n",
    "            \n",
    "            loss.backward()\n",
    "            optimizer.step()\n",
    "            optimizer.zero_grad()\n",
    "            \n",
    "            epoch_loss += loss.item()\n",
    "        \n",
    "        if verbose and (epoch + 1) % 10 == 0:\n",
    "            print(f'epoch={epoch:<2d}, loss={epoch_loss:<8.2f}')"
   ]
  },
  {
   "cell_type": "code",
   "execution_count": 180,
   "id": "809ba55a",
   "metadata": {
    "ExecuteTime": {
     "end_time": "2023-09-27T05:53:37.791273Z",
     "start_time": "2023-09-27T05:53:37.778209Z"
    },
    "code_folding": []
   },
   "outputs": [],
   "source": [
    "def train_with_mixup(model, dataloader, criterion, optimizer, epochs=5, alpha=0.2, verbose=True):\n",
    "    model.train()\n",
    "    for epoch in range(epochs):\n",
    "        \n",
    "        epoch_loss = 0.0\n",
    "        \n",
    "        for X, Y in dataloader:\n",
    "            Y = Y.squeeze().to(torch.float32)\n",
    "            \n",
    "            # Mixup inputs.\n",
    "            lambda_ = np.random.beta(alpha, alpha)\n",
    "            idxs = torch.randperm(X.size(0))\n",
    "            mixed_X = lambda_ * X + (1 - lambda_) * X[idxs, :]\n",
    "            \n",
    "            # Mixup loss.    \n",
    "            Y_pred = model(X)\n",
    "            loss = lambda_ * criterion(Y_pred, Y) + (1 - lambda_) * criterion(Y_pred, Y[idxs, :])\n",
    "            \n",
    "            # # no Mixup\n",
    "            # Y_pred = model(X)\n",
    "            # loss = criterion(Y_pred, Y)\n",
    "            \n",
    "            loss.backward()\n",
    "            optimizer.step()\n",
    "            optimizer.zero_grad()\n",
    "            \n",
    "            epoch_loss += loss.item()\n",
    "        \n",
    "        if verbose and (epoch + 1) % 10 == 0:\n",
    "            print(f'epoch={epoch:<2d}, loss={epoch_loss:<8.2f}')"
   ]
  },
  {
   "cell_type": "code",
   "execution_count": 168,
   "id": "cc58c596",
   "metadata": {
    "ExecuteTime": {
     "end_time": "2023-09-27T05:49:31.974554Z",
     "start_time": "2023-09-27T05:49:31.965488Z"
    },
    "code_folding": []
   },
   "outputs": [],
   "source": [
    "def test(model, dataloader):\n",
    "    model.eval()\n",
    "    X_test, Y_test = next(iter(test_dataloader))\n",
    "    Y_test = Y_test.squeeze().numpy()\n",
    "    # no Mixup\n",
    "    Y_pred_proba = model(X_test).detach().squeeze().numpy()\n",
    "    Y_pred = Y_pred_proba > 0.5\n",
    "    \n",
    "    print_test_result(Y_test, Y_pred, Y_pred_proba)"
   ]
  },
  {
   "cell_type": "markdown",
   "id": "d3ca0d5c",
   "metadata": {},
   "source": [
    "### model without mixup"
   ]
  },
  {
   "cell_type": "code",
   "execution_count": 193,
   "id": "09e84764",
   "metadata": {
    "ExecuteTime": {
     "end_time": "2023-09-27T06:31:28.561199Z",
     "start_time": "2023-09-27T06:31:28.540633Z"
    }
   },
   "outputs": [],
   "source": [
    "model = MlpNet(\n",
    "    in_features=train_dataset.dim_features, \n",
    "    out_features=train_dataset.dim_labels\n",
    ")\n",
    "criterion = nn.BCELoss()\n",
    "optimizer = torch.optim.SGD(model.parameters(), lr=1.0)"
   ]
  },
  {
   "cell_type": "code",
   "execution_count": 179,
   "id": "eaab0d37",
   "metadata": {
    "ExecuteTime": {
     "end_time": "2023-09-27T05:53:37.775214Z",
     "start_time": "2023-09-27T05:52:50.424649Z"
    }
   },
   "outputs": [
    {
     "name": "stdout",
     "output_type": "stream",
     "text": [
      "epoch=9 , loss=5.01    \n",
      "epoch=19, loss=4.55    \n",
      "epoch=29, loss=4.30    \n",
      "epoch=39, loss=4.14    \n",
      "epoch=49, loss=4.04    \n",
      "epoch=59, loss=3.93    \n",
      "epoch=69, loss=3.83    \n",
      "epoch=79, loss=3.77    \n",
      "epoch=89, loss=3.70    \n",
      "epoch=99, loss=3.67    \n"
     ]
    }
   ],
   "source": [
    "train(model, train_dataloader, criterion, optimizer, epochs=100)"
   ]
  },
  {
   "cell_type": "code",
   "execution_count": 181,
   "id": "6e023cdb",
   "metadata": {
    "ExecuteTime": {
     "end_time": "2023-09-27T05:53:39.951047Z",
     "start_time": "2023-09-27T05:53:39.884035Z"
    }
   },
   "outputs": [
    {
     "name": "stdout",
     "output_type": "stream",
     "text": [
      "   hamming_loss: 0.0938\n",
      "   ranking_loss: 0.0805\n",
      " coverage_error: 0.2474\n",
      "      one_error: 0.2500\n",
      "  avg_precision: 0.8148\n"
     ]
    }
   ],
   "source": [
    "test(model, test_dataloader)"
   ]
  },
  {
   "cell_type": "code",
   "execution_count": 182,
   "id": "2edd7bbf",
   "metadata": {
    "ExecuteTime": {
     "end_time": "2023-09-27T05:55:16.196420Z",
     "start_time": "2023-09-27T05:54:29.281122Z"
    }
   },
   "outputs": [
    {
     "name": "stdout",
     "output_type": "stream",
     "text": [
      "epoch=9 , loss=3.62    \n",
      "epoch=19, loss=3.56    \n",
      "epoch=29, loss=3.53    \n",
      "epoch=39, loss=3.47    \n",
      "epoch=49, loss=3.47    \n",
      "epoch=59, loss=3.41    \n",
      "epoch=69, loss=3.38    \n",
      "epoch=79, loss=3.36    \n",
      "epoch=89, loss=3.33    \n",
      "epoch=99, loss=3.30    \n"
     ]
    }
   ],
   "source": [
    "train(model, train_dataloader, criterion, optimizer, epochs=100)"
   ]
  },
  {
   "cell_type": "code",
   "execution_count": 183,
   "id": "68591cbf",
   "metadata": {
    "ExecuteTime": {
     "end_time": "2023-09-27T05:55:19.158145Z",
     "start_time": "2023-09-27T05:55:19.104557Z"
    }
   },
   "outputs": [
    {
     "name": "stdout",
     "output_type": "stream",
     "text": [
      "   hamming_loss: 0.0833\n",
      "   ranking_loss: 0.0488\n",
      " coverage_error: 0.2161\n",
      "      one_error: 0.2031\n",
      "  avg_precision: 0.7743\n"
     ]
    }
   ],
   "source": [
    "test(model, test_dataloader)"
   ]
  },
  {
   "cell_type": "code",
   "execution_count": 184,
   "id": "2e3ff4d2",
   "metadata": {
    "ExecuteTime": {
     "end_time": "2023-09-27T05:56:49.564588Z",
     "start_time": "2023-09-27T05:55:36.928365Z"
    }
   },
   "outputs": [
    {
     "name": "stdout",
     "output_type": "stream",
     "text": [
      "epoch=9 , loss=3.28    \n",
      "epoch=19, loss=3.24    \n",
      "epoch=29, loss=3.21    \n",
      "epoch=39, loss=3.19    \n",
      "epoch=49, loss=3.18    \n",
      "epoch=59, loss=3.16    \n",
      "epoch=69, loss=3.14    \n",
      "epoch=79, loss=3.12    \n",
      "epoch=89, loss=3.12    \n",
      "epoch=99, loss=3.10    \n"
     ]
    }
   ],
   "source": [
    "train(model, train_dataloader, criterion, optimizer, epochs=100)"
   ]
  },
  {
   "cell_type": "code",
   "execution_count": 185,
   "id": "1be50948",
   "metadata": {
    "ExecuteTime": {
     "end_time": "2023-09-27T05:56:49.691386Z",
     "start_time": "2023-09-27T05:56:49.569634Z"
    }
   },
   "outputs": [
    {
     "name": "stdout",
     "output_type": "stream",
     "text": [
      "   hamming_loss: 0.0964\n",
      "   ranking_loss: 0.0930\n",
      " coverage_error: 0.2682\n",
      "      one_error: 0.2656\n",
      "  avg_precision: 0.7530\n"
     ]
    }
   ],
   "source": [
    "test(model, test_dataloader)"
   ]
  },
  {
   "cell_type": "markdown",
   "id": "912acaf7",
   "metadata": {
    "heading_collapsed": true
   },
   "source": [
    "### model with mixup"
   ]
  },
  {
   "cell_type": "code",
   "execution_count": 186,
   "id": "9e715554",
   "metadata": {
    "ExecuteTime": {
     "end_time": "2023-09-27T05:57:05.258765Z",
     "start_time": "2023-09-27T05:57:05.246776Z"
    },
    "hidden": true
   },
   "outputs": [],
   "source": [
    "model2 = MlpNet(in_features=294, out_features=6)\n",
    "criterion = nn.BCELoss()\n",
    "optimizer = torch.optim.SGD(model2.parameters(), lr=1.0)"
   ]
  },
  {
   "cell_type": "code",
   "execution_count": 187,
   "id": "c692c856",
   "metadata": {
    "ExecuteTime": {
     "end_time": "2023-09-27T05:58:59.543043Z",
     "start_time": "2023-09-27T05:57:07.546532Z"
    },
    "hidden": true
   },
   "outputs": [
    {
     "name": "stdout",
     "output_type": "stream",
     "text": [
      "epoch=9 , loss=8.59    \n",
      "epoch=19, loss=7.86    \n",
      "epoch=29, loss=7.98    \n",
      "epoch=39, loss=7.85    \n",
      "epoch=49, loss=7.67    \n",
      "epoch=59, loss=7.68    \n",
      "epoch=69, loss=7.73    \n",
      "epoch=79, loss=7.51    \n",
      "epoch=89, loss=7.31    \n",
      "epoch=99, loss=7.95    \n"
     ]
    }
   ],
   "source": [
    "train_with_mixup(model2, train_dataloader, criterion, optimizer, epochs=100, alpha=0.2)"
   ]
  },
  {
   "cell_type": "code",
   "execution_count": 188,
   "id": "0a3ddd09",
   "metadata": {
    "ExecuteTime": {
     "end_time": "2023-09-27T05:58:59.685646Z",
     "start_time": "2023-09-27T05:58:59.548088Z"
    },
    "hidden": true
   },
   "outputs": [
    {
     "name": "stdout",
     "output_type": "stream",
     "text": [
      "   hamming_loss: 0.0911\n",
      "   ranking_loss: 0.0730\n",
      " coverage_error: 0.2500\n",
      "      one_error: 0.2031\n",
      "  avg_precision: 0.7782\n"
     ]
    }
   ],
   "source": [
    "test(model, test_dataloader)"
   ]
  },
  {
   "cell_type": "code",
   "execution_count": 189,
   "id": "6c1ec201",
   "metadata": {
    "ExecuteTime": {
     "end_time": "2023-09-27T06:01:36.000429Z",
     "start_time": "2023-09-27T05:59:48.247606Z"
    },
    "hidden": true
   },
   "outputs": [
    {
     "name": "stdout",
     "output_type": "stream",
     "text": [
      "epoch=9 , loss=8.13    \n",
      "epoch=19, loss=7.42    \n",
      "epoch=29, loss=8.58    \n",
      "epoch=39, loss=7.86    \n",
      "epoch=49, loss=7.92    \n",
      "epoch=59, loss=6.78    \n",
      "epoch=69, loss=7.74    \n",
      "epoch=79, loss=8.07    \n",
      "epoch=89, loss=7.58    \n",
      "epoch=99, loss=7.55    \n"
     ]
    }
   ],
   "source": [
    "train_with_mixup(model2, train_dataloader, criterion, optimizer, epochs=100, alpha=0.2)"
   ]
  },
  {
   "cell_type": "code",
   "execution_count": 190,
   "id": "6f2aebb3",
   "metadata": {
    "ExecuteTime": {
     "end_time": "2023-09-27T06:01:36.110149Z",
     "start_time": "2023-09-27T06:01:36.002407Z"
    },
    "hidden": true
   },
   "outputs": [
    {
     "name": "stdout",
     "output_type": "stream",
     "text": [
      "   hamming_loss: 0.0990\n",
      "   ranking_loss: 0.1059\n",
      " coverage_error: 0.2734\n",
      "      one_error: 0.2656\n",
      "  avg_precision: 0.7764\n"
     ]
    }
   ],
   "source": [
    "test(model, test_dataloader)"
   ]
  },
  {
   "cell_type": "code",
   "execution_count": 191,
   "id": "e802ffac",
   "metadata": {
    "ExecuteTime": {
     "end_time": "2023-09-27T06:04:01.523559Z",
     "start_time": "2023-09-27T06:02:06.108550Z"
    },
    "hidden": true
   },
   "outputs": [
    {
     "name": "stdout",
     "output_type": "stream",
     "text": [
      "epoch=9 , loss=7.78    \n",
      "epoch=19, loss=7.61    \n",
      "epoch=29, loss=8.11    \n",
      "epoch=39, loss=7.64    \n",
      "epoch=49, loss=8.27    \n",
      "epoch=59, loss=7.31    \n",
      "epoch=69, loss=7.88    \n",
      "epoch=79, loss=7.76    \n",
      "epoch=89, loss=7.92    \n",
      "epoch=99, loss=7.40    \n"
     ]
    }
   ],
   "source": [
    "train_with_mixup(model2, train_dataloader, criterion, optimizer, epochs=100, alpha=0.2)"
   ]
  },
  {
   "cell_type": "code",
   "execution_count": 74,
   "id": "1d834b92",
   "metadata": {
    "ExecuteTime": {
     "end_time": "2023-09-27T03:43:24.843498Z",
     "start_time": "2023-09-27T03:43:24.785885Z"
    },
    "hidden": true
   },
   "outputs": [
    {
     "ename": "NameError",
     "evalue": "name 'nn' is not defined",
     "output_type": "error",
     "traceback": [
      "\u001b[1;31m---------------------------------------------------------------------------\u001b[0m",
      "\u001b[1;31mNameError\u001b[0m                                 Traceback (most recent call last)",
      "Cell \u001b[1;32mIn[74], line 1\u001b[0m\n\u001b[1;32m----> 1\u001b[0m criterion \u001b[38;5;241m=\u001b[39m \u001b[43mnn\u001b[49m\u001b[38;5;241m.\u001b[39mCrossEntropyLoss()\n\u001b[0;32m      2\u001b[0m \u001b[38;5;28;01mfor\u001b[39;00m x, y \u001b[38;5;129;01min\u001b[39;00m train_loader:\n\u001b[0;32m      3\u001b[0m     x, y \u001b[38;5;241m=\u001b[39m x\u001b[38;5;241m.\u001b[39mcuda(), y\u001b[38;5;241m.\u001b[39mcuda()\n",
      "\u001b[1;31mNameError\u001b[0m: name 'nn' is not defined"
     ]
    }
   ],
   "source": [
    "# criterion = nn.CrossEntropyLoss()\n",
    "# for x, y in train_loader:\n",
    "#     x, y = x.cuda(), y.cuda()\n",
    "#     # Mixup inputs.\n",
    "#     lam = np.random.beta(alpha, alpha)\n",
    "#     index = torch.randperm(x.size(0)).cuda()\n",
    "#     mixed_x = lam * x + (1 - lam) * x[index, :]\n",
    "#     # Mixup loss.    \n",
    "#     pred = model(mixed_x)\n",
    "#     loss = lam * criterion(pred, y) + (1 - lam) * criterion(pred, y[index])\n",
    "#     optimizer.zero_grad()\n",
    "#     loss.backward()\n",
    "#     optimizer.step()\n"
   ]
  },
  {
   "cell_type": "markdown",
   "id": "6a3f8ca0",
   "metadata": {
    "heading_collapsed": true
   },
   "source": [
    "### test on different dataset"
   ]
  },
  {
   "cell_type": "code",
   "execution_count": 197,
   "id": "721392e6",
   "metadata": {
    "ExecuteTime": {
     "end_time": "2023-09-27T06:49:30.718580Z",
     "start_time": "2023-09-27T06:49:30.697474Z"
    },
    "hidden": true
   },
   "outputs": [],
   "source": [
    "def test_on_dataset(dataset_name):\n",
    "    train_dataset = MllDataset(name=dataset_name, divide='train')\n",
    "    test_dataset = MllDataset(name=dataset_name, divide='test')\n",
    "    train_dataloader = DataLoader(train_dataset, batch_size=64, shuffle=True)\n",
    "    test_dataloader = DataLoader(test_dataset, batch_size=64, shuffle=True)\n",
    "    \n",
    "    criterion = nn.BCELoss()\n",
    "    \n",
    "    model_without_mixup = MlpNet(\n",
    "        in_features=train_dataset.dim_features, \n",
    "        out_features=train_dataset.dim_labels\n",
    "    )\n",
    "    optimizer_without_mixup = torch.optim.SGD(model_without_mixup.parameters(), lr=0.1)\n",
    "    \n",
    "    train(model_without_mixup, train_dataloader, criterion, optimizer_without_mixup, epochs=200)\n",
    "    test(model_without_mixup, test_dataloader)\n",
    "    \n",
    "    model_with_mixup = MlpNet(\n",
    "        in_features=train_dataset.dim_features, \n",
    "        out_features=train_dataset.dim_labels\n",
    "    )\n",
    "    optimizer_with_mixup = torch.optim.SGD(model_with_mixup.parameters(), lr=0.1)\n",
    "    \n",
    "    train_with_mixup(model_with_mixup, train_dataloader, criterion, optimizer_with_mixup, epochs=200)\n",
    "    test(model_with_mixup, test_dataloader)   \n",
    "    "
   ]
  },
  {
   "cell_type": "code",
   "execution_count": 198,
   "id": "3c16d2a2",
   "metadata": {
    "ExecuteTime": {
     "end_time": "2023-09-27T06:57:04.165232Z",
     "start_time": "2023-09-27T06:49:36.405042Z"
    },
    "hidden": true
   },
   "outputs": [
    {
     "name": "stdout",
     "output_type": "stream",
     "text": [
      "epoch=9 , loss=7.18    \n",
      "epoch=19, loss=6.38    \n",
      "epoch=29, loss=5.94    \n",
      "epoch=39, loss=5.66    \n",
      "epoch=49, loss=5.45    \n",
      "epoch=59, loss=5.30    \n",
      "epoch=69, loss=5.17    \n",
      "epoch=79, loss=5.07    \n",
      "epoch=89, loss=4.98    \n",
      "epoch=99, loss=4.91    \n",
      "epoch=109, loss=4.84    \n",
      "epoch=119, loss=4.78    \n",
      "epoch=129, loss=4.73    \n",
      "epoch=139, loss=4.68    \n",
      "epoch=149, loss=4.63    \n",
      "epoch=159, loss=4.60    \n",
      "epoch=169, loss=4.56    \n",
      "epoch=179, loss=4.52    \n",
      "epoch=189, loss=4.49    \n",
      "epoch=199, loss=4.46    \n",
      "   hamming_loss: 0.0938\n",
      "   ranking_loss: 0.0875\n",
      " coverage_error: 0.2474\n",
      "      one_error: 0.2812\n",
      "  avg_precision: 0.8028\n",
      "epoch=9 , loss=8.47    \n",
      "epoch=19, loss=8.28    \n",
      "epoch=29, loss=8.24    \n",
      "epoch=39, loss=8.08    \n",
      "epoch=49, loss=7.82    \n",
      "epoch=59, loss=7.67    \n",
      "epoch=69, loss=7.23    \n",
      "epoch=79, loss=7.83    \n",
      "epoch=89, loss=7.95    \n",
      "epoch=99, loss=8.18    \n",
      "epoch=109, loss=8.26    \n",
      "epoch=119, loss=8.02    \n",
      "epoch=129, loss=8.04    \n",
      "epoch=139, loss=9.05    \n",
      "epoch=149, loss=7.77    \n",
      "epoch=159, loss=7.72    \n",
      "epoch=169, loss=7.74    \n",
      "epoch=179, loss=7.49    \n",
      "epoch=189, loss=7.58    \n",
      "epoch=199, loss=7.71    \n",
      "   hamming_loss: 0.1510\n",
      "   ranking_loss: 0.1238\n",
      " coverage_error: 0.2734\n",
      "      one_error: 0.3750\n",
      "  avg_precision: 0.6624\n"
     ]
    }
   ],
   "source": [
    "test_on_dataset('Scene')"
   ]
  },
  {
   "cell_type": "markdown",
   "id": "20dff41c",
   "metadata": {
    "hidden": true
   },
   "source": [
    "```\n",
    " model             loss     no-mixup   mixup\n",
    "---------------------------------------------\n",
    "           hamming_loss     0.0833     0.0911\n",
    "           ranking_loss     0.0488     0.0730\n",
    " MLP     coverage_error     0.2161     0.2500\n",
    "              one_error     0.2031     0.2031\n",
    "          avg_precision     0.7743     0.7782\n",
    "---------------------------------------------\n",
    "           hamming_loss     0.1172     0.1536\n",
    "           ranking_loss     0.0875     0.1512\n",
    " MLP     coverage_error     0.2656     0.2995\n",
    "              one_error     0.2656     0.3906\n",
    "          avg_precision     0.7508     0.7200\n",
    "```"
   ]
  },
  {
   "cell_type": "markdown",
   "id": "8c61adf3",
   "metadata": {},
   "source": [
    "## 区分 clean samples & noisy samples"
   ]
  },
  {
   "cell_type": "markdown",
   "id": "b7abb6c0",
   "metadata": {},
   "source": [
    "### init"
   ]
  },
  {
   "cell_type": "code",
   "execution_count": 200,
   "id": "e41106cd",
   "metadata": {
    "ExecuteTime": {
     "end_time": "2023-09-27T07:10:33.009574Z",
     "start_time": "2023-09-27T07:10:32.983069Z"
    }
   },
   "outputs": [],
   "source": [
    "from leemultilearn.pml_dataset import load_dataset\n",
    "\n",
    "class PmlDataset(Dataset):\n",
    "    def __init__(self, name, divide):\n",
    "        X, Y, Yc = load_dataset(name, divide)\n",
    "        self.X  = X\n",
    "        self.Y  = Y\n",
    "        self.Yc = Yc\n",
    "        self.num_samples = X.shape[0]\n",
    "        self.dim_features = X.shape[1]\n",
    "        self.dim_labels = Y.shape[1]\n",
    "        \n",
    "    def __getitem__(self, index):\n",
    "        return to_ndarray(self.X[index, :]), to_ndarray(self.Y[index, :]), to_ndarray(self.Yc[index, :])\n",
    "        \n",
    "    def __len__(self):\n",
    "        return self.num_samples"
   ]
  },
  {
   "cell_type": "code",
   "execution_count": 203,
   "id": "17bb18fe",
   "metadata": {
    "ExecuteTime": {
     "end_time": "2023-09-27T07:12:33.044789Z",
     "start_time": "2023-09-27T07:12:32.976724Z"
    }
   },
   "outputs": [],
   "source": [
    "train_dataset = PmlDataset(name='mirflickr', divide='train')\n",
    "test_dataset = PmlDataset(name='mirflickr', divide='test')\n",
    "train_dataloader = DataLoader(\n",
    "    train_dataset, \n",
    "    batch_size=64, \n",
    "    shuffle=False\n",
    ")\n",
    "test_dataloader = DataLoader(\n",
    "    test_dataset, \n",
    "    batch_size=64, \n",
    "    shuffle=False\n",
    ")"
   ]
  },
  {
   "cell_type": "markdown",
   "id": "4563f145",
   "metadata": {
    "heading_collapsed": true
   },
   "source": [
    "### train"
   ]
  },
  {
   "cell_type": "code",
   "execution_count": 240,
   "id": "be9696e0",
   "metadata": {
    "ExecuteTime": {
     "end_time": "2023-09-27T07:22:54.281963Z",
     "start_time": "2023-09-27T07:22:54.259183Z"
    },
    "hidden": true
   },
   "outputs": [],
   "source": [
    "model = MlpNet(in_features=train_dataset.dim_features, out_features=train_dataset.dim_labels)\n",
    "criterion = nn.BCELoss()\n",
    "criterion_keep_dims = nn.BCELoss(reduction='none')\n",
    "optimizer = torch.optim.SGD(model.parameters(), lr=1.0)"
   ]
  },
  {
   "cell_type": "code",
   "execution_count": 241,
   "id": "e6312c21",
   "metadata": {
    "ExecuteTime": {
     "end_time": "2023-09-27T07:23:13.864239Z",
     "start_time": "2023-09-27T07:22:54.742410Z"
    },
    "collapsed": true,
    "hidden": true,
    "jupyter": {
     "outputs_hidden": true
    }
   },
   "outputs": [
    {
     "name": "stdout",
     "output_type": "stream",
     "text": [
      "epoch=0 , loss=35.61   \n",
      "epoch=1 , loss=27.16   \n",
      "epoch=2 , loss=26.08   \n",
      "epoch=3 , loss=25.65   \n",
      "epoch=4 , loss=25.41   \n",
      "epoch=5 , loss=25.27   \n",
      "epoch=6 , loss=25.16   \n",
      "epoch=7 , loss=25.09   \n",
      "epoch=8 , loss=25.03   \n",
      "epoch=9 , loss=24.98   \n",
      "epoch=10, loss=24.94   \n",
      "epoch=11, loss=24.91   \n",
      "epoch=12, loss=24.89   \n",
      "epoch=13, loss=24.86   \n",
      "epoch=14, loss=24.84   \n",
      "epoch=15, loss=24.83   \n",
      "epoch=16, loss=24.81   \n",
      "epoch=17, loss=24.80   \n",
      "epoch=18, loss=24.78   \n",
      "epoch=19, loss=24.77   \n",
      "epoch=20, loss=24.76   \n",
      "epoch=21, loss=24.75   \n",
      "epoch=22, loss=24.75   \n",
      "epoch=23, loss=24.74   \n",
      "epoch=24, loss=24.73   \n",
      "epoch=25, loss=24.73   \n",
      "epoch=26, loss=24.72   \n",
      "epoch=27, loss=24.71   \n",
      "epoch=28, loss=24.71   \n",
      "epoch=29, loss=24.71   \n",
      "epoch=30, loss=24.70   \n",
      "epoch=31, loss=24.70   \n",
      "epoch=32, loss=24.69   \n",
      "epoch=33, loss=24.69   \n",
      "epoch=34, loss=24.69   \n",
      "epoch=35, loss=24.68   \n",
      "epoch=36, loss=24.68   \n",
      "epoch=37, loss=24.68   \n",
      "epoch=38, loss=24.68   \n",
      "epoch=39, loss=24.68   \n",
      "epoch=40, loss=24.67   \n",
      "epoch=41, loss=24.67   \n",
      "epoch=42, loss=24.67   \n",
      "epoch=43, loss=24.67   \n",
      "epoch=44, loss=24.67   \n",
      "epoch=45, loss=24.66   \n",
      "epoch=46, loss=24.66   \n",
      "epoch=47, loss=24.66   \n",
      "epoch=48, loss=24.66   \n",
      "epoch=49, loss=24.66   \n",
      "epoch=50, loss=24.66   \n",
      "epoch=51, loss=24.66   \n",
      "epoch=52, loss=24.66   \n",
      "epoch=53, loss=24.66   \n",
      "epoch=54, loss=24.65   \n",
      "epoch=55, loss=24.65   \n",
      "epoch=56, loss=24.65   \n",
      "epoch=57, loss=24.65   \n",
      "epoch=58, loss=24.65   \n",
      "epoch=59, loss=24.65   \n",
      "epoch=60, loss=24.65   \n",
      "epoch=61, loss=24.65   \n",
      "epoch=62, loss=24.65   \n",
      "epoch=63, loss=24.65   \n",
      "epoch=64, loss=24.65   \n",
      "epoch=65, loss=24.65   \n",
      "epoch=66, loss=24.65   \n",
      "epoch=67, loss=24.65   \n",
      "epoch=68, loss=24.65   \n",
      "epoch=69, loss=24.65   \n",
      "epoch=70, loss=24.64   \n",
      "epoch=71, loss=24.64   \n",
      "epoch=72, loss=24.64   \n",
      "epoch=73, loss=24.64   \n",
      "epoch=74, loss=24.64   \n",
      "epoch=75, loss=24.64   \n",
      "epoch=76, loss=24.64   \n",
      "epoch=77, loss=24.64   \n",
      "epoch=78, loss=24.64   \n",
      "epoch=79, loss=24.64   \n",
      "epoch=80, loss=24.64   \n",
      "epoch=81, loss=24.64   \n",
      "epoch=82, loss=24.64   \n",
      "epoch=83, loss=24.64   \n",
      "epoch=84, loss=24.64   \n",
      "epoch=85, loss=24.64   \n",
      "epoch=86, loss=24.64   \n",
      "epoch=87, loss=24.64   \n",
      "epoch=88, loss=24.64   \n",
      "epoch=89, loss=24.64   \n",
      "epoch=90, loss=24.64   \n",
      "epoch=91, loss=24.64   \n",
      "epoch=92, loss=24.64   \n",
      "epoch=93, loss=24.64   \n",
      "epoch=94, loss=24.64   \n",
      "epoch=95, loss=24.64   \n",
      "epoch=96, loss=24.64   \n",
      "epoch=97, loss=24.64   \n",
      "epoch=98, loss=24.64   \n",
      "epoch=99, loss=24.64   \n"
     ]
    }
   ],
   "source": [
    "model.train()\n",
    "epoch_loss_mat_records = []\n",
    "epoch_loss_records = []\n",
    "for epoch in range(100):\n",
    "\n",
    "    epoch_loss = 0.0\n",
    "    epoch_loss_mat = np.zeros((0, train_dataset.dim_labels))\n",
    "\n",
    "    for X, _, Yc in train_dataloader:\n",
    "        Yc = Yc.squeeze().to(torch.float32)\n",
    "\n",
    "        # no Mixup\n",
    "        Y_pred = model(X)\n",
    "        loss = criterion(Y_pred, Yc)\n",
    "        loss_keep_dims = criterion_keep_dims(Y_pred, Yc)\n",
    "        \n",
    "        loss.backward()\n",
    "        optimizer.step()\n",
    "        optimizer.zero_grad()\n",
    "\n",
    "        epoch_loss += loss.item()\n",
    "        epoch_loss_mat = np.vstack([epoch_loss_mat, loss_keep_dims.detach().numpy()])\n",
    "\n",
    "    print(f'epoch={epoch:<2d}, loss={epoch_loss:<8.2f}')\n",
    "    \n",
    "    epoch_loss_mat_records.append(epoch_loss_mat)"
   ]
  },
  {
   "cell_type": "code",
   "execution_count": 242,
   "id": "931505dc",
   "metadata": {
    "ExecuteTime": {
     "end_time": "2023-09-27T07:24:58.134296Z",
     "start_time": "2023-09-27T07:24:58.114044Z"
    },
    "hidden": true
   },
   "outputs": [
    {
     "data": {
      "text/plain": [
       "(7303, 7)"
      ]
     },
     "execution_count": 242,
     "metadata": {},
     "output_type": "execute_result"
    }
   ],
   "source": [
    "epoch_loss_mat_records[0].shape"
   ]
  },
  {
   "cell_type": "code",
   "execution_count": 243,
   "id": "fe68cddc",
   "metadata": {
    "ExecuteTime": {
     "end_time": "2023-09-27T07:25:00.206121Z",
     "start_time": "2023-09-27T07:25:00.192576Z"
    },
    "hidden": true
   },
   "outputs": [],
   "source": [
    "X, Y, Yc = load_dataset('mirflickr', 'train')"
   ]
  },
  {
   "cell_type": "code",
   "execution_count": 250,
   "id": "f374f148",
   "metadata": {
    "ExecuteTime": {
     "end_time": "2023-09-27T07:26:04.902534Z",
     "start_time": "2023-09-27T07:26:04.885306Z"
    },
    "hidden": true
   },
   "outputs": [],
   "source": [
    "clean_label_filter = (Y == 1)\n",
    "noisy_label_filter = ((Y == 0) & (Yc == 1))\n",
    "none_label_filter = (Yc == 0)"
   ]
  },
  {
   "cell_type": "code",
   "execution_count": 254,
   "id": "49e64c59",
   "metadata": {
    "ExecuteTime": {
     "end_time": "2023-09-27T07:26:59.096671Z",
     "start_time": "2023-09-27T07:26:59.080512Z"
    },
    "hidden": true
   },
   "outputs": [
    {
     "data": {
      "text/plain": [
       "array([1, 1, 1, ..., 1, 1, 1], dtype=uint8)"
      ]
     },
     "execution_count": 254,
     "metadata": {},
     "output_type": "execute_result"
    }
   ],
   "source": [
    "Y[Y.nonzero()]"
   ]
  },
  {
   "cell_type": "code",
   "execution_count": 261,
   "id": "af671225",
   "metadata": {
    "ExecuteTime": {
     "end_time": "2023-09-27T07:30:32.079669Z",
     "start_time": "2023-09-27T07:30:31.531596Z"
    },
    "hidden": true
   },
   "outputs": [],
   "source": [
    "epoch_clean_loss_records = [\n",
    "    (l[clean_label_filter][l[clean_label_filter].nonzero()].mean(), \n",
    "     l[clean_label_filter][l[clean_label_filter].nonzero()].std())\n",
    "    for l in epoch_loss_mat_records\n",
    "]\n",
    "epoch_noisy_loss_records = [\n",
    "    (l[noisy_label_filter][l[noisy_label_filter].nonzero()].mean(),\n",
    "     l[noisy_label_filter][l[noisy_label_filter].nonzero()].std())\n",
    "    for l in epoch_loss_mat_records\n",
    "]\n",
    "epoch_none_loss_records = [\n",
    "    (l[none_label_filter][l[none_label_filter].nonzero()].mean(),\n",
    "     l[none_label_filter][l[none_label_filter].nonzero()].std())\n",
    "    for l in epoch_loss_mat_records\n",
    "]"
   ]
  },
  {
   "cell_type": "markdown",
   "id": "1388a2d4",
   "metadata": {
    "heading_collapsed": true
   },
   "source": [
    "### test"
   ]
  },
  {
   "cell_type": "code",
   "execution_count": 299,
   "id": "12683ede",
   "metadata": {
    "ExecuteTime": {
     "end_time": "2023-09-27T07:39:35.321819Z",
     "start_time": "2023-09-27T07:39:35.261974Z"
    },
    "hidden": true
   },
   "outputs": [
    {
     "name": "stdout",
     "output_type": "stream",
     "text": [
      "   hamming_loss: 0.2411\n",
      "   ranking_loss: 0.1479\n",
      " coverage_error: 0.3795\n",
      "      one_error: 0.3906\n",
      "  avg_precision: 0.6402\n"
     ]
    }
   ],
   "source": [
    "model.eval()\n",
    "for X, Y, Yc in train_dataloader:\n",
    "    Y = Y.squeeze().to(torch.float32)\n",
    "\n",
    "    # no Mixup\n",
    "    Y_pred = model(X).detach()\n",
    "    # loss = criterion(Y_pred, Y)\n",
    "    # loss_keep_dims = criterion_keep_dims(Y_pred, Yc)\n",
    "    print_test_result(Y.numpy(), Y_pred.numpy() > 0.5, Y_pred.numpy())\n",
    "    \n",
    "    break"
   ]
  },
  {
   "cell_type": "markdown",
   "id": "3701292f",
   "metadata": {
    "heading_collapsed": true
   },
   "source": [
    "### plot"
   ]
  },
  {
   "cell_type": "code",
   "execution_count": 258,
   "id": "a5d552e8",
   "metadata": {
    "ExecuteTime": {
     "end_time": "2023-09-27T07:28:14.114708Z",
     "start_time": "2023-09-27T07:28:12.169121Z"
    },
    "hidden": true
   },
   "outputs": [],
   "source": [
    "from matplotlib import pyplot as plt"
   ]
  },
  {
   "cell_type": "code",
   "execution_count": 308,
   "id": "97180cfc",
   "metadata": {
    "ExecuteTime": {
     "end_time": "2023-09-27T07:45:03.190227Z",
     "start_time": "2023-09-27T07:45:02.666209Z"
    },
    "hidden": true
   },
   "outputs": [
    {
     "data": {
      "image/png": "[encoded data removed]",
      "text/plain": [
       "<Figure size 1500x400 with 3 Axes>"
      ]
     },
     "metadata": {},
     "output_type": "display_data"
    }
   ],
   "source": [
    "plt.figure(figsize=(15,4))\n",
    "plt.subplot(1, 3, 1)\n",
    "plt.errorbar(\n",
    "    x=np.arange(len(epoch_clean_loss_records)),\n",
    "    y=[e1 for e1, e2 in epoch_clean_loss_records], \n",
    "    yerr=[e2 for e1, e2 in epoch_clean_loss_records],\n",
    "    linewidth=5,\n",
    "    ecolor='#FDF',\n",
    "    elinewidth=5,\n",
    "    label='clean positive label-instance',\n",
    ")\n",
    "plt.ylim(-1.00, 1.5)\n",
    "# plt.legend()\n",
    "plt.title('clean positive label-instance')\n",
    "\n",
    "plt.subplot(1, 3, 2)\n",
    "plt.errorbar(\n",
    "    x=np.arange(len(epoch_noisy_loss_records)),\n",
    "    y=[e1 for e1, e2 in epoch_noisy_loss_records], \n",
    "    yerr=[e2 for e1, e2 in epoch_noisy_loss_records],\n",
    "    linewidth=5,\n",
    "    ecolor='#FDF',\n",
    "    elinewidth=5,\n",
    "    label='noisy positive label-instance',\n",
    ")\n",
    "plt.ylim(-1.00, 1.5)\n",
    "# plt.legend()\n",
    "plt.title('noisy positive label-instance')\n",
    "\n",
    "plt.subplot(1, 3, 3)\n",
    "plt.errorbar(\n",
    "    x=np.arange(len(epoch_none_loss_records)),\n",
    "    y=[e1 for e1, e2 in epoch_none_loss_records], \n",
    "    yerr=[e2 for e1, e2 in epoch_none_loss_records],\n",
    "    linewidth=5,\n",
    "    ecolor='#FDF',\n",
    "    elinewidth=5,\n",
    "    label='negative label-instance',\n",
    ")\n",
    "plt.ylim(-1.0, 1.5)\n",
    "# plt.legend()\n",
    "plt.title('negative label-instance')\n",
    "\n",
    "\n",
    "plt.show()\n",
    "\n",
    "plt.show()"
   ]
  },
  {
   "cell_type": "code",
   "execution_count": 307,
   "id": "7ce04c69",
   "metadata": {
    "ExecuteTime": {
     "end_time": "2023-09-27T07:44:44.874790Z",
     "start_time": "2023-09-27T07:44:44.613892Z"
    },
    "hidden": true
   },
   "outputs": [
    {
     "data": {
      "image/png": "[encoded data removed]",
      "text/plain": [
       "<Figure size 640x480 with 1 Axes>"
      ]
     },
     "metadata": {},
     "output_type": "display_data"
    }
   ],
   "source": [
    "plt.plot([e1 for e1, e2 in epoch_clean_loss_records], label='clean positive label-instance', linewidth=3)\n",
    "plt.plot([e1 for e1, e2 in epoch_noisy_loss_records], label='noisy positive label-instance', linewidth=3)\n",
    "plt.plot([e1 for e1, e2 in epoch_none_loss_records], label='negative label-instance', linewidth=3)\n",
    "plt.legend()\n",
    "plt.show()"
   ]
  },
  {
   "cell_type": "code",
   "execution_count": null,
   "id": "ddc4d808",
   "metadata": {
    "hidden": true
   },
   "outputs": [],
   "source": []
  }
 ],
 "metadata": {
  "kernelspec": {
   "display_name": "multi-label",
   "language": "python",
   "name": "multi-label"
  },
  "language_info": {
   "codemirror_mode": {
    "name": "ipython",
    "version": 3
   },
   "file_extension": ".py",
   "mimetype": "text/x-python",
   "name": "python",
   "nbconvert_exporter": "python",
   "pygments_lexer": "ipython3",
   "version": "3.8.18"
  },
  "toc": {
   "base_numbering": 1,
   "nav_menu": {},
   "number_sections": true,
   "sideBar": false,
   "skip_h1_title": false,
   "title_cell": "Table of Contents",
   "title_sidebar": "Contents",
   "toc_cell": false,
   "toc_position": {},
   "toc_section_display": true,
   "toc_window_display": false
  }
 },
 "nbformat": 4,
 "nbformat_minor": 5
}
