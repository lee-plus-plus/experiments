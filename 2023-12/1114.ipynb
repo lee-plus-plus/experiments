{
 "cells": [
  {
   "cell_type": "markdown",
   "id": "47910083",
   "metadata": {},
   "source": [
    "# Train on PML dataset"
   ]
  },
  {
   "cell_type": "markdown",
   "id": "7cada35b",
   "metadata": {},
   "source": [
    "## Random Augmentation"
   ]
  },
  {
   "cell_type": "code",
   "execution_count": 1,
   "id": "f9e3c80a",
   "metadata": {
    "ExecuteTime": {
     "end_time": "2023-11-20T04:43:03.116303Z",
     "start_time": "2023-11-20T04:43:02.052105Z"
    },
    "code_folding": [
     9
    ]
   },
   "outputs": [],
   "source": [
    "import random\n",
    "import PIL\n",
    "import PIL.ImageOps\n",
    "import PIL.ImageEnhance\n",
    "import PIL.ImageDraw\n",
    "import numpy as np\n",
    "import torch\n",
    "from PIL import Image\n",
    "\n",
    "class RandomAugment:\n",
    "    def __init__(self, n, m):\n",
    "        self.n = n\n",
    "        self.m = m      # [0, 30] in fixmatch, deprecated.\n",
    "        self.augment_list = self.get_augment_list()\n",
    "\n",
    "    def __call__(self, img):\n",
    "        ops = random.choices(self.augment_list, k=self.n)\n",
    "        for op, min_val, max_val in ops:\n",
    "            val = min_val + float(max_val - min_val)*random.random()\n",
    "            img = op(img, val)\n",
    "        cutout_val = random.random() * 0.5\n",
    "        img = self.Cutout(img, cutout_val)  # for fixmatch\n",
    "        return img\n",
    "\n",
    "    def get_augment_list(self):\n",
    "        l = [\n",
    "            (self.AutoContrast, 0, 1),\n",
    "            (self.Brightness, 0.05, 0.95),\n",
    "            (self.Color, 0.05, 0.95),\n",
    "            (self.Contrast, 0.05, 0.95),\n",
    "            (self.Equalize, 0, 1),\n",
    "            (self.Identity, 0, 1),\n",
    "            (self.Posterize, 4, 8),\n",
    "            (self.Rotate, -30, 30),\n",
    "            (self.Sharpness, 0.05, 0.95),\n",
    "            (self.ShearX, -0.3, 0.3),\n",
    "            (self.ShearY, -0.3, 0.3),\n",
    "            (self.Solarize, 0, 256),\n",
    "            (self.TranslateX, -0.3, 0.3),\n",
    "            (self.TranslateY, -0.3, 0.3)\n",
    "        ]\n",
    "        return l\n",
    "\n",
    "    def AutoContrast(self, img, _):\n",
    "        return PIL.ImageOps.autocontrast(img)\n",
    "\n",
    "    def Brightness(self, img, v):\n",
    "        assert v >= 0.0\n",
    "        return PIL.ImageEnhance.Brightness(img).enhance(v)\n",
    "\n",
    "    def Color(self, img, v):\n",
    "        assert v >= 0.0\n",
    "        return PIL.ImageEnhance.Color(img).enhance(v)\n",
    "\n",
    "    def Contrast(self, img, v):\n",
    "        assert v >= 0.0\n",
    "        return PIL.ImageEnhance.Contrast(img).enhance(v)\n",
    "\n",
    "    def Equalize(self, img, _):\n",
    "        return PIL.ImageOps.equalize(img)\n",
    "\n",
    "    def Invert(self, img, _):\n",
    "        return PIL.ImageOps.invert(img)\n",
    "\n",
    "    def Identity(self, img, v):\n",
    "        return img\n",
    "\n",
    "    def Posterize(self, img, v):  # [4, 8]\n",
    "        v = int(v)\n",
    "        v = max(1, v)\n",
    "        return PIL.ImageOps.posterize(img, v)\n",
    "\n",
    "    def Rotate(self, img, v):  # [-30, 30]\n",
    "        #assert -30 <= v <= 30\n",
    "        # if random.random() > 0.5:\n",
    "        #    v = -v\n",
    "        return img.rotate(v)\n",
    "\n",
    "    def Sharpness(self, img, v):  # [0.1,1.9]\n",
    "        assert v >= 0.0\n",
    "        return PIL.ImageEnhance.Sharpness(img).enhance(v)\n",
    "\n",
    "    def ShearX(self, img, v):  # [-0.3, 0.3]\n",
    "        #assert -0.3 <= v <= 0.3\n",
    "        # if random.random() > 0.5:\n",
    "        #    v = -v\n",
    "        return img.transform(img.size, PIL.Image.AFFINE, (1, v, 0, 0, 1, 0))\n",
    "\n",
    "    def ShearY(self, img, v):  # [-0.3, 0.3]\n",
    "        #assert -0.3 <= v <= 0.3\n",
    "        # if random.random() > 0.5:\n",
    "        #    v = -v\n",
    "        return img.transform(img.size, PIL.Image.AFFINE, (1, 0, 0, v, 1, 0))\n",
    "\n",
    "    def TranslateX(self, img, v):  # [-150, 150] => percentage: [-0.45, 0.45]\n",
    "        #assert -0.3 <= v <= 0.3\n",
    "        # if random.random() > 0.5:\n",
    "        #    v = -v\n",
    "        v = v * img.size[0]\n",
    "        return img.transform(img.size, PIL.Image.AFFINE, (1, 0, v, 0, 1, 0))\n",
    "\n",
    "    def TranslateXabs(self, img, v):  # [-150, 150] => percentage: [-0.45, 0.45]\n",
    "        #assert v >= 0.0\n",
    "        # if random.random() > 0.5:\n",
    "        #    v = -v\n",
    "        return img.transform(img.size, PIL.Image.AFFINE, (1, 0, v, 0, 1, 0))\n",
    "\n",
    "    def TranslateY(self, img, v):  # [-150, 150] => percentage: [-0.45, 0.45]\n",
    "        #assert -0.3 <= v <= 0.3\n",
    "        # if random.random() > 0.5:\n",
    "        #    v = -v\n",
    "        v = v * img.size[1]\n",
    "        return img.transform(img.size, PIL.Image.AFFINE, (1, 0, 0, 0, 1, v))\n",
    "\n",
    "    def TranslateYabs(self, img, v):  # [-150, 150] => percentage: [-0.45, 0.45]\n",
    "        #assert 0 <= v\n",
    "        # if random.random() > 0.5:\n",
    "        #    v = -v\n",
    "        return img.transform(img.size, PIL.Image.AFFINE, (1, 0, 0, 0, 1, v))\n",
    "\n",
    "    def Solarize(self, img, v):  # [0, 256]\n",
    "        assert 0 <= v <= 256\n",
    "        return PIL.ImageOps.solarize(img, v)\n",
    "\n",
    "    def CutoutAbs(self, img, v):  # [0, 60] => percentage: [0, 0.2]\n",
    "        # assert 0 <= v <= 20\n",
    "        if v < 0:\n",
    "            return img\n",
    "        w, h = img.size\n",
    "        x0 = np.random.uniform(w)\n",
    "        y0 = np.random.uniform(h)\n",
    "\n",
    "        x0 = int(max(0, x0 - v / 2.))\n",
    "        y0 = int(max(0, y0 - v / 2.))\n",
    "        x1 = min(w, x0 + v)\n",
    "        y1 = min(h, y0 + v)\n",
    "\n",
    "        xy = (x0, y0, x1, y1)\n",
    "        color = (125, 123, 114)\n",
    "        # color = (0, 0, 0)\n",
    "        img = img.copy()\n",
    "        PIL.ImageDraw.Draw(img).rectangle(xy, color)\n",
    "        return img\n",
    "\n",
    "    def Cutout(self, img, v):  # [0, 60] => percentage: [0, 0.2] => change to [0, 0.5]\n",
    "        assert 0.0 <= v <= 0.5\n",
    "        if v <= 0.:\n",
    "            return img\n",
    "\n",
    "        v = v * img.size[0]\n",
    "        return self.CutoutAbs(img, v)"
   ]
  },
  {
   "cell_type": "code",
   "execution_count": 2,
   "id": "720ca826",
   "metadata": {
    "ExecuteTime": {
     "end_time": "2023-11-20T04:43:03.869034Z",
     "start_time": "2023-11-20T04:43:03.755370Z"
    },
    "code_folding": [
     2
    ]
   },
   "outputs": [],
   "source": [
    "import torchvision.transforms as transforms\n",
    "\n",
    "def get_transform(img_size=224, name='basic'):\n",
    "    if name == 'basic':\n",
    "        t = transforms.Compose([\n",
    "            transforms.Resize(img_size), \n",
    "            transforms.RandomResizedCrop(size=img_size, scale=(0.2, 1.)),\n",
    "            transforms.ToTensor(), \n",
    "            transforms.Normalize((0.2443, 0.2394, 0.2425), (0.2443, 0.2394, 0.2425))\n",
    "        ])\n",
    "    \n",
    "    elif name =='weak':\n",
    "        t = transforms.Compose([\n",
    "            transforms.Resize(img_size), \n",
    "            transforms.RandomResizedCrop(size=img_size, scale=(0.2, 1.)),\n",
    "            transforms.RandomHorizontalFlip(),\n",
    "            transforms.RandomApply([\n",
    "                transforms.ColorJitter(0.4, 0.4, 0.4, 0.1)\n",
    "            ], p=0.8),\n",
    "            transforms.RandomGrayscale(p=0.2),\n",
    "            transforms.ToTensor(), \n",
    "            transforms.Normalize((0.2443, 0.2394, 0.2425), (0.2443, 0.2394, 0.2425))\n",
    "        ])\n",
    "    elif name == 'strong':\n",
    "        t = transforms.Compose([           \n",
    "            transforms.Resize(img_size), \n",
    "            transforms.RandomResizedCrop(size=img_size, scale=(0.2, 1.)),\n",
    "            transforms.RandomHorizontalFlip(),\n",
    "            RandomAugment(n=3, m=5),\n",
    "            transforms.ToTensor(), \n",
    "            transforms.Normalize((0.2443, 0.2394, 0.2425), (0.2443, 0.2394, 0.2425))\n",
    "        ])\n",
    "    else:\n",
    "        raise ValueError(\"unsupported transform name ‘{}’\".format(name))\n",
    "        \n",
    "    return t"
   ]
  },
  {
   "cell_type": "markdown",
   "id": "d7056fa6",
   "metadata": {},
   "source": [
    "## Dataset"
   ]
  },
  {
   "cell_type": "code",
   "execution_count": 3,
   "id": "132db4fd",
   "metadata": {
    "ExecuteTime": {
     "end_time": "2023-11-20T04:43:04.242254Z",
     "start_time": "2023-11-20T04:43:04.233442Z"
    },
    "code_folding": [
     1
    ]
   },
   "outputs": [],
   "source": [
    "@torch.no_grad()\n",
    "def generate_uniform_cv_candidate_labels(train_labels, partial_rate=0.1):\n",
    "    K = int(torch.max(train_labels) - torch.min(train_labels) + 1)\n",
    "    n = train_labels.shape[0]\n",
    "\n",
    "    partialY = torch.zeros(n, K)\n",
    "    partialY[torch.arange(n), train_labels] = 1.0\n",
    "    transition_matrix =  np.eye(K)\n",
    "    transition_matrix[np.where(~np.eye(transition_matrix.shape[0],dtype=bool))] = partial_rate\n",
    "    # print(transition_matrix)\n",
    "\n",
    "    random_n = np.random.uniform(0, 1, size=(n, K))\n",
    "\n",
    "    for j in range(n):  # for each instance\n",
    "        partialY[j, :] = torch.from_numpy((random_n[j, :] < transition_matrix[train_labels[j], :]) * 1)\n",
    "\n",
    "    # print(\"Finish Generating Candidate Label Sets!\\n\")\n",
    "    return partialY"
   ]
  },
  {
   "cell_type": "code",
   "execution_count": 4,
   "id": "56a30341",
   "metadata": {
    "ExecuteTime": {
     "end_time": "2023-11-20T04:43:04.433039Z",
     "start_time": "2023-11-20T04:43:04.425144Z"
    },
    "code_folding": []
   },
   "outputs": [],
   "source": [
    "import numpy as np\n",
    "\n",
    "def split_trainval_dataset(dataset, split_ratio=[0.5, 0.5], shuffle=True, seed=None):\n",
    "    indices = list(range(len(dataset)))\n",
    "    split_ratio = (np.cumsum([0] + split_ratio) * len(dataset)).astype(int)\n",
    "\n",
    "    if shuffle:\n",
    "        if seed is not None:\n",
    "            np.random.seed(seed)\n",
    "        np.random.shuffle(indices)\n",
    "    \n",
    "    splited_indices = [indices[begin: end] for begin, end in zip(split_ratio[:-1], split_ratio[1:])]\n",
    "    splited_sampler = [torch.utils.data.SubsetRandomSampler(idxs) for idxs in splited_indices]\n",
    "    \n",
    "    return splited_sampler"
   ]
  },
  {
   "cell_type": "code",
   "execution_count": 5,
   "id": "e53b3885",
   "metadata": {
    "ExecuteTime": {
     "end_time": "2023-11-20T04:43:04.621221Z",
     "start_time": "2023-11-20T04:43:04.609954Z"
    },
    "code_folding": []
   },
   "outputs": [],
   "source": [
    "import torch\n",
    "import torchvision\n",
    "from os.path import join\n",
    "\n",
    "class CocoDataset(torch.utils.data.Dataset):\n",
    "    def __init__(self, root='/hdd/lzm/dataset/coco/', partial_rate=0.1, img_size=224):\n",
    "        print(\"loading dataset ...\")\n",
    "        base_dataset = torchvision.datasets.CocoDetection(\n",
    "            root=join(root, f'train2017'), \n",
    "            annFile=join(root, f'annotations/instances_train2017.json')\n",
    "        )\n",
    "        \n",
    "        # many unlabeled samples are included, filter them out\n",
    "        targets = [base_dataset._load_target(id) for id in range(len(base_dataset))]\n",
    "        labels = [sorted(list({seg_box['category_id'] for seg_box in elem})) for elem in targets]\n",
    "        available_idxs, labels = zip(*[\n",
    "            (i, lbl) for i, lbl in enumerate(labels) if len(lbl) > 0\n",
    "        ])\n",
    "        \n",
    "        # some label value is not used, re-mapping them (labels -> y_indexs)\n",
    "        lbl2idx = {lbl: idx for idx, lbl in enumerate(set(sum(labels, [])))}\n",
    "        y_indexs = [[lbl2idx[lbl] for lbl in elem] for elem in labels]\n",
    "        \n",
    "        # generate ground-truth multi-label target (Y_true)\n",
    "        num_samples, dim_labels = len(labels), len(lbl2idx)\n",
    "        Y_true = torch.zeros(num_samples, dim_labels, requires_grad=False)\n",
    "        for row in range(num_samples):\n",
    "            Y_true[row, y_indexs[row]] = 1\n",
    "\n",
    "        # generate candidate label set (Y_candidate)\n",
    "        Y_candidate = Y_true.clone()\n",
    "        Y_candidate[torch.rand_like(Y_candidate) < partial_rate] = 1\n",
    "        \n",
    "        self.base_dataset = base_dataset\n",
    "        self.available_idxs = available_idxs\n",
    "        self.Y_true = Y_true\n",
    "        self.Y_candidate = Y_candidate\n",
    "        self.dim_labels = dim_labels\n",
    "        \n",
    "        self.basic_transform = get_transform(img_size=img_size, name='basic')\n",
    "        self.weak_transform = get_transform(img_size=img_size, name='weak')\n",
    "        self.strong_transform = get_transform(img_size=img_size, name='strong')\n",
    "        \n",
    "    def _get_mean_and_std(self, images):\n",
    "        to_tensor = torchvision.transforms.ToTensor()\n",
    "        mean_, std_ = [], []\n",
    "        \n",
    "        for image in images:\n",
    "            image = to_tensor(image)\n",
    "            mean_.append(image.mean(dim=[1,2]))\n",
    "            std_.append(image.std(dim=[1,2]))\n",
    "\n",
    "        mean_ = torch.vstack(mean_).mean(dim=0)\n",
    "        std_ = torch.vstack(std_).mean(dim=0)\n",
    "        return std_, std_\n",
    "    \n",
    "    def __len__(self):\n",
    "        return len(self.available_idxs)\n",
    "    \n",
    "    @torch.no_grad()\n",
    "    def __getitem__(self, index):\n",
    "        image_index = self.available_idxs[index]\n",
    "        image = self.base_dataset._load_image(image_index)\n",
    "        image_basic = self.basic_transform(image)\n",
    "        image_weak_aug = self.weak_transform(image)\n",
    "        image_strong_aug = self.strong_transform(image)\n",
    "        \n",
    "        y_true = self.Y_true[index, :]\n",
    "        y_candidate = self.Y_candidate[index, :]\n",
    "        \n",
    "        return index, image_basic, image_weak_aug, image_strong_aug, y_true, y_candidate"
   ]
  },
  {
   "cell_type": "markdown",
   "id": "17c482ec",
   "metadata": {},
   "source": [
    "## Model"
   ]
  },
  {
   "cell_type": "code",
   "execution_count": 6,
   "id": "04cbfc58",
   "metadata": {
    "ExecuteTime": {
     "end_time": "2023-11-20T04:43:05.123470Z",
     "start_time": "2023-11-20T04:43:04.959503Z"
    },
    "code_folding": [
     6
    ]
   },
   "outputs": [],
   "source": [
    "from torch import nn\n",
    "import torchvision\n",
    "from torch.nn.functional import normalize\n",
    "import timm\n",
    "\n",
    "# basic MLP network\n",
    "class MlpNet(nn.Module):\n",
    "    def __init__(self, in_features, out_features, hidden_layer_sizes=[]):\n",
    "        super(MlpNet, self).__init__()\n",
    "        sizes = [in_features] + list(hidden_layer_sizes) + [out_features]\n",
    "        \n",
    "        sequential = []\n",
    "        sequential.append(torch.nn.Flatten())\n",
    "        sequential.append(torch.nn.Linear(sizes[0], sizes[1], bias=True))\n",
    "        for in_, out_ in zip(sizes[1:-1], sizes[2:]):\n",
    "            sequential.append(torch.nn.ReLU(inplace=True))\n",
    "            sequential.append(torch.nn.Linear(in_, out_, bias=True))\n",
    "        # sequential.append(nn.functional.sigmoid())\n",
    "        \n",
    "        self.sequential = nn.Sequential(*sequential)\n",
    "            \n",
    "    def forward(self, x):\n",
    "        x = x.to(torch.float32)\n",
    "        x = self.sequential(x)\n",
    "        return x\n",
    "\n",
    "    \n",
    "class PicoNet(nn.Module):\n",
    "    def __init__(self, dim_embedding, num_classes, *, pretrained=False):\n",
    "        super(PicoNet, self).__init__()\n",
    "        \n",
    "        encoder, out_dim = torchvision.models.resnet18(pretrained=pretrained), 512\n",
    "        # encoder, out_dim = timm.create_model('tresnet_l.miil_in1k', pretrained=pretrained), 1000 \n",
    "        # don't use timm.create_model! it leads to unknown correlated bugs when create two or more model\n",
    "        encoder.fc = nn.Identity()\n",
    "        \n",
    "        self.encoder = encoder\n",
    "        self.embedding_head = MlpNet(out_dim, dim_embedding, hidden_layer_sizes=[])\n",
    "        self.classific_head = MlpNet(out_dim, num_classes, hidden_layer_sizes=[out_dim])\n",
    "\n",
    "    def forward(self, x):\n",
    "        x = self.encoder(x)\n",
    "        embedding = normalize(self.embedding_head(x), p=2, dim=1)\n",
    "        cls_logit = self.classific_head(x)\n",
    "        return embedding, cls_logit\n"
   ]
  },
  {
   "cell_type": "markdown",
   "id": "2e649e45",
   "metadata": {},
   "source": [
    "## Loss"
   ]
  },
  {
   "cell_type": "code",
   "execution_count": 7,
   "id": "66e5e1a2",
   "metadata": {
    "ExecuteTime": {
     "end_time": "2023-11-20T04:43:05.627067Z",
     "start_time": "2023-11-20T04:43:05.293085Z"
    }
   },
   "outputs": [],
   "source": [
    "from leemultilearn.metrics import (\n",
    "    hamming_loss as hamming_loss_numpy, \n",
    "    label_ranking_loss as label_ranking_loss_numpy,\n",
    "    average_precision_score as average_precision_score_numpy\n",
    ")"
   ]
  },
  {
   "cell_type": "code",
   "execution_count": 8,
   "id": "2947f074",
   "metadata": {
    "ExecuteTime": {
     "end_time": "2023-11-20T04:43:05.632738Z",
     "start_time": "2023-11-20T04:43:05.628798Z"
    },
    "code_folding": [
     1,
     7,
     13
    ]
   },
   "outputs": [],
   "source": [
    "@torch.no_grad()\n",
    "def hamming_loss(y_true, y_pred):\n",
    "    y_true = y_true.cpu().detach().numpy()\n",
    "    y_pred = y_pred.cpu().detach().numpy()\n",
    "    return hamming_loss_numpy(y_true, y_pred)\n",
    "\n",
    "@torch.no_grad()\n",
    "def label_ranking_loss(y_true, y_pred_proba):\n",
    "    y_true = y_true.cpu().detach().numpy()\n",
    "    y_pred_proba = y_pred_proba.cpu().detach().numpy()\n",
    "    return label_ranking_loss_numpy(y_true, y_pred_proba)\n",
    "\n",
    "@torch.no_grad()\n",
    "def average_precision_score(y_true, y_pred_proba):\n",
    "    y_true = y_true.cpu().detach().numpy()\n",
    "    y_pred_proba = y_pred_proba.cpu().detach().numpy()\n",
    "    return average_precision_score_numpy(y_true, y_pred_proba)"
   ]
  },
  {
   "cell_type": "code",
   "execution_count": 60,
   "id": "9d1448d0",
   "metadata": {
    "ExecuteTime": {
     "end_time": "2023-11-20T05:04:49.603739Z",
     "start_time": "2023-11-20T05:04:49.598704Z"
    },
    "code_folding": []
   },
   "outputs": [],
   "source": [
    "from torch.nn.functional import log_softmax\n",
    "\n",
    "def info_nce_loss2(query, keys, positive_mask, temperature=0.07):\n",
    "    # query: (n, d)\n",
    "    # keys: (m, d)\n",
    "    # positive_mask: (n, m)\n",
    "    assert query.shape[1] == keys.shape[1]\n",
    "    assert query.shape[0] == positive_mask.shape[0]\n",
    "    assert keys.shape[0] == positive_mask.shape[1]\n",
    "    assert positive_mask.min() >= 0\n",
    "    \n",
    "    logit = query @ keys.t() / temperature # (n, m)\n",
    "    loss = (-positive_mask * log_softmax(logit, dim=1)).sum(dim=1) / positive_mask.sum(dim=1)\n",
    "    loss = loss.mean()\n",
    "    \n",
    "    return loss"
   ]
  },
  {
   "cell_type": "code",
   "execution_count": 10,
   "id": "8871ff79",
   "metadata": {
    "ExecuteTime": {
     "end_time": "2023-11-20T04:43:05.840161Z",
     "start_time": "2023-11-20T04:43:05.836472Z"
    },
    "code_folding": []
   },
   "outputs": [],
   "source": [
    "def multilabel_partial_loss(y_target, y_score):\n",
    "    # y_score = y_score.clip(min=0.01, max=0.99)\n",
    "    loss = -(y_target * torch.log(y_score + 1e-10) + (1.0 - y_target) * torch.log(1.0 - y_score + 1e-10))\n",
    "    return loss.sum(dim=1).mean()"
   ]
  },
  {
   "cell_type": "code",
   "execution_count": 11,
   "id": "78d7d760",
   "metadata": {
    "ExecuteTime": {
     "end_time": "2023-11-20T04:43:06.030780Z",
     "start_time": "2023-11-20T04:43:06.026861Z"
    },
    "code_folding": []
   },
   "outputs": [],
   "source": [
    "class PmlLoss(torch.nn.Module):\n",
    "    def __init__(self):\n",
    "        super(PmlLoss, self).__init__()\n",
    "\n",
    "    def forward(self, y_logit, y_target, weight=None):\n",
    "        # Calculating Probabilities\n",
    "        y_score = torch.sigmoid(y_logit)\n",
    "        y_score_pos = y_score\n",
    "        y_score_neg = 1 - y_score\n",
    "\n",
    "        # Basic BCE calculation\n",
    "        los_pos = y_target * torch.log(y_score_pos)\n",
    "        los_neg = (1 - y_target) * torch.log(y_score_neg)\n",
    "        loss = los_pos + los_neg\n",
    "\n",
    "        if weight != None:\n",
    "            loss *= weight\n",
    "\n",
    "        return -loss.sum(dim=1).mean()"
   ]
  },
  {
   "cell_type": "code",
   "execution_count": 12,
   "id": "9749db7b",
   "metadata": {
    "ExecuteTime": {
     "end_time": "2023-11-20T04:43:06.232817Z",
     "start_time": "2023-11-20T04:43:06.210404Z"
    }
   },
   "outputs": [],
   "source": [
    "y_target = torch.randn((50, 20))\n",
    "y_target = torch.randn((50, 20))"
   ]
  },
  {
   "cell_type": "markdown",
   "id": "5fb14175",
   "metadata": {},
   "source": [
    "## Logger"
   ]
  },
  {
   "cell_type": "code",
   "execution_count": 13,
   "id": "5ba0ae14",
   "metadata": {
    "ExecuteTime": {
     "end_time": "2023-11-20T04:43:06.572167Z",
     "start_time": "2023-11-20T04:43:06.562165Z"
    },
    "code_folding": [
     0,
     37,
     47
    ]
   },
   "outputs": [],
   "source": [
    "class Meter(object):\n",
    "    def __init__(self, **kwargs):\n",
    "        self.reset()\n",
    "        self.format(**kwargs)\n",
    "\n",
    "    def reset(self):\n",
    "        self.fmt = dict()\n",
    "        self.values = dict()\n",
    "\n",
    "    def format(self, **kwargs):\n",
    "        for key, fmt_str in kwargs.items():\n",
    "            self.fmt[key] = fmt_str\n",
    "\n",
    "    def average_value(self):\n",
    "        return {key: sum(vals) / len(vals) for key, vals in self.values.items()}\n",
    "\n",
    "    def last_value(self):\n",
    "        return {key:  vals[-1] for key, vals in self.values.items()}\n",
    "\n",
    "    def update(self, **kwargs):\n",
    "        for key, val in kwargs.items():\n",
    "            self._update(key, val)\n",
    "\n",
    "    def _create(self, key):\n",
    "        if key not in self.fmt.keys():\n",
    "            self.fmt[key] = ':5.3f'\n",
    "        self.values[key] = []\n",
    "\n",
    "    def _update(self, key, val):\n",
    "        if key not in self.values.keys():\n",
    "            self._create(key)\n",
    "        self.values[key].append(val)\n",
    "\n",
    "    def _str(self, key, val):\n",
    "        return ('{key:s}: {val' + self.fmt[key] + '}').format(key=key, val=val)\n",
    "\n",
    "\n",
    "class AverageMeter(Meter):\n",
    "    def __init__(self, **kwargs):\n",
    "        super(AverageMeter, self).__init__()\n",
    "\n",
    "    def __str__(self):\n",
    "        return ', '.join([\n",
    "            self._str(key, val) for key, val in self.average_value().items()\n",
    "        ])\n",
    "\n",
    "\n",
    "class LastMeter(Meter):\n",
    "    def __init__(self, **kwargs):\n",
    "        super(LastMeter, self).__init__()\n",
    "\n",
    "    def __str__(self):\n",
    "        return ', '.join([\n",
    "            self._str(key, val) for key, val in self.last_value().items()\n",
    "        ])"
   ]
  },
  {
   "cell_type": "markdown",
   "id": "bcd1cbe3",
   "metadata": {},
   "source": [
    "## Utils"
   ]
  },
  {
   "cell_type": "code",
   "execution_count": 14,
   "id": "29e0d5a6",
   "metadata": {
    "ExecuteTime": {
     "end_time": "2023-11-20T04:43:06.921871Z",
     "start_time": "2023-11-20T04:43:06.916089Z"
    },
    "code_folding": [
     0
    ]
   },
   "outputs": [],
   "source": [
    "def sharpen(y_score, *, t=0.5, eps=1e-2):\n",
    "    # row_sum = y_score.sum(dim=1, keepdim=True)\n",
    "    y_score = y_score ** (1 / t)\n",
    "    row_max = y_score.max(dim=1, keepdim=True).values + eps\n",
    "    row_min = y_score.min(dim=1, keepdim=True).values - eps\n",
    "    # y_score = row_sum * normalize(y_score, p=1, dim=1)\n",
    "    y_score = (y_score - row_min) / (row_max - row_min)\n",
    "    return y_score"
   ]
  },
  {
   "cell_type": "code",
   "execution_count": 15,
   "id": "93273bef",
   "metadata": {
    "ExecuteTime": {
     "end_time": "2023-11-20T04:43:07.097680Z",
     "start_time": "2023-11-20T04:43:07.092696Z"
    },
    "code_folding": [
     3
    ]
   },
   "outputs": [],
   "source": [
    "from torch.nn.functional import mse_loss\n",
    "\n",
    "@torch.no_grad()\n",
    "def pseudo_label_accuracy(Y_cls_target, Y_candidate, Y_true):\n",
    "    mask = Y_candidate.nonzero()\n",
    "    y_true = Y_true[mask[:, 0], mask[:, 1]]\n",
    "    y_score = Y_cls_target[mask[:, 0], mask[:, 1]]\n",
    "    return (1 - mse_loss(y_score, y_true)).item()"
   ]
  },
  {
   "cell_type": "markdown",
   "id": "ed1a7621",
   "metadata": {},
   "source": [
    "## Train & Eval"
   ]
  },
  {
   "cell_type": "code",
   "execution_count": 16,
   "id": "20f3ce47",
   "metadata": {
    "ExecuteTime": {
     "end_time": "2023-11-20T04:43:07.455310Z",
     "start_time": "2023-11-20T04:43:07.451009Z"
    }
   },
   "outputs": [],
   "source": [
    "from torch import softmax, sigmoid, exp\n",
    "from torch.nn.functional import normalize, one_hot, log_softmax, mse_loss\n",
    "from tqdm.notebook import tqdm"
   ]
  },
  {
   "cell_type": "markdown",
   "id": "dfba3361",
   "metadata": {},
   "source": [
    "### Vanilla"
   ]
  },
  {
   "cell_type": "code",
   "execution_count": 17,
   "id": "0ecf89ee",
   "metadata": {
    "ExecuteTime": {
     "end_time": "2023-11-20T04:43:07.815383Z",
     "start_time": "2023-11-20T04:43:07.804962Z"
    },
    "code_folding": []
   },
   "outputs": [],
   "source": [
    "def train_epoch_vanilla(show_progress=False):\n",
    "    global train_loader, optimizer, model_q, model_k\n",
    "    global Y_cls_target\n",
    "    \n",
    "    meter = AverageMeter()\n",
    "\n",
    "    model_q.train()\n",
    "    model_k.train()\n",
    "    \n",
    "    for indices, img, img_w, img_s, y_true, y_candidate in tqdm(train_loader, leave=False, disable=not show_progress):\n",
    "        img_w, img_s = img_w.cuda(), img_s.cuda()\n",
    "        y_candidate, y_true = y_candidate.cuda(), y_true.cuda()\n",
    "        indices = indices.cuda()\n",
    "        batch_size, num_classes = y_candidate.shape\n",
    "\n",
    "        _, y_logit_q = model_q(img_w)\n",
    "        _, y_logit_k = model_k(img_w)\n",
    "        y_score_q = sigmoid(y_logit_q)\n",
    "        y_score_k = sigmoid(y_logit_k)\n",
    "        \n",
    "        loss = multilabel_partial_loss(y_target=Y_cls_target[indices], y_score=y_score_q)\n",
    "        \n",
    "        # optimize\n",
    "        optimizer.zero_grad()\n",
    "        loss.backward()\n",
    "        optimizer.step()\n",
    "\n",
    "        # record\n",
    "        meter.update(\n",
    "            loss_clf=loss.item(), \n",
    "            r_loss_q=label_ranking_loss(y_true, y_score_q),\n",
    "            mAP_q=average_precision_score(y_true, y_score_q),\n",
    "            r_loss_k=label_ranking_loss(y_true, y_score_k),\n",
    "            mAP_k=average_precision_score(y_true, y_score_k),\n",
    "        )\n",
    "        \n",
    "    with torch.no_grad():\n",
    "        for param_q, param_k in zip(model_q.parameters(), model_k.parameters()):\n",
    "            param_k.data += momentum_encoder * (param_q.data - param_k.data)\n",
    "\n",
    "    return meter"
   ]
  },
  {
   "cell_type": "code",
   "execution_count": 18,
   "id": "54b0bb27",
   "metadata": {
    "ExecuteTime": {
     "end_time": "2023-11-20T04:43:07.987961Z",
     "start_time": "2023-11-20T04:43:07.978769Z"
    },
    "code_folding": []
   },
   "outputs": [],
   "source": [
    "@torch.no_grad()\n",
    "def eval_epoch_vanilla(show_progress=False):\n",
    "    global test_loader, model_q, model_k\n",
    "    \n",
    "    meter = AverageMeter()\n",
    "    \n",
    "    model_q.eval()\n",
    "    model_k.eval()\n",
    "    \n",
    "    for indices, img, img_w, img_s, y_true, y_candidate in tqdm(test_loader, leave=False, disable=not show_progress):\n",
    "        img = img.cuda()\n",
    "        y_candidate, y_true = y_candidate.cuda(), y_true.cuda()\n",
    "        indices = indices.cuda()\n",
    "        batch_size, num_classes = y_candidate.shape\n",
    "\n",
    "        _, y_logit_q = model_q(img)\n",
    "        _, y_logit_k = model_k(img)\n",
    "        y_score_q = sigmoid(y_logit_q)\n",
    "        y_score_k = sigmoid(y_logit_k)\n",
    "\n",
    "        loss = multilabel_partial_loss(y_target=y_true, y_score=y_score_q)\n",
    "\n",
    "        # record\n",
    "        meter.update(\n",
    "            loss_clf=loss.item(), \n",
    "            r_loss_q=label_ranking_loss(y_true, y_score_q),\n",
    "            mAP_q=average_precision_score(y_true, y_score_q),\n",
    "            r_loss_k=label_ranking_loss(y_true, y_score_k),\n",
    "            mAP_k=average_precision_score(y_true, y_score_k),\n",
    "        )\n",
    "\n",
    "\n",
    "    return meter"
   ]
  },
  {
   "cell_type": "markdown",
   "id": "e62c3f92",
   "metadata": {},
   "source": [
    "### Contrastive"
   ]
  },
  {
   "cell_type": "code",
   "execution_count": 55,
   "id": "79a9e6ab",
   "metadata": {
    "ExecuteTime": {
     "end_time": "2023-11-20T05:00:27.583371Z",
     "start_time": "2023-11-20T05:00:27.567816Z"
    },
    "code_folding": []
   },
   "outputs": [],
   "source": [
    "def train_epoch_contrastive(show_progress=False, update_target=False):\n",
    "    global train_loader, optimizer\n",
    "    global model_q, model_k\n",
    "    global Y_cls_target, embed_p_pos, embed_p_neg\n",
    "    global embed_k_queue, y_target_q_queue, queue_idx, queue_size\n",
    "    global classific_weight, contrastive_weight\n",
    "    global momentum_encoder, momentum_proto, momentum_target\n",
    "\n",
    "    meter = AverageMeter()\n",
    "    meter.format(\n",
    "        loss_clf=':5.3f', loss_con=':5.3f', \n",
    "        mAP_clf=':5.3f',  mAP_proto=':5.3f', \n",
    "    )\n",
    "    \n",
    "    model_q.train()\n",
    "    model_k.train()\n",
    "    \n",
    "    for indices, img, img_w, img_s, y_true, y_candidate in tqdm(train_loader, leave=False, disable=not show_progress):\n",
    "        img_w, img_s = img_w.cuda(), img_s.cuda()\n",
    "        y_candidate, y_true = y_candidate.cuda(), y_true.cuda()\n",
    "        indices = indices.cuda()\n",
    "        batch_size, num_classes = y_candidate.shape\n",
    "\n",
    "        embed_q, y_logit_q = model_q(img_w)\n",
    "        embed_k, _         = model_k(img_s) # no_grad\n",
    "        \n",
    "        y_score_q = sigmoid(y_logit_q)\n",
    "        \n",
    "        y_score_p_pos = 0.5 + 0.5 * embed_q @ embed_p_pos.t() # (0, 1)\n",
    "        y_score_p_neg = 0.5 + 0.5 * embed_q @ embed_p_neg.t() # (0, 1)\n",
    "        y_score_p = y_score_p_pos / (y_score_p_pos + y_score_p_neg)\n",
    "\n",
    "        y_target_q = (y_score_q > 0.5).float().detach() * y_candidate # no_grad\n",
    "        y_target_p = (y_score_p > 0.5).float().detach() * y_candidate # no_grad\n",
    "        \n",
    "        # momentum update\n",
    "        with torch.no_grad():\n",
    "            # momentum update embed_p_pos, embed_p_neg\n",
    "            for tgt, emd_q in zip(y_target_q, embed_q):\n",
    "                embed_p_pos += momentum_proto * (emd_q.unsqueeze(0) - embed_p_pos) * tgt.unsqueeze(-1)\n",
    "                embed_p_neg += momentum_proto * (emd_q.unsqueeze(0) - embed_p_neg) * (1.0 - tgt).unsqueeze(-1)\n",
    "            embed_p_pos = normalize(embed_p_pos, p=2, dim=1)\n",
    "            embed_p_neg = normalize(embed_p_neg, p=2, dim=1)\n",
    "\n",
    "            # momentum update Y_cls_target\n",
    "            if update_target:\n",
    "                Y_cls_target[indices] += momentum_target * (y_target_p - Y_cls_target[indices])\n",
    "\n",
    "            # update queue\n",
    "            embed_k_queue[queue_idx: queue_idx + batch_size] = embed_k\n",
    "            y_target_q_queue[queue_idx: queue_idx + batch_size] = y_target_q\n",
    "            queue_idx = (queue_idx + batch_size) % queue_size\n",
    "        \n",
    "        # make contrastive pairs\n",
    "        with torch.no_grad():\n",
    "            keys = torch.cat([embed_q, embed_k_queue], dim=0)\n",
    "            targets = torch.cat([y_target_q, y_target_q_queue], dim=0)\n",
    "            mask = (torch.cdist(y_target_q, targets) < 0.1).float()\n",
    "            # mask-out self-contrast cases\n",
    "            mask *= (1.0 - torch.eye(*mask.shape).to(mask.device))\n",
    "            proto_similarity = ((embed_q @ keys.t()) * mask).sum() / mask.sum()\n",
    "        \n",
    "        loss_classific = multilabel_partial_loss(y_target=Y_cls_target[indices], y_score=y_score_q)\n",
    "        loss_contrastive = info_nce_loss2(query=embed_q, keys=keys, positive_mask=mask)\n",
    "        # auxiliary loss\n",
    "        loss_prototype = 0.0\n",
    "        \n",
    "        loss = classific_weight * loss_classific + contrastive_weight * loss_contrastive\n",
    "\n",
    "        # optimize\n",
    "        optimizer.zero_grad()\n",
    "        loss.backward()\n",
    "        optimizer.step()\n",
    "        \n",
    "        # record\n",
    "        meter.update(\n",
    "            loss_clf=loss_classific.item(), \n",
    "            loss_con=loss_contrastive.item(),\n",
    "            mAP_clf=average_precision_score(y_true, y_score_q), \n",
    "            mAP_proto=average_precision_score(y_true, y_score_p),\n",
    "            sim_proto=proto_similarity\n",
    "        )\n",
    "        \n",
    "        with torch.no_grad():\n",
    "            # momentum update encoder_k\n",
    "            for param_q, param_k in zip(model_q.parameters(), model_k.parameters()):\n",
    "                param_k.data += momentum_encoder * (param_q.data - param_k.data)\n",
    "\n",
    "        \n",
    "    return meter"
   ]
  },
  {
   "cell_type": "code",
   "execution_count": 50,
   "id": "9bd00988",
   "metadata": {
    "ExecuteTime": {
     "end_time": "2023-11-20T04:53:05.233877Z",
     "start_time": "2023-11-20T04:53:05.223666Z"
    },
    "code_folding": []
   },
   "outputs": [],
   "source": [
    "@torch.no_grad()\n",
    "def eval_epoch_contrastive(show_progress=False):\n",
    "    global test_loader\n",
    "    global model_q, model_k\n",
    "    global Y_true, Y_candidate, Y_cls_target, embed_p_pos, embed_p_neg\n",
    "    global embed_k_queue, y_target_q_queue, queue_idx, queue_size\n",
    "    global contrastive_weight, momentum_encoder, momentum_proto, momentum_target\n",
    "    \n",
    "    meter = AverageMeter()\n",
    "    meter.format(\n",
    "        conf_pseu=':5.3f', # confidence of pseudo labels\n",
    "        acc_pseu=':5.3f', # accuracy of pseudo labels\n",
    "        mAP_clf=':5.3f',  mAP_proto=':5.3f', \n",
    "        sim_proto=':5.3f'\n",
    "    )\n",
    "    \n",
    "    model_q.eval()\n",
    "    model_k.eval()\n",
    "    \n",
    "    for indices, img, img_w, img_s, y_true, y_candidate in tqdm(test_loader, leave=False, disable=not show_progress):\n",
    "        img_w, img_s = img_w.cuda(), img_s.cuda()\n",
    "        y_candidate, y_true = y_candidate.cuda(), y_true.cuda()\n",
    "        indices = indices.cuda()\n",
    "        batch_size, num_classes = y_candidate.shape\n",
    "\n",
    "        embed_q, y_logit_q = model_q(img_w)\n",
    "        embed_k, _         = model_k(img_s) # no_grad\n",
    "        \n",
    "        y_score_q = sigmoid(y_logit_q)\n",
    "        y_target_q = (y_score_q > 0.5).float().detach()\n",
    "        \n",
    "        y_score_p_pos = 0.5 + 0.5 * embed_q @ embed_p_pos.t()\n",
    "        y_score_p_neg = 0.5 + 0.5 * embed_q @ embed_p_neg.t()\n",
    "        y_score_p = y_score_p_pos / (y_score_p_pos + y_score_p_neg)\n",
    "        \n",
    "        with torch.no_grad():\n",
    "            keys = torch.cat([embed_q, embed_k_queue], dim=0)\n",
    "            targets = torch.cat([y_target_q, y_target_q_queue], dim=0)\n",
    "            mask = (torch.cdist(y_target_q, targets) < 0.1).float()\n",
    "            mask *= (1.0 - torch.eye(*mask.shape).to(mask.device))\n",
    "            proto_similarity = ((embed_q @ keys.t()) * mask).sum() / mask.sum()\n",
    "        \n",
    "        # record\n",
    "        meter.update(\n",
    "            conf_pseu=Y_cls_target.max(dim=1).values.mean().item(),\n",
    "            acc_pseu=pseudo_label_accuracy(Y_cls_target, Y_candidate, Y_true),\n",
    "            mAP_clf=average_precision_score(y_true, y_score_q), \n",
    "            mAP_proto=average_precision_score(y_true, y_score_p), \n",
    "            sim_proto=proto_similarity\n",
    "        )\n",
    "\n",
    "    return meter"
   ]
  },
  {
   "cell_type": "markdown",
   "id": "af068022",
   "metadata": {},
   "source": [
    "## Start"
   ]
  },
  {
   "cell_type": "markdown",
   "id": "647f87f3",
   "metadata": {},
   "source": [
    "### Initialization"
   ]
  },
  {
   "cell_type": "code",
   "execution_count": 21,
   "id": "1178e41a",
   "metadata": {
    "ExecuteTime": {
     "end_time": "2023-11-20T04:43:09.092139Z",
     "start_time": "2023-11-20T04:43:09.089572Z"
    }
   },
   "outputs": [],
   "source": [
    "import torch.backends.cudnn as cudnn\n",
    "import random\n",
    "import numpy as np"
   ]
  },
  {
   "cell_type": "code",
   "execution_count": 22,
   "id": "e6d30075",
   "metadata": {
    "ExecuteTime": {
     "end_time": "2023-11-20T04:43:09.280731Z",
     "start_time": "2023-11-20T04:43:09.275105Z"
    }
   },
   "outputs": [],
   "source": [
    "cudnn.benchmark = True\n",
    "seed = 123\n",
    "random.seed(seed)\n",
    "torch.manual_seed(seed)\n",
    "np.random.seed(seed)\n",
    "cudnn.deterministic = True\n",
    "# torch.use_deterministic_algorithms(True)"
   ]
  },
  {
   "cell_type": "code",
   "execution_count": 23,
   "id": "3e7f8ed0",
   "metadata": {
    "ExecuteTime": {
     "end_time": "2023-11-20T04:43:28.141702Z",
     "start_time": "2023-11-20T04:43:09.449363Z"
    }
   },
   "outputs": [
    {
     "name": "stdout",
     "output_type": "stream",
     "text": [
      "loading dataset ...\n",
      "loading annotations into memory...\n",
      "Done (t=15.71s)\n",
      "creating index...\n",
      "index created!\n",
      "candidate-labels per sample: 6.79\n",
      "true-labels per sample: 2.94\n"
     ]
    }
   ],
   "source": [
    "# dataset\n",
    "dataset = CocoDataset(partial_rate=0.05)\n",
    "print(f'candidate-labels per sample: {dataset.Y_candidate.sum(dim=1).mean():.2f}')\n",
    "print(f'true-labels per sample: {dataset.Y_true.sum(dim=1).mean():.2f}')"
   ]
  },
  {
   "cell_type": "code",
   "execution_count": 24,
   "id": "3ae34f15",
   "metadata": {
    "ExecuteTime": {
     "end_time": "2023-11-20T04:43:28.151323Z",
     "start_time": "2023-11-20T04:43:28.144732Z"
    },
    "code_folding": [
     5,
     10
    ]
   },
   "outputs": [],
   "source": [
    "from torch.utils.data import DataLoader\n",
    "batch_size = 32\n",
    "\n",
    "train_sampler, test_sampler = split_trainval_dataset(dataset, split_ratio=[0.2, 0.1], shuffle=True, seed=123)\n",
    "assert set(train_sampler.indices) & set(test_sampler.indices) == set()\n",
    "train_loader = DataLoader(\n",
    "    dataset, \n",
    "    batch_size=batch_size, sampler=train_sampler, \n",
    "    num_workers=8, drop_last=True\n",
    ")\n",
    "test_loader = DataLoader(\n",
    "    dataset, \n",
    "    batch_size=batch_size, sampler=test_sampler, \n",
    "    num_workers=8, drop_last=True\n",
    ")"
   ]
  },
  {
   "cell_type": "code",
   "execution_count": 25,
   "id": "f993537d",
   "metadata": {
    "ExecuteTime": {
     "end_time": "2023-11-20T04:43:34.366443Z",
     "start_time": "2023-11-20T04:43:28.152978Z"
    }
   },
   "outputs": [
    {
     "name": "stderr",
     "output_type": "stream",
     "text": [
      "/hdd/lzm/.conda/envs/multi-label/lib/python3.8/site-packages/torchvision/models/_utils.py:208: UserWarning: The parameter 'pretrained' is deprecated since 0.13 and may be removed in the future, please use 'weights' instead.\n",
      "  warnings.warn(\n",
      "/hdd/lzm/.conda/envs/multi-label/lib/python3.8/site-packages/torchvision/models/_utils.py:223: UserWarning: Arguments other than a weight enum or `None` for 'weights' are deprecated since 0.13 and may be removed in the future. The current behavior is equivalent to passing `weights=ResNet18_Weights.IMAGENET1K_V1`. You can also use `weights=ResNet18_Weights.DEFAULT` to get the most up-to-date weights.\n",
      "  warnings.warn(msg)\n"
     ]
    }
   ],
   "source": [
    "# models\n",
    "num_classes = dataset.dim_labels\n",
    "dim_embedding = 128\n",
    "model_q = PicoNet(dim_embedding=dim_embedding, num_classes=num_classes, pretrained=True).cuda()\n",
    "model_k = PicoNet(dim_embedding=dim_embedding, num_classes=num_classes, pretrained=True).cuda()\n",
    "\n",
    "for param_q, param_k in zip(model_q.parameters(), model_k.parameters()):\n",
    "    param_k.data.copy_(param_q.data.detach())\n",
    "    param_k.requires_grad = False\n",
    "    assert param_q.requires_grad == True\n",
    "\n",
    "optimizer = torch.optim.SGD(\n",
    "    params=model_q.parameters(),\n",
    "    lr=1e-2,\n",
    "    momentum=0.9,\n",
    "    weight_decay=1e-4\n",
    ")"
   ]
  },
  {
   "cell_type": "code",
   "execution_count": 26,
   "id": "cae65940",
   "metadata": {
    "ExecuteTime": {
     "end_time": "2023-11-20T04:43:34.380351Z",
     "start_time": "2023-11-20T04:43:34.369632Z"
    },
    "code_folding": []
   },
   "outputs": [],
   "source": [
    "# prototype\n",
    "embed_p_pos = torch.zeros((num_classes, dim_embedding), requires_grad=False).cuda()\n",
    "embed_p_neg = torch.zeros((num_classes, dim_embedding), requires_grad=False).cuda()\n",
    "\n",
    "# pseudo target\n",
    "Y_true = dataset.Y_true.cuda()\n",
    "Y_candidate = dataset.Y_candidate.cuda()\n",
    "Y_cls_target = Y_candidate.clone().detach()\n",
    "\n",
    "assert Y_true.requires_grad == Y_candidate.requires_grad == Y_cls_target.requires_grad == False\n",
    "\n",
    "# queue\n",
    "queue_size = batch_size * 32\n",
    "y_target_q_queue = torch.zeros((queue_size, num_classes), requires_grad=False).cuda()\n",
    "embed_k_queue = torch.zeros((queue_size, dim_embedding), requires_grad=False).cuda()\n",
    "queue_idx = 0"
   ]
  },
  {
   "cell_type": "code",
   "execution_count": 27,
   "id": "98a732c9",
   "metadata": {
    "ExecuteTime": {
     "end_time": "2023-11-20T04:43:34.413398Z",
     "start_time": "2023-11-20T04:43:34.382316Z"
    },
    "code_folding": []
   },
   "outputs": [
    {
     "name": "stdout",
     "output_type": "stream",
     "text": [
      "momentum_encoder = 0.1000, momentum_proto = 0.0107, momentum_target = 0.1000\n"
     ]
    }
   ],
   "source": [
    "# hyper-parameters\n",
    "contrastive_weight = 2.0\n",
    "momentum_encoder = 0.1 # 1.0 - 0.9 ** (1 / len(train_loader))\n",
    "momentum_proto = 1.0 - 0.2 ** (1 / len(train_loader))\n",
    "momentum_target = 1e-1\n",
    "\n",
    "print(f'{momentum_encoder = :.4f}, {momentum_proto = :.4f}, {momentum_target = :.4f}')"
   ]
  },
  {
   "cell_type": "markdown",
   "id": "7e43799b",
   "metadata": {},
   "source": [
    "### Vanilla Training"
   ]
  },
  {
   "cell_type": "code",
   "execution_count": 28,
   "id": "cf3a73ed",
   "metadata": {
    "ExecuteTime": {
     "end_time": "2023-11-20T04:43:38.070405Z",
     "start_time": "2023-11-20T04:43:38.066780Z"
    }
   },
   "outputs": [],
   "source": [
    "meter_vanilla_train = LastMeter()\n",
    "meter_vanilla_valid = LastMeter()\n",
    "vanilla_epoch = 0"
   ]
  },
  {
   "cell_type": "code",
   "execution_count": 29,
   "id": "e97ca32c",
   "metadata": {
    "ExecuteTime": {
     "end_time": "2023-11-20T04:44:04.338027Z",
     "start_time": "2023-11-20T04:43:38.533652Z"
    },
    "scrolled": true
   },
   "outputs": [
    {
     "data": {
      "application/vnd.jupyter.widget-view+json": {
       "model_id": "",
       "version_major": 2,
       "version_minor": 0
      },
      "text/plain": [
       "  0%|          | 0/149 [00:00<?, ?it/s]"
      ]
     },
     "metadata": {},
     "output_type": "display_data"
    },
    {
     "data": {
      "application/vnd.jupyter.widget-view+json": {
       "model_id": "",
       "version_major": 2,
       "version_minor": 0
      },
      "text/plain": [
       "  0%|          | 0/74 [00:00<?, ?it/s]"
      ]
     },
     "metadata": {},
     "output_type": "display_data"
    },
    {
     "name": "stdout",
     "output_type": "stream",
     "text": [
      "epoch  0 (train): loss_clf: 23.331, r_loss_q: 0.262, mAP_q: 0.346, r_loss_k: 0.556, mAP_k: 0.081\n",
      "epoch  0 (valid): loss_clf: 11.019, r_loss_q: 0.241, mAP_q: 0.369, r_loss_k: 0.328, mAP_k: 0.248\n"
     ]
    },
    {
     "data": {
      "application/vnd.jupyter.widget-view+json": {
       "model_id": "8da549a4b3224baf9b853e67ad8c7cd3",
       "version_major": 2,
       "version_minor": 0
      },
      "text/plain": [
       "  0%|          | 0/149 [00:00<?, ?it/s]"
      ]
     },
     "metadata": {},
     "output_type": "display_data"
    },
    {
     "ename": "KeyboardInterrupt",
     "evalue": "",
     "output_type": "error",
     "traceback": [
      "\u001b[0;31m---------------------------------------------------------------------------\u001b[0m",
      "\u001b[0;31mKeyboardInterrupt\u001b[0m                         Traceback (most recent call last)",
      "Cell \u001b[0;32mIn[29], line 2\u001b[0m\n\u001b[1;32m      1\u001b[0m \u001b[38;5;28;01mfor\u001b[39;00m e \u001b[38;5;129;01min\u001b[39;00m \u001b[38;5;28mrange\u001b[39m(\u001b[38;5;241m50\u001b[39m):\n\u001b[0;32m----> 2\u001b[0m     meter_epoch_train \u001b[38;5;241m=\u001b[39m \u001b[43mtrain_epoch_vanilla\u001b[49m\u001b[43m(\u001b[49m\u001b[43mshow_progress\u001b[49m\u001b[38;5;241;43m=\u001b[39;49m\u001b[38;5;28;43;01mTrue\u001b[39;49;00m\u001b[43m)\u001b[49m\n\u001b[1;32m      3\u001b[0m     meter_epoch_valid \u001b[38;5;241m=\u001b[39m eval_epoch_vanilla(show_progress\u001b[38;5;241m=\u001b[39m\u001b[38;5;28;01mTrue\u001b[39;00m)\n\u001b[1;32m      5\u001b[0m     \u001b[38;5;28mprint\u001b[39m(\u001b[38;5;124mf\u001b[39m\u001b[38;5;124m'\u001b[39m\u001b[38;5;124mepoch \u001b[39m\u001b[38;5;132;01m{\u001b[39;00mvanilla_epoch\u001b[38;5;132;01m:\u001b[39;00m\u001b[38;5;124m>2d\u001b[39m\u001b[38;5;132;01m}\u001b[39;00m\u001b[38;5;124m (train): \u001b[39m\u001b[38;5;132;01m{\u001b[39;00mmeter_epoch_train\u001b[38;5;132;01m}\u001b[39;00m\u001b[38;5;124m'\u001b[39m)\n",
      "Cell \u001b[0;32mIn[17], line 10\u001b[0m, in \u001b[0;36mtrain_epoch_vanilla\u001b[0;34m(show_progress)\u001b[0m\n\u001b[1;32m      7\u001b[0m model_q\u001b[38;5;241m.\u001b[39mtrain()\n\u001b[1;32m      8\u001b[0m model_k\u001b[38;5;241m.\u001b[39mtrain()\n\u001b[0;32m---> 10\u001b[0m \u001b[38;5;28;01mfor\u001b[39;00m indices, img, img_w, img_s, y_true, y_candidate \u001b[38;5;129;01min\u001b[39;00m tqdm(train_loader, leave\u001b[38;5;241m=\u001b[39m\u001b[38;5;28;01mFalse\u001b[39;00m, disable\u001b[38;5;241m=\u001b[39m\u001b[38;5;129;01mnot\u001b[39;00m show_progress):\n\u001b[1;32m     11\u001b[0m     img_w, img_s \u001b[38;5;241m=\u001b[39m img_w\u001b[38;5;241m.\u001b[39mcuda(), img_s\u001b[38;5;241m.\u001b[39mcuda()\n\u001b[1;32m     12\u001b[0m     y_candidate, y_true \u001b[38;5;241m=\u001b[39m y_candidate\u001b[38;5;241m.\u001b[39mcuda(), y_true\u001b[38;5;241m.\u001b[39mcuda()\n",
      "\u001b[0;31mKeyboardInterrupt\u001b[0m: "
     ]
    }
   ],
   "source": [
    "for e in range(50):\n",
    "    meter_epoch_train = train_epoch_vanilla(show_progress=True)\n",
    "    meter_epoch_valid = eval_epoch_vanilla(show_progress=True)\n",
    "    \n",
    "    print(f'epoch {vanilla_epoch:>2d} (train): {meter_epoch_train}')\n",
    "    print(f'epoch {vanilla_epoch:>2d} (valid): {meter_epoch_valid}')\n",
    "    \n",
    "    meter_vanilla_train.update(epoch=vanilla_epoch, **meter_epoch_train.average_value())\n",
    "    meter_vanilla_valid.update(epoch=vanilla_epoch, **meter_epoch_valid.average_value())\n",
    "    \n",
    "    vanilla_epoch += 1"
   ]
  },
  {
   "cell_type": "markdown",
   "id": "eaea0bb7",
   "metadata": {},
   "source": [
    "#### Result"
   ]
  },
  {
   "cell_type": "code",
   "execution_count": 112,
   "id": "66968f8c",
   "metadata": {
    "ExecuteTime": {
     "end_time": "2023-11-15T07:56:14.967337Z",
     "start_time": "2023-11-15T07:56:14.962286Z"
    }
   },
   "outputs": [],
   "source": [
    "import matplotlib.pyplot as plt"
   ]
  },
  {
   "cell_type": "code",
   "execution_count": 113,
   "id": "5b8a2362",
   "metadata": {
    "ExecuteTime": {
     "end_time": "2023-11-15T07:56:15.374066Z",
     "start_time": "2023-11-15T07:56:15.164822Z"
    }
   },
   "outputs": [
    {
     "data": {
      "image/png": "[encoded data removed]",
      "text/plain": [
       "<Figure size 600x300 with 1 Axes>"
      ]
     },
     "metadata": {},
     "output_type": "display_data"
    }
   ],
   "source": [
    "plt.figure(figsize=(6, 3))\n",
    "plt.plot(meter_vanilla_train.values['mAP_q'], '-', color='#27a', label='mAP@model1 (train)')\n",
    "plt.plot(meter_vanilla_valid.values['mAP_q'], '-', color='#f81', label='mAP@model1 (valid)')\n",
    "plt.plot(meter_vanilla_train.values['mAP_k'], '-.', color='#27a', label='mAP@model2 (train)')\n",
    "plt.plot(meter_vanilla_valid.values['mAP_k'], '-.', color='#f81', label='mAP@model2 (valid)')\n",
    "plt.legend()\n",
    "plt.xlabel('epoch')\n",
    "plt.title('ResNet18 on COCO2017\\n(noise_rate=0.05, loss=BCEloss, pretrained=True)')\n",
    "plt.show()"
   ]
  },
  {
   "cell_type": "markdown",
   "id": "69380ea8",
   "metadata": {},
   "source": [
    "### Parameter Transferring"
   ]
  },
  {
   "cell_type": "code",
   "execution_count": 115,
   "id": "7485c16c",
   "metadata": {
    "ExecuteTime": {
     "end_time": "2023-11-15T07:56:50.327538Z",
     "start_time": "2023-11-15T07:56:49.908725Z"
    }
   },
   "outputs": [],
   "source": [
    "torch.save(model_q.state_dict(), 'model_q_1114_warmup.pkl')\n",
    "torch.save(model_k.state_dict(), 'model_k_1114_warmup.pkl')"
   ]
  },
  {
   "cell_type": "code",
   "execution_count": 30,
   "id": "4fe688da",
   "metadata": {
    "ExecuteTime": {
     "end_time": "2023-11-20T04:44:07.480649Z",
     "start_time": "2023-11-20T04:44:07.059461Z"
    }
   },
   "outputs": [
    {
     "name": "stderr",
     "output_type": "stream",
     "text": [
      "/hdd/lzm/.conda/envs/multi-label/lib/python3.8/site-packages/torchvision/models/_utils.py:208: UserWarning: The parameter 'pretrained' is deprecated since 0.13 and may be removed in the future, please use 'weights' instead.\n",
      "  warnings.warn(\n",
      "/hdd/lzm/.conda/envs/multi-label/lib/python3.8/site-packages/torchvision/models/_utils.py:223: UserWarning: Arguments other than a weight enum or `None` for 'weights' are deprecated since 0.13 and may be removed in the future. The current behavior is equivalent to passing `weights=ResNet18_Weights.IMAGENET1K_V1`. You can also use `weights=ResNet18_Weights.DEFAULT` to get the most up-to-date weights.\n",
      "  warnings.warn(msg)\n"
     ]
    },
    {
     "data": {
      "text/plain": [
       "<All keys matched successfully>"
      ]
     },
     "execution_count": 30,
     "metadata": {},
     "output_type": "execute_result"
    }
   ],
   "source": [
    "model_q = PicoNet(dim_embedding=dim_embedding, num_classes=num_classes, pretrained=True).cuda()\n",
    "model_k = PicoNet(dim_embedding=dim_embedding, num_classes=num_classes, pretrained=True).cuda()\n",
    "model_q.load_state_dict(torch.load('model_q_1114_warmup.pkl'))\n",
    "model_k.load_state_dict(torch.load('model_k_1114_warmup.pkl'))"
   ]
  },
  {
   "cell_type": "code",
   "execution_count": 31,
   "id": "a67e81dc",
   "metadata": {
    "ExecuteTime": {
     "end_time": "2023-11-20T04:44:08.403958Z",
     "start_time": "2023-11-20T04:44:08.398742Z"
    }
   },
   "outputs": [],
   "source": [
    "for param_q, param_k in zip(model_q.parameters(), model_k.parameters()):\n",
    "    param_q.data.copy_(param_k.data)\n",
    "    assert param_q.requires_grad == True"
   ]
  },
  {
   "cell_type": "markdown",
   "id": "9316f39d",
   "metadata": {},
   "source": [
    "### Contrastive Training"
   ]
  },
  {
   "cell_type": "code",
   "execution_count": 32,
   "id": "7b81a042",
   "metadata": {
    "ExecuteTime": {
     "end_time": "2023-11-20T04:44:12.791875Z",
     "start_time": "2023-11-20T04:44:12.787578Z"
    }
   },
   "outputs": [],
   "source": [
    "meter_contrastive_train = LastMeter()\n",
    "meter_contrastive_valid = LastMeter()\n",
    "contrastive_epoch = 0"
   ]
  },
  {
   "cell_type": "code",
   "execution_count": 58,
   "id": "6b6dc814",
   "metadata": {
    "ExecuteTime": {
     "end_time": "2023-11-20T05:04:02.829385Z",
     "start_time": "2023-11-20T05:04:02.825334Z"
    }
   },
   "outputs": [],
   "source": [
    "classific_weight = 0.0\n",
    "contrastive_weight = 0.5 * 10\n",
    "momentum_encoder = 0.1"
   ]
  },
  {
   "cell_type": "code",
   "execution_count": 61,
   "id": "f7a450f3",
   "metadata": {
    "ExecuteTime": {
     "end_time": "2023-11-20T05:08:42.972372Z",
     "start_time": "2023-11-20T05:04:53.802329Z"
    },
    "scrolled": false
   },
   "outputs": [
    {
     "data": {
      "application/vnd.jupyter.widget-view+json": {
       "model_id": "",
       "version_major": 2,
       "version_minor": 0
      },
      "text/plain": [
       "  0%|          | 0/149 [00:00<?, ?it/s]"
      ]
     },
     "metadata": {},
     "output_type": "display_data"
    },
    {
     "data": {
      "application/vnd.jupyter.widget-view+json": {
       "model_id": "",
       "version_major": 2,
       "version_minor": 0
      },
      "text/plain": [
       "  0%|          | 0/74 [00:00<?, ?it/s]"
      ]
     },
     "metadata": {},
     "output_type": "display_data"
    },
    {
     "name": "stdout",
     "output_type": "stream",
     "text": [
      "epoch 28 (train): loss_clf: 17.996, loss_con: 6.436, mAP_clf: 0.692, mAP_proto: 0.598, sim_proto: 0.607\n",
      "epoch 28 (valid): conf_pseu: 1.000, acc_pseu: 0.433, mAP_clf: 0.578, mAP_proto: 0.513, sim_proto: 0.609\n"
     ]
    },
    {
     "data": {
      "application/vnd.jupyter.widget-view+json": {
       "model_id": "",
       "version_major": 2,
       "version_minor": 0
      },
      "text/plain": [
       "  0%|          | 0/149 [00:00<?, ?it/s]"
      ]
     },
     "metadata": {},
     "output_type": "display_data"
    },
    {
     "data": {
      "application/vnd.jupyter.widget-view+json": {
       "model_id": "",
       "version_major": 2,
       "version_minor": 0
      },
      "text/plain": [
       "  0%|          | 0/74 [00:00<?, ?it/s]"
      ]
     },
     "metadata": {},
     "output_type": "display_data"
    },
    {
     "name": "stdout",
     "output_type": "stream",
     "text": [
      "epoch 29 (train): loss_clf: 17.984, loss_con: 6.390, mAP_clf: 0.694, mAP_proto: 0.600, sim_proto: 0.616\n",
      "epoch 29 (valid): conf_pseu: 1.000, acc_pseu: 0.433, mAP_clf: 0.580, mAP_proto: 0.514, sim_proto: 0.617\n"
     ]
    },
    {
     "data": {
      "application/vnd.jupyter.widget-view+json": {
       "model_id": "",
       "version_major": 2,
       "version_minor": 0
      },
      "text/plain": [
       "  0%|          | 0/149 [00:00<?, ?it/s]"
      ]
     },
     "metadata": {},
     "output_type": "display_data"
    },
    {
     "data": {
      "application/vnd.jupyter.widget-view+json": {
       "model_id": "",
       "version_major": 2,
       "version_minor": 0
      },
      "text/plain": [
       "  0%|          | 0/74 [00:00<?, ?it/s]"
      ]
     },
     "metadata": {},
     "output_type": "display_data"
    },
    {
     "name": "stdout",
     "output_type": "stream",
     "text": [
      "epoch 30 (train): loss_clf: 17.998, loss_con: 6.410, mAP_clf: 0.692, mAP_proto: 0.597, sim_proto: 0.611\n",
      "epoch 30 (valid): conf_pseu: 1.000, acc_pseu: 0.433, mAP_clf: 0.577, mAP_proto: 0.515, sim_proto: 0.614\n"
     ]
    },
    {
     "data": {
      "application/vnd.jupyter.widget-view+json": {
       "model_id": "",
       "version_major": 2,
       "version_minor": 0
      },
      "text/plain": [
       "  0%|          | 0/149 [00:00<?, ?it/s]"
      ]
     },
     "metadata": {},
     "output_type": "display_data"
    },
    {
     "data": {
      "application/vnd.jupyter.widget-view+json": {
       "model_id": "",
       "version_major": 2,
       "version_minor": 0
      },
      "text/plain": [
       "  0%|          | 0/74 [00:00<?, ?it/s]"
      ]
     },
     "metadata": {},
     "output_type": "display_data"
    },
    {
     "name": "stdout",
     "output_type": "stream",
     "text": [
      "epoch 31 (train): loss_clf: 18.013, loss_con: 6.412, mAP_clf: 0.692, mAP_proto: 0.596, sim_proto: 0.612\n",
      "epoch 31 (valid): conf_pseu: 1.000, acc_pseu: 0.433, mAP_clf: 0.578, mAP_proto: 0.511, sim_proto: 0.610\n"
     ]
    },
    {
     "data": {
      "application/vnd.jupyter.widget-view+json": {
       "model_id": "",
       "version_major": 2,
       "version_minor": 0
      },
      "text/plain": [
       "  0%|          | 0/149 [00:00<?, ?it/s]"
      ]
     },
     "metadata": {},
     "output_type": "display_data"
    },
    {
     "data": {
      "application/vnd.jupyter.widget-view+json": {
       "model_id": "",
       "version_major": 2,
       "version_minor": 0
      },
      "text/plain": [
       "  0%|          | 0/74 [00:00<?, ?it/s]"
      ]
     },
     "metadata": {},
     "output_type": "display_data"
    },
    {
     "name": "stdout",
     "output_type": "stream",
     "text": [
      "epoch 32 (train): loss_clf: 17.976, loss_con: 6.408, mAP_clf: 0.692, mAP_proto: 0.601, sim_proto: 0.614\n",
      "epoch 32 (valid): conf_pseu: 1.000, acc_pseu: 0.433, mAP_clf: 0.577, mAP_proto: 0.520, sim_proto: 0.612\n"
     ]
    },
    {
     "data": {
      "application/vnd.jupyter.widget-view+json": {
       "model_id": "",
       "version_major": 2,
       "version_minor": 0
      },
      "text/plain": [
       "  0%|          | 0/149 [00:00<?, ?it/s]"
      ]
     },
     "metadata": {},
     "output_type": "display_data"
    },
    {
     "data": {
      "application/vnd.jupyter.widget-view+json": {
       "model_id": "",
       "version_major": 2,
       "version_minor": 0
      },
      "text/plain": [
       "  0%|          | 0/74 [00:00<?, ?it/s]"
      ]
     },
     "metadata": {},
     "output_type": "display_data"
    },
    {
     "name": "stdout",
     "output_type": "stream",
     "text": [
      "epoch 33 (train): loss_clf: 17.994, loss_con: 6.368, mAP_clf: 0.694, mAP_proto: 0.598, sim_proto: 0.615\n",
      "epoch 33 (valid): conf_pseu: 1.000, acc_pseu: 0.433, mAP_clf: 0.579, mAP_proto: 0.511, sim_proto: 0.618\n"
     ]
    },
    {
     "data": {
      "application/vnd.jupyter.widget-view+json": {
       "model_id": "",
       "version_major": 2,
       "version_minor": 0
      },
      "text/plain": [
       "  0%|          | 0/149 [00:00<?, ?it/s]"
      ]
     },
     "metadata": {},
     "output_type": "display_data"
    },
    {
     "data": {
      "application/vnd.jupyter.widget-view+json": {
       "model_id": "",
       "version_major": 2,
       "version_minor": 0
      },
      "text/plain": [
       "  0%|          | 0/74 [00:00<?, ?it/s]"
      ]
     },
     "metadata": {},
     "output_type": "display_data"
    },
    {
     "name": "stdout",
     "output_type": "stream",
     "text": [
      "epoch 34 (train): loss_clf: 18.030, loss_con: 6.419, mAP_clf: 0.691, mAP_proto: 0.595, sim_proto: 0.612\n",
      "epoch 34 (valid): conf_pseu: 1.000, acc_pseu: 0.433, mAP_clf: 0.574, mAP_proto: 0.512, sim_proto: 0.614\n"
     ]
    },
    {
     "data": {
      "application/vnd.jupyter.widget-view+json": {
       "model_id": "",
       "version_major": 2,
       "version_minor": 0
      },
      "text/plain": [
       "  0%|          | 0/149 [00:00<?, ?it/s]"
      ]
     },
     "metadata": {},
     "output_type": "display_data"
    },
    {
     "data": {
      "application/vnd.jupyter.widget-view+json": {
       "model_id": "",
       "version_major": 2,
       "version_minor": 0
      },
      "text/plain": [
       "  0%|          | 0/74 [00:00<?, ?it/s]"
      ]
     },
     "metadata": {},
     "output_type": "display_data"
    },
    {
     "name": "stdout",
     "output_type": "stream",
     "text": [
      "epoch 35 (train): loss_clf: 17.978, loss_con: 6.383, mAP_clf: 0.693, mAP_proto: 0.597, sim_proto: 0.614\n",
      "epoch 35 (valid): conf_pseu: 1.000, acc_pseu: 0.433, mAP_clf: 0.576, mAP_proto: 0.513, sim_proto: 0.617\n"
     ]
    },
    {
     "data": {
      "application/vnd.jupyter.widget-view+json": {
       "model_id": "",
       "version_major": 2,
       "version_minor": 0
      },
      "text/plain": [
       "  0%|          | 0/149 [00:00<?, ?it/s]"
      ]
     },
     "metadata": {},
     "output_type": "display_data"
    },
    {
     "data": {
      "application/vnd.jupyter.widget-view+json": {
       "model_id": "",
       "version_major": 2,
       "version_minor": 0
      },
      "text/plain": [
       "  0%|          | 0/74 [00:00<?, ?it/s]"
      ]
     },
     "metadata": {},
     "output_type": "display_data"
    },
    {
     "name": "stdout",
     "output_type": "stream",
     "text": [
      "epoch 36 (train): loss_clf: 18.008, loss_con: 6.402, mAP_clf: 0.692, mAP_proto: 0.598, sim_proto: 0.615\n",
      "epoch 36 (valid): conf_pseu: 1.000, acc_pseu: 0.433, mAP_clf: 0.575, mAP_proto: 0.507, sim_proto: 0.609\n"
     ]
    },
    {
     "data": {
      "application/vnd.jupyter.widget-view+json": {
       "model_id": "",
       "version_major": 2,
       "version_minor": 0
      },
      "text/plain": [
       "  0%|          | 0/149 [00:00<?, ?it/s]"
      ]
     },
     "metadata": {},
     "output_type": "display_data"
    },
    {
     "data": {
      "application/vnd.jupyter.widget-view+json": {
       "model_id": "",
       "version_major": 2,
       "version_minor": 0
      },
      "text/plain": [
       "  0%|          | 0/74 [00:00<?, ?it/s]"
      ]
     },
     "metadata": {},
     "output_type": "display_data"
    },
    {
     "name": "stdout",
     "output_type": "stream",
     "text": [
      "epoch 37 (train): loss_clf: 17.979, loss_con: 6.430, mAP_clf: 0.693, mAP_proto: 0.602, sim_proto: 0.615\n",
      "epoch 37 (valid): conf_pseu: 1.000, acc_pseu: 0.433, mAP_clf: 0.580, mAP_proto: 0.517, sim_proto: 0.617\n"
     ]
    }
   ],
   "source": [
    "for e in range(10):\n",
    "    meter_epoch_train = train_epoch_contrastive(show_progress=True, update_target=False)\n",
    "    meter_epoch_valid = eval_epoch_contrastive(show_progress=True)\n",
    "    \n",
    "    print(f'epoch {contrastive_epoch:>2d} (train): {meter_epoch_train}')\n",
    "    print(f'epoch {contrastive_epoch:>2d} (valid): {meter_epoch_valid}')\n",
    "    \n",
    "    meter_contrastive_train.update(epoch=contrastive_epoch, **meter_epoch_train.average_value())\n",
    "    meter_contrastive_valid.update(epoch=contrastive_epoch, **meter_epoch_valid.average_value())\n",
    "    \n",
    "    contrastive_epoch += 1"
   ]
  },
  {
   "cell_type": "markdown",
   "id": "7b6434a5",
   "metadata": {},
   "source": [
    "#### Result"
   ]
  },
  {
   "cell_type": "code",
   "execution_count": 63,
   "id": "0300322d",
   "metadata": {
    "ExecuteTime": {
     "end_time": "2023-11-20T05:10:10.244570Z",
     "start_time": "2023-11-20T05:10:09.726278Z"
    }
   },
   "outputs": [],
   "source": [
    "import matplotlib.pyplot as plt"
   ]
  },
  {
   "cell_type": "code",
   "execution_count": 217,
   "id": "d0e51636",
   "metadata": {
    "ExecuteTime": {
     "end_time": "2023-11-20T09:15:35.209034Z",
     "start_time": "2023-11-20T09:15:35.048685Z"
    }
   },
   "outputs": [
    {
     "data": {
      "image/png": "[encoded data removed]",
      "text/plain": [
       "<Figure size 600x300 with 1 Axes>"
      ]
     },
     "metadata": {},
     "output_type": "display_data"
    }
   ],
   "source": [
    "plt.figure(figsize=(6, 3))\n",
    "plt.plot(meter_contrastive_train.values['mAP_clf'], '-', color='#27a', label='mAP@clf (train)')\n",
    "plt.plot(meter_contrastive_valid.values['mAP_clf'], '-', color='#f81', label='mAP@clf (valid)')\n",
    "plt.plot(meter_contrastive_train.values['mAP_proto'], '-.', color='#27a', label='mAP@proto (train)')\n",
    "plt.plot(meter_contrastive_valid.values['mAP_proto'], '-.', color='#f81', label='mAP@proto (valid)')\n",
    "plt.legend()\n",
    "plt.xlabel('epoch')\n",
    "plt.title('ResNet18 on COCO2017\\n(noise_rate=0.05, loss=BCEloss, pretrained=True)')\n",
    "plt.show()"
   ]
  },
  {
   "cell_type": "code",
   "execution_count": 263,
   "id": "570cd39e",
   "metadata": {
    "ExecuteTime": {
     "end_time": "2023-11-20T09:27:05.634573Z",
     "start_time": "2023-11-20T09:27:05.502525Z"
    }
   },
   "outputs": [
    {
     "data": {
      "image/png": "[encoded data removed]",
      "text/plain": [
       "<Figure size 600x300 with 1 Axes>"
      ]
     },
     "metadata": {},
     "output_type": "display_data"
    }
   ],
   "source": [
    "plt.figure(figsize=(6, 3))\n",
    "plt.plot(meter_contrastive_train.values['sim_proto'], '-', color='#27a', label='similarity@proto (train)')\n",
    "plt.plot(meter_contrastive_valid.values['sim_proto'], '-', color='#f81', label='similarity@proto (valid)')\n",
    "plt.legend()\n",
    "plt.xlabel('epoch')\n",
    "plt.ylim(0, 1)\n",
    "plt.title('ResNet18 on COCO2017\\n(noise_rate=0.05, loss=BCEloss, pretrained=True)')\n",
    "plt.show()"
   ]
  },
  {
   "cell_type": "markdown",
   "id": "c4a01690",
   "metadata": {},
   "source": [
    "## Result"
   ]
  },
  {
   "cell_type": "code",
   "execution_count": 30,
   "id": "47233505",
   "metadata": {
    "ExecuteTime": {
     "end_time": "2023-11-15T04:59:19.764847Z",
     "start_time": "2023-11-15T04:59:19.744485Z"
    }
   },
   "outputs": [
    {
     "ename": "NameError",
     "evalue": "name 'meter_train' is not defined",
     "output_type": "error",
     "traceback": [
      "\u001b[0;31m---------------------------------------------------------------------------\u001b[0m",
      "\u001b[0;31mNameError\u001b[0m                                 Traceback (most recent call last)",
      "Cell \u001b[0;32mIn[30], line 1\u001b[0m\n\u001b[0;32m----> 1\u001b[0m \u001b[38;5;28mprint\u001b[39m(\u001b[43mmeter_train\u001b[49m)\n\u001b[1;32m      2\u001b[0m \u001b[38;5;28mprint\u001b[39m(meter_valid)\n",
      "\u001b[0;31mNameError\u001b[0m: name 'meter_train' is not defined"
     ]
    }
   ],
   "source": [
    "print(meter_train)\n",
    "print(meter_valid)"
   ]
  },
  {
   "cell_type": "code",
   "execution_count": 31,
   "id": "086ad5a6",
   "metadata": {
    "ExecuteTime": {
     "end_time": "2023-11-15T04:59:22.224052Z",
     "start_time": "2023-11-15T04:59:21.971522Z"
    }
   },
   "outputs": [],
   "source": [
    "import matplotlib.pyplot as plt"
   ]
  },
  {
   "cell_type": "code",
   "execution_count": 32,
   "id": "abc4e38e",
   "metadata": {
    "ExecuteTime": {
     "end_time": "2023-11-15T04:59:22.265356Z",
     "start_time": "2023-11-15T04:59:22.226729Z"
    }
   },
   "outputs": [
    {
     "ename": "NameError",
     "evalue": "name 'meter_train' is not defined",
     "output_type": "error",
     "traceback": [
      "\u001b[0;31m---------------------------------------------------------------------------\u001b[0m",
      "\u001b[0;31mNameError\u001b[0m                                 Traceback (most recent call last)",
      "Cell \u001b[0;32mIn[32], line 2\u001b[0m\n\u001b[1;32m      1\u001b[0m plt\u001b[38;5;241m.\u001b[39mfigure(figsize\u001b[38;5;241m=\u001b[39m(\u001b[38;5;241m6\u001b[39m, \u001b[38;5;241m3\u001b[39m))\n\u001b[0;32m----> 2\u001b[0m plt\u001b[38;5;241m.\u001b[39mplot(\u001b[43mmeter_train\u001b[49m\u001b[38;5;241m.\u001b[39mvalues[\u001b[38;5;124m'\u001b[39m\u001b[38;5;124mmAP_q\u001b[39m\u001b[38;5;124m'\u001b[39m], \u001b[38;5;124m'\u001b[39m\u001b[38;5;124m-\u001b[39m\u001b[38;5;124m'\u001b[39m, color\u001b[38;5;241m=\u001b[39m\u001b[38;5;124m'\u001b[39m\u001b[38;5;124m#27a\u001b[39m\u001b[38;5;124m'\u001b[39m, label\u001b[38;5;241m=\u001b[39m\u001b[38;5;124m'\u001b[39m\u001b[38;5;124mmAP@model1 (train)\u001b[39m\u001b[38;5;124m'\u001b[39m)\n\u001b[1;32m      3\u001b[0m plt\u001b[38;5;241m.\u001b[39mplot(meter_valid\u001b[38;5;241m.\u001b[39mvalues[\u001b[38;5;124m'\u001b[39m\u001b[38;5;124mmAP_q\u001b[39m\u001b[38;5;124m'\u001b[39m], \u001b[38;5;124m'\u001b[39m\u001b[38;5;124m-\u001b[39m\u001b[38;5;124m'\u001b[39m, color\u001b[38;5;241m=\u001b[39m\u001b[38;5;124m'\u001b[39m\u001b[38;5;124m#f81\u001b[39m\u001b[38;5;124m'\u001b[39m, label\u001b[38;5;241m=\u001b[39m\u001b[38;5;124m'\u001b[39m\u001b[38;5;124mmAP@model1 (valid)\u001b[39m\u001b[38;5;124m'\u001b[39m)\n\u001b[1;32m      4\u001b[0m plt\u001b[38;5;241m.\u001b[39mplot(meter_train\u001b[38;5;241m.\u001b[39mvalues[\u001b[38;5;124m'\u001b[39m\u001b[38;5;124mmAP_k\u001b[39m\u001b[38;5;124m'\u001b[39m], \u001b[38;5;124m'\u001b[39m\u001b[38;5;124m-.\u001b[39m\u001b[38;5;124m'\u001b[39m, color\u001b[38;5;241m=\u001b[39m\u001b[38;5;124m'\u001b[39m\u001b[38;5;124m#27a\u001b[39m\u001b[38;5;124m'\u001b[39m, label\u001b[38;5;241m=\u001b[39m\u001b[38;5;124m'\u001b[39m\u001b[38;5;124mmAP@model2 (train)\u001b[39m\u001b[38;5;124m'\u001b[39m)\n",
      "\u001b[0;31mNameError\u001b[0m: name 'meter_train' is not defined"
     ]
    },
    {
     "data": {
      "text/plain": [
       "<Figure size 600x300 with 0 Axes>"
      ]
     },
     "metadata": {},
     "output_type": "display_data"
    }
   ],
   "source": [
    "plt.figure(figsize=(6, 3))\n",
    "plt.plot(meter_train.values['mAP_q'], '-', color='#27a', label='mAP@model1 (train)')\n",
    "plt.plot(meter_valid.values['mAP_q'], '-', color='#f81', label='mAP@model1 (valid)')\n",
    "plt.plot(meter_train.values['mAP_k'], '-.', color='#27a', label='mAP@model2 (train)')\n",
    "plt.plot(meter_valid.values['mAP_k'], '-.', color='#f81', label='mAP@model2 (valid)')\n",
    "plt.legend()\n",
    "plt.xlabel('epoch')\n",
    "plt.title('TResNet-Large on COCO2017\\n(noise_rate=0.05, loss=BCEloss, pretrained=True)')\n",
    "plt.show()"
   ]
  },
  {
   "cell_type": "markdown",
   "id": "ec79679b",
   "metadata": {},
   "source": [
    "`TResNet-Large on COCO2017 (noise_rate=0.05, loss=BCEloss, pretrained=True)`: \n",
    "\n",
    "得益于预训练参数, mAP 在30个epoch内迅速上升至0.66，随后过拟合。\n",
    "\n",
    "`TResNet-Large on COCO2017 (noise_rate=0.05, loss=BCEloss, pretrained=False)`: \n",
    " \n",
    "mAP 在120个epoch左右时上升至0.50, 随后过拟合。"
   ]
  },
  {
   "cell_type": "code",
   "execution_count": 44,
   "id": "edd4d19d",
   "metadata": {
    "ExecuteTime": {
     "end_time": "2023-11-15T01:57:23.451963Z",
     "start_time": "2023-11-15T01:57:23.300024Z"
    }
   },
   "outputs": [
    {
     "data": {
      "image/png": "[encoded data removed]",
      "text/plain": [
       "<Figure size 600x300 with 1 Axes>"
      ]
     },
     "metadata": {},
     "output_type": "display_data"
    }
   ],
   "source": [
    "plt.figure(figsize=(6, 3))\n",
    "plt.plot(meter_train.values['mAP'], label='mAP (train)')\n",
    "plt.plot(meter_valid.values['mAP'], label='mAP (valid)')\n",
    "plt.legend()\n",
    "plt.xlabel('epoch')\n",
    "plt.title('TResNet-Large on COCO2017\\n(noise_rate=0.05, loss=BCEloss, pretrained=False)')\n",
    "plt.show()"
   ]
  },
  {
   "cell_type": "markdown",
   "id": "7aa6a8f2",
   "metadata": {},
   "source": [
    "## Debug"
   ]
  },
  {
   "cell_type": "markdown",
   "id": "b1dafed6",
   "metadata": {},
   "source": [
    "### Train"
   ]
  },
  {
   "cell_type": "code",
   "execution_count": 218,
   "id": "c787c781",
   "metadata": {
    "ExecuteTime": {
     "end_time": "2023-11-20T09:19:23.835552Z",
     "start_time": "2023-11-20T09:19:22.564562Z"
    }
   },
   "outputs": [],
   "source": [
    "model_q.train()\n",
    "model_k.train()\n",
    "\n",
    "it = iter(train_loader)"
   ]
  },
  {
   "cell_type": "code",
   "execution_count": 219,
   "id": "c71707f9",
   "metadata": {
    "ExecuteTime": {
     "end_time": "2023-11-20T09:19:24.458791Z",
     "start_time": "2023-11-20T09:19:23.839225Z"
    }
   },
   "outputs": [],
   "source": [
    "indices, img, img_w, img_s, y_true, y_candidate = next(it)\n",
    "\n",
    "img_w, img_s = img_w.cuda(), img_s.cuda()\n",
    "y_candidate, y_true = y_candidate.cuda(), y_true.cuda()\n",
    "indices = indices.cuda()\n",
    "batch_size, num_classes = y_candidate.shape"
   ]
  },
  {
   "cell_type": "markdown",
   "id": "478f3d24",
   "metadata": {},
   "source": [
    "#### Vanilla"
   ]
  },
  {
   "cell_type": "code",
   "execution_count": 46,
   "id": "afc516ed",
   "metadata": {
    "ExecuteTime": {
     "end_time": "2023-11-15T07:04:33.306616Z",
     "start_time": "2023-11-15T07:04:33.253271Z"
    }
   },
   "outputs": [],
   "source": [
    "_, y_logit_q = model_q(img_w)\n",
    "_, y_logit_k = model_k(img_w)\n",
    "y_score_q = sigmoid(y_logit_q)\n",
    "y_score_k = sigmoid(y_logit_k)\n",
    "\n",
    "with torch.no_grad():\n",
    "    for param_q, param_k in zip(model_q.parameters(), model_k.parameters()):\n",
    "        param_k.data += momentum_encoder * (param_q.data - param_k.data)\n",
    "\n",
    "loss = multilabel_partial_loss(y_target=y_candidate, y_score=y_score_q)\n",
    "\n",
    "# optimize\n",
    "# optimizer.zero_grad()\n",
    "# loss.backward()\n",
    "# optimizer.step()\n",
    "\n",
    "# record\n",
    "loss_clf = loss.item()\n",
    "r_loss_q = label_ranking_loss(y_true, y_score_q)\n",
    "mAP_q = average_precision_score(y_true, y_score_q)\n",
    "r_loss_k = label_ranking_loss(y_true, y_score_k)\n",
    "mAP_k = average_precision_score(y_true, y_score_k)"
   ]
  },
  {
   "cell_type": "code",
   "execution_count": 47,
   "id": "33b8cf17",
   "metadata": {
    "ExecuteTime": {
     "end_time": "2023-11-15T07:04:34.299299Z",
     "start_time": "2023-11-15T07:04:34.281095Z"
    }
   },
   "outputs": [
    {
     "data": {
      "text/plain": [
       "tensor([[0.0301, 0.0190, 0.0064,  ..., 0.1537, 0.0295, 0.0282],\n",
       "        [0.9953, 0.0317, 0.0441,  ..., 0.0200, 0.0297, 0.0759],\n",
       "        [0.9978, 0.0613, 0.0697,  ..., 0.0168, 0.0386, 0.0392],\n",
       "        ...,\n",
       "        [0.9532, 0.3188, 0.9491,  ..., 0.0492, 0.0145, 0.0332],\n",
       "        [0.2229, 0.0971, 0.0255,  ..., 0.1158, 0.0587, 0.1355],\n",
       "        [0.9960, 0.0314, 0.0411,  ..., 0.0277, 0.0312, 0.0564]],\n",
       "       device='cuda:0', grad_fn=<SigmoidBackward0>)"
      ]
     },
     "execution_count": 47,
     "metadata": {},
     "output_type": "execute_result"
    }
   ],
   "source": [
    "y_score_q"
   ]
  },
  {
   "cell_type": "code",
   "execution_count": 46,
   "id": "7dcf7ca5",
   "metadata": {
    "ExecuteTime": {
     "end_time": "2023-11-15T05:00:57.935452Z",
     "start_time": "2023-11-15T05:00:57.927726Z"
    }
   },
   "outputs": [
    {
     "data": {
      "text/plain": [
       "tensor(5.8750, device='cuda:0')"
      ]
     },
     "execution_count": 46,
     "metadata": {},
     "output_type": "execute_result"
    }
   ],
   "source": [
    "y_candidate.sum(dim=1).mean()"
   ]
  },
  {
   "cell_type": "markdown",
   "id": "c1b62528",
   "metadata": {},
   "source": [
    "#### Contrastive"
   ]
  },
  {
   "cell_type": "code",
   "execution_count": 220,
   "id": "133f5f68",
   "metadata": {
    "ExecuteTime": {
     "end_time": "2023-11-20T09:19:33.906361Z",
     "start_time": "2023-11-20T09:19:33.903356Z"
    }
   },
   "outputs": [],
   "source": [
    "update_target = False\n",
    "classific_weight = 0.0\n",
    "contrastive_weight = 1.0"
   ]
  },
  {
   "cell_type": "code",
   "execution_count": 221,
   "id": "751c11f0",
   "metadata": {
    "ExecuteTime": {
     "end_time": "2023-11-20T09:19:34.279820Z",
     "start_time": "2023-11-20T09:19:34.222528Z"
    },
    "code_folding": []
   },
   "outputs": [],
   "source": [
    "embed_q, y_logit_q = model_q(img_w)\n",
    "embed_k, _         = model_k(img_s) # no_grad\n",
    "\n",
    "y_score_q = sigmoid(y_logit_q)\n",
    "\n",
    "y_score_p_pos = 0.5 + 0.5 * embed_q @ embed_p_pos.t() # (0, 1)\n",
    "y_score_p_neg = 0.5 + 0.5 * embed_q @ embed_p_neg.t() # (0, 1)\n",
    "y_score_p = y_score_p_pos / (y_score_p_pos + y_score_p_neg)\n",
    "\n",
    "y_target_q = (y_score_q > 0.5).float().detach() * y_candidate # no_grad\n",
    "y_target_p = (y_score_p > 0.5).float().detach() * y_candidate # no_grad\n",
    "\n",
    "# momentum update\n",
    "with torch.no_grad():\n",
    "    # momentum update embed_p_pos, embed_p_neg\n",
    "    for tgt, emd_q in zip(y_target_q, embed_q):\n",
    "        embed_p_pos += momentum_proto * (emd_q.unsqueeze(0) - embed_p_pos) * tgt.unsqueeze(-1)\n",
    "        embed_p_neg += momentum_proto * (emd_q.unsqueeze(0) - embed_p_neg) * (1.0 - tgt).unsqueeze(-1)\n",
    "    embed_p_pos = normalize(embed_p_pos, p=2, dim=1)\n",
    "    embed_p_neg = normalize(embed_p_neg, p=2, dim=1)\n",
    "\n",
    "    # momentum update Y_cls_target\n",
    "    if update_target:\n",
    "        Y_cls_target[indices] += momentum_target * (y_target_p - Y_cls_target[indices])\n",
    "\n",
    "    # update queue\n",
    "    embed_k_queue[queue_idx: queue_idx + batch_size] = embed_k\n",
    "    y_target_q_queue[queue_idx: queue_idx + batch_size] = y_target_q\n",
    "    queue_idx = (queue_idx + batch_size) % queue_size\n",
    "\n",
    "# make contrastive pairs\n",
    "with torch.no_grad():\n",
    "    keys = torch.cat([embed_q, embed_k_queue], dim=0)\n",
    "    targets = torch.cat([y_target_q, y_target_q_queue], dim=0)\n",
    "    mask = (torch.cdist(y_target_q, targets) < 0.1).float()\n",
    "    # mask-out self-contrast cases\n",
    "    mask *= (1.0 - torch.eye(*mask.shape).to(mask.device))\n",
    "\n",
    "loss_classific = multilabel_partial_loss(y_target=Y_cls_target[indices], y_score=y_score_q)\n",
    "loss_contrastive = info_nce_loss2(query=embed_q, keys=keys, positive_mask=mask)\n",
    "# auxiliary loss\n",
    "loss_prototype = 0.0\n",
    "\n",
    "loss = classific_weight * loss_classific + contrastive_weight * loss_contrastive\n",
    "\n",
    "# optimize\n",
    "# optimizer.zero_grad()\n",
    "# loss.backward()\n",
    "# optimizer.step()\n",
    "\n",
    "with torch.no_grad():\n",
    "    # momentum update encoder_k\n",
    "    for param_q, param_k in zip(model_q.parameters(), model_k.parameters()):\n",
    "        param_k.data += momentum_encoder * (param_q.data - param_k.data)\n"
   ]
  },
  {
   "cell_type": "code",
   "execution_count": 225,
   "id": "8c94b262",
   "metadata": {
    "ExecuteTime": {
     "end_time": "2023-11-20T09:20:09.243714Z",
     "start_time": "2023-11-20T09:20:09.219165Z"
    }
   },
   "outputs": [],
   "source": [
    "embed_q, y_logit_q = model_q(img_w)\n",
    "embed_k, _         = model_k(img_s) # no_grad\n",
    "\n",
    "y_score_q = sigmoid(y_logit_q)\n",
    "y_target_q = (y_score_q > 0.5).float().detach()\n",
    "\n",
    "y_score_p_pos = 0.5 + 0.5 * embed_q @ embed_p_pos.t()\n",
    "y_score_p_neg = 0.5 + 0.5 * embed_q @ embed_p_neg.t()\n",
    "y_score_p = y_score_p_pos / (y_score_p_pos + y_score_p_neg)\n",
    "\n",
    "with torch.no_grad():\n",
    "    keys = torch.cat([embed_q, embed_k_queue], dim=0)\n",
    "    targets = torch.cat([y_target_q, y_target_q_queue], dim=0)\n",
    "    mask = (torch.cdist(y_target_q, targets) < 0.1).float()\n",
    "    proto_similarity = ((embed_q @ keys.t()) * mask).sum() / mask.sum()"
   ]
  },
  {
   "cell_type": "code",
   "execution_count": 226,
   "id": "cb179423",
   "metadata": {
    "ExecuteTime": {
     "end_time": "2023-11-20T09:20:13.471025Z",
     "start_time": "2023-11-20T09:20:13.466115Z"
    }
   },
   "outputs": [
    {
     "data": {
      "text/plain": [
       "tensor(0.6179, device='cuda:0')"
      ]
     },
     "execution_count": 226,
     "metadata": {},
     "output_type": "execute_result"
    }
   ],
   "source": [
    "proto_similarity"
   ]
  },
  {
   "cell_type": "code",
   "execution_count": 227,
   "id": "1e3e6f2a",
   "metadata": {
    "ExecuteTime": {
     "end_time": "2023-11-20T09:20:30.543990Z",
     "start_time": "2023-11-20T09:20:30.531032Z"
    }
   },
   "outputs": [
    {
     "data": {
      "text/plain": [
       "tensor([[-0.0568,  0.0525, -0.0505,  ...,  0.0113,  0.0341,  0.1487],\n",
       "        [ 0.1333, -0.0556,  0.0444,  ..., -0.0320,  0.0275,  0.0273],\n",
       "        [-0.1028,  0.0761,  0.0371,  ...,  0.0295,  0.0260,  0.0003],\n",
       "        ...,\n",
       "        [ 0.0940, -0.0637,  0.0024,  ...,  0.0850, -0.0271,  0.0315],\n",
       "        [-0.0428, -0.0532,  0.0038,  ..., -0.0498,  0.0651, -0.0184],\n",
       "        [-0.0858, -0.0082,  0.0046,  ...,  0.0169, -0.0014,  0.0458]],\n",
       "       device='cuda:0', grad_fn=<DivBackward0>)"
      ]
     },
     "execution_count": 227,
     "metadata": {},
     "output_type": "execute_result"
    }
   ],
   "source": [
    "embed_q"
   ]
  },
  {
   "cell_type": "code",
   "execution_count": 228,
   "id": "6d4ca9dd",
   "metadata": {
    "ExecuteTime": {
     "end_time": "2023-11-20T09:20:35.573115Z",
     "start_time": "2023-11-20T09:20:35.564630Z"
    }
   },
   "outputs": [
    {
     "data": {
      "text/plain": [
       "tensor([[-0.0338, -0.0263, -0.0502,  ..., -0.0425,  0.0758,  0.0232],\n",
       "        [ 0.0017, -0.0507,  0.0156,  ...,  0.0438,  0.0571,  0.0472],\n",
       "        [-0.1029,  0.1173,  0.0445,  ...,  0.0076,  0.0057, -0.0320],\n",
       "        ...,\n",
       "        [ 0.0973, -0.0118,  0.0205,  ...,  0.0614,  0.0271,  0.0497],\n",
       "        [-0.0717, -0.0335, -0.0733,  ...,  0.0230,  0.0584, -0.0298],\n",
       "        [-0.0457, -0.0004,  0.0242,  ..., -0.0112,  0.0333,  0.1266]],\n",
       "       device='cuda:0', grad_fn=<DivBackward0>)"
      ]
     },
     "execution_count": 228,
     "metadata": {},
     "output_type": "execute_result"
    }
   ],
   "source": [
    "embed_k"
   ]
  },
  {
   "cell_type": "code",
   "execution_count": 204,
   "id": "c5e0c21d",
   "metadata": {
    "ExecuteTime": {
     "end_time": "2023-11-15T08:19:44.360978Z",
     "start_time": "2023-11-15T08:19:44.357373Z"
    }
   },
   "outputs": [
    {
     "data": {
      "text/plain": [
       "0.7089201807975769"
      ]
     },
     "execution_count": 204,
     "metadata": {},
     "output_type": "execute_result"
    }
   ],
   "source": [
    "torch.tens"
   ]
  },
  {
   "cell_type": "code",
   "execution_count": 206,
   "id": "b95303eb",
   "metadata": {
    "ExecuteTime": {
     "end_time": "2023-11-15T08:19:49.484145Z",
     "start_time": "2023-11-15T08:19:49.478586Z"
    }
   },
   "outputs": [
    {
     "data": {
      "text/plain": [
       "0.7323943376541138"
      ]
     },
     "execution_count": 206,
     "metadata": {},
     "output_type": "execute_result"
    }
   ],
   "source": [
    "pseudo_label_accuracy((y_score_p > 0.5).float(), y_candidate, y_true)"
   ]
  },
  {
   "cell_type": "code",
   "execution_count": 184,
   "id": "35c0ebf2",
   "metadata": {
    "ExecuteTime": {
     "end_time": "2023-11-15T08:07:13.430915Z",
     "start_time": "2023-11-15T08:07:13.422807Z"
    }
   },
   "outputs": [
    {
     "data": {
      "text/plain": [
       "tensor([[0.9360, 0.0640, 0.7049,  ..., 0.6892, 0.0640, 0.0640],\n",
       "        [0.8817, 0.0691, 0.6923,  ..., 0.6708, 0.0691, 0.0691],\n",
       "        [0.8756, 0.0698, 0.8714,  ..., 0.6466, 0.0698, 0.0698],\n",
       "        ...,\n",
       "        [0.9329, 0.0671, 0.6427,  ..., 0.7017, 0.0671, 0.0671],\n",
       "        [0.9346, 0.0654, 0.7571,  ..., 0.6154, 0.0654, 0.0654],\n",
       "        [0.7997, 0.0652, 0.6574,  ..., 0.6594, 0.0652, 0.0652]],\n",
       "       device='cuda:0', grad_fn=<DivBackward0>)"
      ]
     },
     "execution_count": 184,
     "metadata": {},
     "output_type": "execute_result"
    }
   ],
   "source": [
    "sharpen(y_score_p, t=0.5) "
   ]
  },
  {
   "cell_type": "code",
   "execution_count": 173,
   "id": "d2301635",
   "metadata": {
    "ExecuteTime": {
     "end_time": "2023-11-15T08:05:59.364550Z",
     "start_time": "2023-11-15T08:05:59.359271Z"
    }
   },
   "outputs": [
    {
     "data": {
      "text/plain": [
       "tensor([0.2012, 0.2124, 0.2193, 0.2136, 0.1947, 0.2114, 0.1935, 0.1971, 0.2102,\n",
       "        0.2036, 0.1888, 0.2030, 0.2308, 0.2042, 0.2117, 0.1866, 0.1741, 0.2071,\n",
       "        0.1856, 0.2235, 0.1998, 0.1905, 0.2126, 0.2094, 0.1727, 0.2031, 0.2251,\n",
       "        0.2058, 0.2166, 0.2063, 0.2004, 0.2006], device='cuda:0',\n",
       "       grad_fn=<MinBackward0>)"
      ]
     },
     "execution_count": 173,
     "metadata": {},
     "output_type": "execute_result"
    }
   ],
   "source": [
    "sharpen(y_score_p, t=0.2, eps=0.01).min(dim=1).values"
   ]
  },
  {
   "cell_type": "code",
   "execution_count": 90,
   "id": "a5f8d8fa",
   "metadata": {
    "ExecuteTime": {
     "end_time": "2023-11-15T02:33:30.863346Z",
     "start_time": "2023-11-15T02:33:30.857712Z"
    }
   },
   "outputs": [
    {
     "data": {
      "text/plain": [
       "tensor(3.2766, device='cuda:0')"
      ]
     },
     "execution_count": 90,
     "metadata": {},
     "output_type": "execute_result"
    }
   ],
   "source": [
    "multilabel_partial_loss(Y_cls_target[indices], Y_cls_target[indices])"
   ]
  },
  {
   "cell_type": "code",
   "execution_count": 86,
   "id": "b0a6c75e",
   "metadata": {
    "ExecuteTime": {
     "end_time": "2023-11-15T02:33:21.869010Z",
     "start_time": "2023-11-15T02:33:21.796134Z"
    }
   },
   "outputs": [],
   "source": [
    "# optimize\n",
    "optimizer.zero_grad()\n",
    "loss.backward()\n",
    "optimizer.step()"
   ]
  },
  {
   "cell_type": "code",
   "execution_count": 78,
   "id": "bc2f4fb9",
   "metadata": {
    "ExecuteTime": {
     "end_time": "2023-11-15T02:32:43.867736Z",
     "start_time": "2023-11-15T02:32:43.849678Z"
    }
   },
   "outputs": [
    {
     "ename": "AttributeError",
     "evalue": "'Tensor' object has no attribute 'retrain_grad'",
     "output_type": "error",
     "traceback": [
      "\u001b[0;31m---------------------------------------------------------------------------\u001b[0m",
      "\u001b[0;31mAttributeError\u001b[0m                            Traceback (most recent call last)",
      "Cell \u001b[0;32mIn[78], line 1\u001b[0m\n\u001b[0;32m----> 1\u001b[0m \u001b[43my_score_q\u001b[49m\u001b[38;5;241;43m.\u001b[39;49m\u001b[43mretrain_grad\u001b[49m()\n",
      "\u001b[0;31mAttributeError\u001b[0m: 'Tensor' object has no attribute 'retrain_grad'"
     ]
    }
   ],
   "source": [
    "y_score_q"
   ]
  },
  {
   "cell_type": "code",
   "execution_count": 44,
   "id": "877bf9f2",
   "metadata": {
    "ExecuteTime": {
     "end_time": "2023-11-14T15:06:38.045703Z",
     "start_time": "2023-11-14T15:06:38.037332Z"
    }
   },
   "outputs": [
    {
     "data": {
      "text/plain": [
       "tensor(6.5000, device='cuda:0')"
      ]
     },
     "execution_count": 44,
     "metadata": {},
     "output_type": "execute_result"
    }
   ],
   "source": [
    "y_candidate.sum(dim=1).mean()"
   ]
  },
  {
   "cell_type": "code",
   "execution_count": 45,
   "id": "c682e907",
   "metadata": {
    "ExecuteTime": {
     "end_time": "2023-11-14T15:06:42.460393Z",
     "start_time": "2023-11-14T15:06:42.446757Z"
    }
   },
   "outputs": [
    {
     "data": {
      "text/plain": [
       "tensor(2.7188, device='cuda:0')"
      ]
     },
     "execution_count": 45,
     "metadata": {},
     "output_type": "execute_result"
    }
   ],
   "source": [
    "y_true.sum(dim=1).mean()"
   ]
  },
  {
   "cell_type": "markdown",
   "id": "6a67f414",
   "metadata": {},
   "source": [
    "### Eval"
   ]
  },
  {
   "cell_type": "code",
   "execution_count": null,
   "id": "c369e87c",
   "metadata": {},
   "outputs": [],
   "source": []
  },
  {
   "cell_type": "markdown",
   "id": "61b4bc24",
   "metadata": {},
   "source": [
    "### Visualize"
   ]
  },
  {
   "cell_type": "code",
   "execution_count": 229,
   "id": "5f586621",
   "metadata": {
    "ExecuteTime": {
     "end_time": "2023-11-20T09:21:16.892886Z",
     "start_time": "2023-11-20T09:21:16.889400Z"
    }
   },
   "outputs": [],
   "source": [
    "class UnNormalize(object):\n",
    "    def __init__(self, mean, std):\n",
    "        self.mean=mean\n",
    "        self.std=std\n",
    " \n",
    "    def __call__(self, tensor):\n",
    "        tensor = tensor.clone()\n",
    "        for t, m, s in zip(tensor,self.mean,self.std):\n",
    "            t.mul_(s).add_(m)\n",
    "        return tensor"
   ]
  },
  {
   "cell_type": "code",
   "execution_count": 230,
   "id": "d8a94beb",
   "metadata": {
    "ExecuteTime": {
     "end_time": "2023-11-20T09:21:28.205819Z",
     "start_time": "2023-11-20T09:21:28.203198Z"
    }
   },
   "outputs": [],
   "source": [
    "t = transforms.Compose([\n",
    "    UnNormalize((0.2443, 0.2394, 0.2425), (0.2443, 0.2394, 0.2425)),\n",
    "    transforms.ToPILImage()\n",
    "])"
   ]
  },
  {
   "cell_type": "code",
   "execution_count": 248,
   "id": "d532cf22",
   "metadata": {
    "ExecuteTime": {
     "end_time": "2023-11-20T09:23:13.406986Z",
     "start_time": "2023-11-20T09:23:13.370264Z"
    }
   },
   "outputs": [],
   "source": [
    "index, image_basic, image_weak_aug, image_strong_aug, y_true, y_candidate = dataset[0]"
   ]
  },
  {
   "cell_type": "code",
   "execution_count": 252,
   "id": "04635059",
   "metadata": {
    "ExecuteTime": {
     "end_time": "2023-11-20T09:23:23.785448Z",
     "start_time": "2023-11-20T09:23:23.765959Z"
    }
   },
   "outputs": [
    {
     "data": {
      "image/jpeg": "[encoded data removed]",
      "image/png": "[encoded data removed]",
      "text/plain": [
       "<PIL.Image.Image image mode=RGB size=224x224>"
      ]
     },
     "execution_count": 252,
     "metadata": {},
     "output_type": "execute_result"
    }
   ],
   "source": [
    "t(image_basic)"
   ]
  },
  {
   "cell_type": "code",
   "execution_count": 253,
   "id": "401f4e56",
   "metadata": {
    "ExecuteTime": {
     "end_time": "2023-11-20T09:23:24.096949Z",
     "start_time": "2023-11-20T09:23:24.077740Z"
    }
   },
   "outputs": [
    {
     "data": {
      "image/jpeg": "[encoded data removed]",
      "image/png": "[encoded data removed]",
      "text/plain": [
       "<PIL.Image.Image image mode=RGB size=224x224>"
      ]
     },
     "execution_count": 253,
     "metadata": {},
     "output_type": "execute_result"
    }
   ],
   "source": [
    "t(image_weak_aug)"
   ]
  },
  {
   "cell_type": "code",
   "execution_count": 254,
   "id": "466e2e45",
   "metadata": {
    "ExecuteTime": {
     "end_time": "2023-11-20T09:23:24.580064Z",
     "start_time": "2023-11-20T09:23:24.558874Z"
    }
   },
   "outputs": [
    {
     "data": {
      "image/jpeg": "[encoded data removed]",
      "image/png": "[encoded data removed]",
      "text/plain": [
       "<PIL.Image.Image image mode=RGB size=224x224>"
      ]
     },
     "execution_count": 254,
     "metadata": {},
     "output_type": "execute_result"
    }
   ],
   "source": [
    "t(image_strong_aug)"
   ]
  },
  {
   "cell_type": "code",
   "execution_count": 216,
   "id": "cd07566e",
   "metadata": {
    "ExecuteTime": {
     "end_time": "2023-11-20T08:07:32.945291Z",
     "start_time": "2023-11-20T08:07:32.922569Z"
    }
   },
   "outputs": [
    {
     "name": "stdout",
     "output_type": "stream",
     "text": [
      "loss = 0.98\n",
      "proto_similarity = 0.99\n",
      "embed_n = tensor([[-0.4835, -0.4077, -0.6626, -0.4012],\n",
      "        [-0.4213, -0.4291, -0.7145, -0.3576],\n",
      "        [ 0.3663, -0.8766, -0.1930,  0.2452],\n",
      "        [ 0.4337, -0.8300, -0.2583,  0.2371],\n",
      "        [ 0.2790, -0.8808, -0.3227,  0.2054]], grad_fn=<DivBackward0>)\n",
      "loss = 0.97\n",
      "proto_similarity = 0.99\n",
      "embed_n = tensor([[-0.4750, -0.4121, -0.6699, -0.3947],\n",
      "        [-0.4256, -0.4271, -0.7114, -0.3610],\n",
      "        [ 0.3639, -0.8786, -0.1875,  0.2461],\n",
      "        [ 0.4222, -0.8341, -0.2672,  0.2337],\n",
      "        [ 0.2934, -0.8776, -0.3161,  0.2094]], grad_fn=<DivBackward0>)\n",
      "loss = 0.96\n",
      "proto_similarity = 0.99\n",
      "embed_n = tensor([[-0.4672, -0.4160, -0.6765, -0.3887],\n",
      "        [-0.4295, -0.4252, -0.7087, -0.3641],\n",
      "        [ 0.3617, -0.8802, -0.1830,  0.2468],\n",
      "        [ 0.4118, -0.8376, -0.2751,  0.2306],\n",
      "        [ 0.3062, -0.8745, -0.3101,  0.2129]], grad_fn=<DivBackward0>)\n",
      "loss = 0.96\n",
      "proto_similarity = 0.99\n",
      "embed_n = tensor([[-0.4602, -0.4194, -0.6822, -0.3833],\n",
      "        [-0.4330, -0.4235, -0.7061, -0.3669],\n",
      "        [ 0.3597, -0.8816, -0.1794,  0.2473],\n",
      "        [ 0.4024, -0.8407, -0.2819,  0.2278],\n",
      "        [ 0.3177, -0.8716, -0.3045,  0.2160]], grad_fn=<DivBackward0>)\n",
      "loss = 0.96\n",
      "proto_similarity = 1.00\n",
      "embed_n = tensor([[-0.4539, -0.4223, -0.6873, -0.3784],\n",
      "        [-0.4361, -0.4219, -0.7038, -0.3695],\n",
      "        [ 0.3580, -0.8828, -0.1766,  0.2477],\n",
      "        [ 0.3939, -0.8433, -0.2878,  0.2254],\n",
      "        [ 0.3280, -0.8688, -0.2994,  0.2188]], grad_fn=<DivBackward0>)\n",
      "loss = 0.95\n",
      "proto_similarity = 1.00\n",
      "embed_n = tensor([[-0.4482, -0.4249, -0.6918, -0.3740],\n",
      "        [-0.4390, -0.4205, -0.7016, -0.3717],\n",
      "        [ 0.3564, -0.8837, -0.1746,  0.2480],\n",
      "        [ 0.3863, -0.8456, -0.2929,  0.2232],\n",
      "        [ 0.3372, -0.8663, -0.2947,  0.2213]], grad_fn=<DivBackward0>)\n",
      "loss = 0.95\n",
      "proto_similarity = 1.00\n",
      "embed_n = tensor([[-0.4431, -0.4272, -0.6958, -0.3701],\n",
      "        [-0.4415, -0.4192, -0.6997, -0.3738],\n",
      "        [ 0.3550, -0.8845, -0.1733,  0.2481],\n",
      "        [ 0.3795, -0.8477, -0.2973,  0.2213],\n",
      "        [ 0.3454, -0.8640, -0.2903,  0.2235]], grad_fn=<DivBackward0>)\n",
      "loss = 0.95\n",
      "proto_similarity = 1.00\n",
      "embed_n = tensor([[-0.4385, -0.4292, -0.6994, -0.3666],\n",
      "        [-0.4438, -0.4181, -0.6979, -0.3756],\n",
      "        [ 0.3538, -0.8851, -0.1725,  0.2481],\n",
      "        [ 0.3734, -0.8495, -0.3012,  0.2196],\n",
      "        [ 0.3527, -0.8618, -0.2863,  0.2255]], grad_fn=<DivBackward0>)\n",
      "loss = 0.95\n",
      "proto_similarity = 1.00\n",
      "embed_n = tensor([[-0.4343, -0.4310, -0.7025, -0.3634],\n",
      "        [-0.4459, -0.4171, -0.6964, -0.3772],\n",
      "        [ 0.3528, -0.8856, -0.1723,  0.2481],\n",
      "        [ 0.3678, -0.8512, -0.3044,  0.2181],\n",
      "        [ 0.3592, -0.8599, -0.2826,  0.2273]], grad_fn=<DivBackward0>)\n",
      "loss = 0.96\n",
      "proto_similarity = 1.00\n",
      "embed_n = tensor([[-0.4307, -0.4325, -0.7053, -0.3607],\n",
      "        [-0.4477, -0.4162, -0.6949, -0.3787],\n",
      "        [ 0.3519, -0.8859, -0.1726,  0.2479],\n",
      "        [ 0.3629, -0.8526, -0.3071,  0.2168],\n",
      "        [ 0.3650, -0.8581, -0.2792,  0.2289]], grad_fn=<DivBackward0>)\n",
      "loss = 0.96\n",
      "proto_similarity = 1.00\n",
      "embed_n = tensor([[-0.4274, -0.4338, -0.7077, -0.3582],\n",
      "        [-0.4494, -0.4154, -0.6937, -0.3799],\n",
      "        [ 0.3512, -0.8861, -0.1733,  0.2477],\n",
      "        [ 0.3585, -0.8539, -0.3095,  0.2157],\n",
      "        [ 0.3702, -0.8566, -0.2761,  0.2303]], grad_fn=<DivBackward0>)\n",
      "loss = 0.96\n",
      "proto_similarity = 1.00\n",
      "embed_n = tensor([[-0.4246, -0.4349, -0.7098, -0.3560],\n",
      "        [-0.4508, -0.4147, -0.6925, -0.3810],\n",
      "        [ 0.3506, -0.8862, -0.1744,  0.2474],\n",
      "        [ 0.3546, -0.8551, -0.3114,  0.2147],\n",
      "        [ 0.3747, -0.8551, -0.2733,  0.2316]], grad_fn=<DivBackward0>)\n",
      "loss = 0.96\n",
      "proto_similarity = 1.00\n",
      "embed_n = tensor([[-0.4221, -0.4359, -0.7116, -0.3542],\n",
      "        [-0.4520, -0.4141, -0.6915, -0.3820],\n",
      "        [ 0.3502, -0.8862, -0.1759,  0.2471],\n",
      "        [ 0.3510, -0.8562, -0.3129,  0.2139],\n",
      "        [ 0.3788, -0.8539, -0.2706,  0.2327]], grad_fn=<DivBackward0>)\n",
      "loss = 0.96\n",
      "proto_similarity = 1.00\n",
      "embed_n = tensor([[-0.4199, -0.4367, -0.7133, -0.3525],\n",
      "        [-0.4531, -0.4136, -0.6907, -0.3829],\n",
      "        [ 0.3498, -0.8861, -0.1776,  0.2467],\n",
      "        [ 0.3479, -0.8572, -0.3142,  0.2132],\n",
      "        [ 0.3823, -0.8528, -0.2682,  0.2337]], grad_fn=<DivBackward0>)\n",
      "loss = 0.96\n",
      "proto_similarity = 1.00\n",
      "embed_n = tensor([[-0.4180, -0.4373, -0.7146, -0.3511],\n",
      "        [-0.4541, -0.4132, -0.6899, -0.3836],\n",
      "        [ 0.3496, -0.8859, -0.1796,  0.2463],\n",
      "        [ 0.3451, -0.8581, -0.3152,  0.2126],\n",
      "        [ 0.3855, -0.8518, -0.2661,  0.2346]], grad_fn=<DivBackward0>)\n",
      "loss = 0.96\n",
      "proto_similarity = 1.00\n",
      "embed_n = tensor([[-0.4164, -0.4379, -0.7158, -0.3500],\n",
      "        [-0.4549, -0.4128, -0.6892, -0.3842],\n",
      "        [ 0.3494, -0.8857, -0.1818,  0.2458],\n",
      "        [ 0.3427, -0.8589, -0.3159,  0.2121],\n",
      "        [ 0.3882, -0.8510, -0.2641,  0.2354]], grad_fn=<DivBackward0>)\n",
      "loss = 0.96\n",
      "proto_similarity = 1.00\n",
      "embed_n = tensor([[-0.4150, -0.4383, -0.7168, -0.3490],\n",
      "        [-0.4556, -0.4125, -0.6887, -0.3847],\n",
      "        [ 0.3493, -0.8854, -0.1842,  0.2453],\n",
      "        [ 0.3406, -0.8597, -0.3164,  0.2117],\n",
      "        [ 0.3906, -0.8503, -0.2622,  0.2361]], grad_fn=<DivBackward0>)\n",
      "loss = 0.96\n",
      "proto_similarity = 1.00\n",
      "embed_n = tensor([[-0.4139, -0.4387, -0.7177, -0.3482],\n",
      "        [-0.4562, -0.4122, -0.6882, -0.3852],\n",
      "        [ 0.3493, -0.8850, -0.1868,  0.2448],\n",
      "        [ 0.3387, -0.8604, -0.3167,  0.2114],\n",
      "        [ 0.3927, -0.8497, -0.2606,  0.2367]], grad_fn=<DivBackward0>)\n",
      "loss = 0.96\n",
      "proto_similarity = 1.00\n",
      "embed_n = tensor([[-0.4129, -0.4389, -0.7184, -0.3475],\n",
      "        [-0.4567, -0.4121, -0.6878, -0.3855],\n",
      "        [ 0.3493, -0.8846, -0.1895,  0.2442],\n",
      "        [ 0.3370, -0.8611, -0.3168,  0.2112],\n",
      "        [ 0.3944, -0.8491, -0.2591,  0.2372]], grad_fn=<DivBackward0>)\n",
      "loss = 0.96\n",
      "proto_similarity = 1.00\n",
      "embed_n = tensor([[-0.4122, -0.4391, -0.7190, -0.3470],\n",
      "        [-0.4570, -0.4119, -0.6875, -0.3858],\n",
      "        [ 0.3494, -0.8841, -0.1923,  0.2436],\n",
      "        [ 0.3356, -0.8617, -0.3168,  0.2110],\n",
      "        [ 0.3959, -0.8487, -0.2577,  0.2377]], grad_fn=<DivBackward0>)\n"
     ]
    }
   ],
   "source": [
    "for i in range(20):\n",
    "    embed_n = normalize(embed, dim=1)\n",
    "    loss = info_nce_loss2(embed_n, embed_n.detach(), mask)\n",
    "    opt.zero_grad()\n",
    "    loss.backward()\n",
    "    opt.step()\n",
    "\n",
    "    proto_similarity = ((embed_n.detach() @ embed_n.detach().t()) * mask).sum() / mask.sum()\n",
    "\n",
    "    print(f'{loss = :.2f}')\n",
    "    print(f'{proto_similarity = :.2f}')\n",
    "    print(f'{embed_n = }')"
   ]
  },
  {
   "cell_type": "code",
   "execution_count": null,
   "id": "1664bc0d",
   "metadata": {},
   "outputs": [],
   "source": [
    "\n"
   ]
  },
  {
   "cell_type": "code",
   "execution_count": 133,
   "id": "d10a7e59",
   "metadata": {
    "ExecuteTime": {
     "end_time": "2023-11-20T08:01:20.556311Z",
     "start_time": "2023-11-20T08:01:20.550186Z"
    }
   },
   "outputs": [
    {
     "data": {
      "text/plain": [
       "(tensor(70.8871, grad_fn=<MeanBackward0>),\n",
       " tensor([[-1.4739, -2.6968,  0.8080,  0.3447],\n",
       "         [-0.7184, -0.2932,  0.8868,  1.5152],\n",
       "         [-1.2408, -0.2073, -1.6142,  0.0094],\n",
       "         [-0.2891,  0.3038,  1.8483, -0.2331],\n",
       "         [ 0.2469,  0.7139, -1.2068, -1.0379]], requires_grad=True))"
      ]
     },
     "execution_count": 133,
     "metadata": {},
     "output_type": "execute_result"
    }
   ],
   "source": [
    "loss = info_nce_loss2(embed, embed.detach(), mask)\n",
    "loss.backward()\n",
    "loss, embed"
   ]
  },
  {
   "cell_type": "code",
   "execution_count": 86,
   "id": "51f0fa88",
   "metadata": {
    "ExecuteTime": {
     "end_time": "2023-11-20T05:14:13.093594Z",
     "start_time": "2023-11-20T05:14:13.087334Z"
    }
   },
   "outputs": [
    {
     "data": {
      "text/plain": [
       "tensor([[-1.3966, -0.7540,  2.1217,  1.5233],\n",
       "        [ 0.8330,  0.2043, -0.3376, -0.2949],\n",
       "        [-0.4667,  0.4979, -1.3720, -0.4096],\n",
       "        [ 1.6738,  0.0546, -0.6103, -1.4591],\n",
       "        [ 1.0413,  0.8975,  0.1344, -0.5790]], requires_grad=True)"
      ]
     },
     "execution_count": 86,
     "metadata": {},
     "output_type": "execute_result"
    }
   ],
   "source": []
  },
  {
   "cell_type": "code",
   "execution_count": null,
   "id": "c7a79b1b",
   "metadata": {},
   "outputs": [],
   "source": []
  }
 ],
 "metadata": {
  "kernelspec": {
   "display_name": "multi-label",
   "language": "python",
   "name": "multi-label"
  },
  "language_info": {
   "codemirror_mode": {
    "name": "ipython",
    "version": 3
   },
   "file_extension": ".py",
   "mimetype": "text/x-python",
   "name": "python",
   "nbconvert_exporter": "python",
   "pygments_lexer": "ipython3",
   "version": "3.8.18"
  },
  "toc": {
   "base_numbering": 1,
   "nav_menu": {},
   "number_sections": true,
   "sideBar": true,
   "skip_h1_title": false,
   "title_cell": "Table of Contents",
   "title_sidebar": "Contents",
   "toc_cell": false,
   "toc_position": {
    "height": "calc(100% - 180px)",
    "left": "10px",
    "top": "150px",
    "width": "291.08px"
   },
   "toc_section_display": true,
   "toc_window_display": false
  }
 },
 "nbformat": 4,
 "nbformat_minor": 5
}
