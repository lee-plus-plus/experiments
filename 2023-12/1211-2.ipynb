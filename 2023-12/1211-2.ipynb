{
 "cells": [
  {
   "cell_type": "markdown",
   "id": "bb75df46",
   "metadata": {},
   "source": [
    "# Contrastive Learning on MLL dataset with simplest CNN baseline"
   ]
  },
  {
   "cell_type": "markdown",
   "id": "9452012d",
   "metadata": {},
   "source": [
    "## Random Augmentation"
   ]
  },
  {
   "cell_type": "code",
   "execution_count": 1,
   "id": "d4978b75",
   "metadata": {
    "ExecuteTime": {
     "end_time": "2023-12-11T13:19:05.888144Z",
     "start_time": "2023-12-11T13:19:04.835790Z"
    },
    "code_folding": [
     9
    ]
   },
   "outputs": [],
   "source": [
    "import random\n",
    "import PIL\n",
    "import PIL.ImageOps\n",
    "import PIL.ImageEnhance\n",
    "import PIL.ImageDraw\n",
    "import numpy as np\n",
    "import torch\n",
    "from PIL import Image\n",
    "\n",
    "class RandomAugment:\n",
    "    def __init__(self, n, m):\n",
    "        self.n = n\n",
    "        self.m = m      # [0, 30] in fixmatch, deprecated.\n",
    "        self.augment_list = self.get_augment_list()\n",
    "\n",
    "    def __call__(self, img):\n",
    "        ops = random.choices(self.augment_list, k=self.n)\n",
    "        for op, min_val, max_val in ops:\n",
    "            val = min_val + float(max_val - min_val)*random.random()\n",
    "            img = op(img, val)\n",
    "        cutout_val = random.random() * 0.5\n",
    "        img = self.Cutout(img, cutout_val)  # for fixmatch\n",
    "        return img\n",
    "\n",
    "    def get_augment_list(self):\n",
    "        l = [\n",
    "            (self.AutoContrast, 0, 1),\n",
    "            (self.Brightness, 0.05, 0.95),\n",
    "            (self.Color, 0.05, 0.95),\n",
    "            (self.Contrast, 0.05, 0.95),\n",
    "            (self.Equalize, 0, 1),\n",
    "            (self.Identity, 0, 1),\n",
    "            (self.Posterize, 4, 8),\n",
    "            (self.Rotate, -30, 30),\n",
    "            (self.Sharpness, 0.05, 0.95),\n",
    "            (self.ShearX, -0.3, 0.3),\n",
    "            (self.ShearY, -0.3, 0.3),\n",
    "            (self.Solarize, 0, 256),\n",
    "            (self.TranslateX, -0.3, 0.3),\n",
    "            (self.TranslateY, -0.3, 0.3)\n",
    "        ]\n",
    "        return l\n",
    "\n",
    "    def AutoContrast(self, img, _):\n",
    "        return PIL.ImageOps.autocontrast(img)\n",
    "\n",
    "    def Brightness(self, img, v):\n",
    "        assert v >= 0.0\n",
    "        return PIL.ImageEnhance.Brightness(img).enhance(v)\n",
    "\n",
    "    def Color(self, img, v):\n",
    "        assert v >= 0.0\n",
    "        return PIL.ImageEnhance.Color(img).enhance(v)\n",
    "\n",
    "    def Contrast(self, img, v):\n",
    "        assert v >= 0.0\n",
    "        return PIL.ImageEnhance.Contrast(img).enhance(v)\n",
    "\n",
    "    def Equalize(self, img, _):\n",
    "        return PIL.ImageOps.equalize(img)\n",
    "\n",
    "    def Invert(self, img, _):\n",
    "        return PIL.ImageOps.invert(img)\n",
    "\n",
    "    def Identity(self, img, v):\n",
    "        return img\n",
    "\n",
    "    def Posterize(self, img, v):  # [4, 8]\n",
    "        v = int(v)\n",
    "        v = max(1, v)\n",
    "        return PIL.ImageOps.posterize(img, v)\n",
    "\n",
    "    def Rotate(self, img, v):  # [-30, 30]\n",
    "        #assert -30 <= v <= 30\n",
    "        # if random.random() > 0.5:\n",
    "        #    v = -v\n",
    "        return img.rotate(v)\n",
    "\n",
    "    def Sharpness(self, img, v):  # [0.1,1.9]\n",
    "        assert v >= 0.0\n",
    "        return PIL.ImageEnhance.Sharpness(img).enhance(v)\n",
    "\n",
    "    def ShearX(self, img, v):  # [-0.3, 0.3]\n",
    "        #assert -0.3 <= v <= 0.3\n",
    "        # if random.random() > 0.5:\n",
    "        #    v = -v\n",
    "        return img.transform(img.size, PIL.Image.AFFINE, (1, v, 0, 0, 1, 0))\n",
    "\n",
    "    def ShearY(self, img, v):  # [-0.3, 0.3]\n",
    "        #assert -0.3 <= v <= 0.3\n",
    "        # if random.random() > 0.5:\n",
    "        #    v = -v\n",
    "        return img.transform(img.size, PIL.Image.AFFINE, (1, 0, 0, v, 1, 0))\n",
    "\n",
    "    def TranslateX(self, img, v):  # [-150, 150] => percentage: [-0.45, 0.45]\n",
    "        #assert -0.3 <= v <= 0.3\n",
    "        # if random.random() > 0.5:\n",
    "        #    v = -v\n",
    "        v = v * img.size[0]\n",
    "        return img.transform(img.size, PIL.Image.AFFINE, (1, 0, v, 0, 1, 0))\n",
    "\n",
    "    def TranslateXabs(self, img, v):  # [-150, 150] => percentage: [-0.45, 0.45]\n",
    "        #assert v >= 0.0\n",
    "        # if random.random() > 0.5:\n",
    "        #    v = -v\n",
    "        return img.transform(img.size, PIL.Image.AFFINE, (1, 0, v, 0, 1, 0))\n",
    "\n",
    "    def TranslateY(self, img, v):  # [-150, 150] => percentage: [-0.45, 0.45]\n",
    "        #assert -0.3 <= v <= 0.3\n",
    "        # if random.random() > 0.5:\n",
    "        #    v = -v\n",
    "        v = v * img.size[1]\n",
    "        return img.transform(img.size, PIL.Image.AFFINE, (1, 0, 0, 0, 1, v))\n",
    "\n",
    "    def TranslateYabs(self, img, v):  # [-150, 150] => percentage: [-0.45, 0.45]\n",
    "        #assert 0 <= v\n",
    "        # if random.random() > 0.5:\n",
    "        #    v = -v\n",
    "        return img.transform(img.size, PIL.Image.AFFINE, (1, 0, 0, 0, 1, v))\n",
    "\n",
    "    def Solarize(self, img, v):  # [0, 256]\n",
    "        assert 0 <= v <= 256\n",
    "        return PIL.ImageOps.solarize(img, v)\n",
    "\n",
    "    def CutoutAbs(self, img, v):  # [0, 60] => percentage: [0, 0.2]\n",
    "        # assert 0 <= v <= 20\n",
    "        if v < 0:\n",
    "            return img\n",
    "        w, h = img.size\n",
    "        x0 = np.random.uniform(w)\n",
    "        y0 = np.random.uniform(h)\n",
    "\n",
    "        x0 = int(max(0, x0 - v / 2.))\n",
    "        y0 = int(max(0, y0 - v / 2.))\n",
    "        x1 = min(w, x0 + v)\n",
    "        y1 = min(h, y0 + v)\n",
    "\n",
    "        xy = (x0, y0, x1, y1)\n",
    "        color = (125, 123, 114)\n",
    "        # color = (0, 0, 0)\n",
    "        img = img.copy()\n",
    "        PIL.ImageDraw.Draw(img).rectangle(xy, color)\n",
    "        return img\n",
    "\n",
    "    def Cutout(self, img, v):  # [0, 60] => percentage: [0, 0.2] => change to [0, 0.5]\n",
    "        assert 0.0 <= v <= 0.5\n",
    "        if v <= 0.:\n",
    "            return img\n",
    "\n",
    "        v = v * img.size[0]\n",
    "        return self.CutoutAbs(img, v)"
   ]
  },
  {
   "cell_type": "code",
   "execution_count": 2,
   "id": "297dfc7d",
   "metadata": {
    "ExecuteTime": {
     "end_time": "2023-12-11T13:19:06.415526Z",
     "start_time": "2023-12-11T13:19:06.308782Z"
    },
    "code_folding": [
     2
    ]
   },
   "outputs": [],
   "source": [
    "import torchvision.transforms as transforms\n",
    "\n",
    "def get_transform(img_size=224, name='basic'):\n",
    "    if name == 'basic':\n",
    "        t = transforms.Compose([\n",
    "            transforms.Resize(img_size), \n",
    "            transforms.RandomResizedCrop(size=img_size, scale=(0.2, 1.)),\n",
    "            transforms.ToTensor(), \n",
    "            transforms.Normalize((0.2443, 0.2394, 0.2425), (0.2443, 0.2394, 0.2425))\n",
    "        ])\n",
    "    \n",
    "    elif name =='weak':\n",
    "        t = transforms.Compose([\n",
    "            transforms.Resize(img_size), \n",
    "            transforms.RandomResizedCrop(size=img_size, scale=(0.2, 1.)),\n",
    "            transforms.RandomHorizontalFlip(),\n",
    "            transforms.RandomApply([\n",
    "                transforms.ColorJitter(0.4, 0.4, 0.4, 0.1)\n",
    "            ], p=0.8),\n",
    "            transforms.RandomGrayscale(p=0.2),\n",
    "            transforms.ToTensor(), \n",
    "            transforms.Normalize((0.2443, 0.2394, 0.2425), (0.2443, 0.2394, 0.2425))\n",
    "        ])\n",
    "    elif name == 'strong':\n",
    "        t = transforms.Compose([           \n",
    "            transforms.Resize(img_size), \n",
    "            transforms.RandomResizedCrop(size=img_size, scale=(0.2, 1.)),\n",
    "            transforms.RandomHorizontalFlip(),\n",
    "            RandomAugment(n=3, m=5),\n",
    "            transforms.ToTensor(), \n",
    "            transforms.Normalize((0.2443, 0.2394, 0.2425), (0.2443, 0.2394, 0.2425))\n",
    "        ])\n",
    "    else:\n",
    "        raise ValueError(\"unsupported transform name ‘{}’\".format(name))\n",
    "        \n",
    "    return t"
   ]
  },
  {
   "cell_type": "markdown",
   "id": "8a304d92",
   "metadata": {},
   "source": [
    "## Dataset"
   ]
  },
  {
   "cell_type": "code",
   "execution_count": 3,
   "id": "d83e214d",
   "metadata": {
    "ExecuteTime": {
     "end_time": "2023-12-11T13:19:06.652809Z",
     "start_time": "2023-12-11T13:19:06.648350Z"
    },
    "code_folding": [
     1
    ]
   },
   "outputs": [],
   "source": [
    "@torch.no_grad()\n",
    "def generate_uniform_cv_candidate_labels(train_labels, partial_rate=0.1):\n",
    "    K = int(torch.max(train_labels) - torch.min(train_labels) + 1)\n",
    "    n = train_labels.shape[0]\n",
    "\n",
    "    partialY = torch.zeros(n, K)\n",
    "    partialY[torch.arange(n), train_labels] = 1.0\n",
    "    transition_matrix =  np.eye(K)\n",
    "    transition_matrix[np.where(~np.eye(transition_matrix.shape[0],dtype=bool))] = partial_rate\n",
    "    # print(transition_matrix)\n",
    "\n",
    "    random_n = np.random.uniform(0, 1, size=(n, K))\n",
    "\n",
    "    for j in range(n):  # for each instance\n",
    "        partialY[j, :] = torch.from_numpy((random_n[j, :] < transition_matrix[train_labels[j], :]) * 1)\n",
    "\n",
    "    # print(\"Finish Generating Candidate Label Sets!\\n\")\n",
    "    return partialY"
   ]
  },
  {
   "cell_type": "code",
   "execution_count": 4,
   "id": "ac02bce1",
   "metadata": {
    "ExecuteTime": {
     "end_time": "2023-12-11T13:19:06.805829Z",
     "start_time": "2023-12-11T13:19:06.801174Z"
    },
    "code_folding": []
   },
   "outputs": [],
   "source": [
    "import numpy as np\n",
    "\n",
    "def split_trainval_dataset(dataset, split_ratio=[0.5, 0.5], shuffle=True, seed=None):\n",
    "    indices = list(range(len(dataset)))\n",
    "    split_ratio = (np.cumsum([0] + split_ratio) * len(dataset)).astype(int)\n",
    "\n",
    "    if shuffle:\n",
    "        if seed is not None:\n",
    "            np.random.seed(seed)\n",
    "        np.random.shuffle(indices)\n",
    "    \n",
    "    splited_indices = [indices[begin: end] for begin, end in zip(split_ratio[:-1], split_ratio[1:])]\n",
    "    splited_sampler = [torch.utils.data.SubsetRandomSampler(idxs) for idxs in splited_indices]\n",
    "    \n",
    "    return splited_sampler"
   ]
  },
  {
   "cell_type": "code",
   "execution_count": 5,
   "id": "b0b2776f",
   "metadata": {
    "ExecuteTime": {
     "end_time": "2023-12-11T13:19:06.974161Z",
     "start_time": "2023-12-11T13:19:06.960591Z"
    },
    "code_folding": [
     4
    ]
   },
   "outputs": [],
   "source": [
    "import torch\n",
    "import torchvision\n",
    "from os.path import join\n",
    "\n",
    "class CocoDataset(torch.utils.data.Dataset):\n",
    "    def __init__(self, root='/hdd/lzm/dataset/coco/', partial_rate=0.1, img_size=224):\n",
    "        print(\"loading dataset ...\")\n",
    "        base_dataset = torchvision.datasets.CocoDetection(\n",
    "            root=join(root, f'train2017'), \n",
    "            annFile=join(root, f'annotations/instances_train2017.json')\n",
    "        )\n",
    "        \n",
    "        # many unlabeled samples are included, filter them out\n",
    "        targets = [base_dataset._load_target(id) for id in range(len(base_dataset))]\n",
    "        labels = [sorted(list({seg_box['category_id'] for seg_box in elem})) for elem in targets]\n",
    "        available_idxs, labels = zip(*[\n",
    "            (i, lbl) for i, lbl in enumerate(labels) if len(lbl) > 0\n",
    "        ])\n",
    "        \n",
    "        # some label value is not used, re-mapping them (labels -> y_indexs)\n",
    "        lbl2idx = {lbl: idx for idx, lbl in enumerate(set(sum(labels, [])))}\n",
    "        y_indexs = [[lbl2idx[lbl] for lbl in elem] for elem in labels]\n",
    "        \n",
    "        # generate ground-truth multi-label target (Y_true)\n",
    "        num_samples, dim_labels = len(labels), len(lbl2idx)\n",
    "        Y_true = torch.zeros(num_samples, dim_labels, requires_grad=False)\n",
    "        for row in range(num_samples):\n",
    "            Y_true[row, y_indexs[row]] = 1\n",
    "\n",
    "        # generate candidate label set (Y_candidate)\n",
    "        Y_candidate = Y_true.clone()\n",
    "        Y_candidate[torch.rand_like(Y_candidate) < partial_rate] = 1\n",
    "        \n",
    "        self.base_dataset = base_dataset\n",
    "        self.available_idxs = available_idxs\n",
    "        self.Y_true = Y_true\n",
    "        self.Y_candidate = Y_candidate\n",
    "        self.dim_labels = dim_labels\n",
    "        \n",
    "        self.basic_transform = get_transform(img_size=img_size, name='basic')\n",
    "        self.weak_transform = get_transform(img_size=img_size, name='weak')\n",
    "        self.strong_transform = get_transform(img_size=img_size, name='strong')\n",
    "        \n",
    "    def _get_mean_and_std(self, images):\n",
    "        to_tensor = torchvision.transforms.ToTensor()\n",
    "        mean_, std_ = [], []\n",
    "        \n",
    "        for image in images:\n",
    "            image = to_tensor(image)\n",
    "            mean_.append(image.mean(dim=[1,2]))\n",
    "            std_.append(image.std(dim=[1,2]))\n",
    "\n",
    "        mean_ = torch.vstack(mean_).mean(dim=0)\n",
    "        std_ = torch.vstack(std_).mean(dim=0)\n",
    "        return std_, std_\n",
    "    \n",
    "    def __len__(self):\n",
    "        return len(self.available_idxs)\n",
    "    \n",
    "    @torch.no_grad()\n",
    "    def __getitem__(self, index):\n",
    "        image_index = self.available_idxs[index]\n",
    "        image = self.base_dataset._load_image(image_index)\n",
    "        image_basic = self.basic_transform(image)\n",
    "        image_weak_aug = self.weak_transform(image)\n",
    "        image_strong_aug = self.strong_transform(image)\n",
    "        \n",
    "        y_true = self.Y_true[index, :]\n",
    "        y_candidate = self.Y_candidate[index, :]\n",
    "        \n",
    "        return index, image_basic, image_weak_aug, image_strong_aug, y_true, y_candidate"
   ]
  },
  {
   "cell_type": "markdown",
   "id": "d0b3dc63",
   "metadata": {},
   "source": [
    "## Model"
   ]
  },
  {
   "cell_type": "code",
   "execution_count": 6,
   "id": "8d9034eb",
   "metadata": {
    "ExecuteTime": {
     "end_time": "2023-12-11T13:19:07.448806Z",
     "start_time": "2023-12-11T13:19:07.264479Z"
    },
    "code_folding": [
     6
    ]
   },
   "outputs": [],
   "source": [
    "from torch import nn\n",
    "import torchvision\n",
    "from torch.nn.functional import normalize\n",
    "import timm\n",
    "\n",
    "# basic MLP network\n",
    "class MlpNet(nn.Module):\n",
    "    def __init__(self, in_features, out_features, hidden_layer_sizes=[]):\n",
    "        super(MlpNet, self).__init__()\n",
    "        sizes = [in_features] + list(hidden_layer_sizes) + [out_features]\n",
    "        \n",
    "        sequential = []\n",
    "        sequential.append(torch.nn.Flatten())\n",
    "        sequential.append(torch.nn.Linear(sizes[0], sizes[1], bias=True))\n",
    "        for in_, out_ in zip(sizes[1:-1], sizes[2:]):\n",
    "            sequential.append(torch.nn.ReLU(inplace=True))\n",
    "            sequential.append(torch.nn.Linear(in_, out_, bias=True))\n",
    "        # sequential.append(nn.functional.sigmoid())\n",
    "        \n",
    "        self.sequential = nn.Sequential(*sequential)\n",
    "            \n",
    "    def forward(self, x):\n",
    "        x = x.to(torch.float32)\n",
    "        x = self.sequential(x)\n",
    "        return x\n",
    "\n",
    "# backbone + classification head\n",
    "class MyNet(nn.Module):\n",
    "    def __init__(self, num_classes, *, pretrained=False):\n",
    "        super(MyNet, self).__init__()\n",
    "        \n",
    "        encoder = torchvision.models.resnet101(pretrained=pretrained)\n",
    "        out_dim = encoder.fc.in_features\n",
    "        encoder.fc = nn.Identity()\n",
    "        \n",
    "        self.num_classes = num_classes\n",
    "        self.encoder = encoder\n",
    "        self.classific_head = MlpNet(out_dim, num_classes, hidden_layer_sizes=[out_dim])\n",
    "\n",
    "    def forward(self, x):\n",
    "        x = self.encoder(x)\n",
    "        cls_logit = self.classific_head(x)\n",
    "        return cls_logit\n"
   ]
  },
  {
   "cell_type": "markdown",
   "id": "9cce6670",
   "metadata": {},
   "source": [
    "## Loss"
   ]
  },
  {
   "cell_type": "code",
   "execution_count": 7,
   "id": "bc31b6fd",
   "metadata": {
    "ExecuteTime": {
     "end_time": "2023-12-11T13:19:07.576887Z",
     "start_time": "2023-12-11T13:19:07.573587Z"
    }
   },
   "outputs": [],
   "source": [
    "from torch.nn.functional import mse_loss, cross_entropy, binary_cross_entropy"
   ]
  },
  {
   "cell_type": "code",
   "execution_count": 8,
   "id": "fbd77780",
   "metadata": {
    "ExecuteTime": {
     "end_time": "2023-12-11T13:19:08.068579Z",
     "start_time": "2023-12-11T13:19:07.723182Z"
    }
   },
   "outputs": [],
   "source": [
    "from leemultilearn.metrics import (\n",
    "    hamming_loss as hamming_loss_numpy, \n",
    "    label_ranking_loss as label_ranking_loss_numpy,\n",
    "    average_precision_score as average_precision_score_numpy\n",
    ")"
   ]
  },
  {
   "cell_type": "code",
   "execution_count": 9,
   "id": "085de425",
   "metadata": {
    "ExecuteTime": {
     "end_time": "2023-12-11T13:19:08.076847Z",
     "start_time": "2023-12-11T13:19:08.071812Z"
    },
    "code_folding": [
     1,
     7,
     13
    ]
   },
   "outputs": [],
   "source": [
    "@torch.no_grad()\n",
    "def hamming_loss(y_true, y_pred):\n",
    "    y_true = y_true.cpu().detach().numpy()\n",
    "    y_pred = y_pred.cpu().detach().numpy()\n",
    "    return hamming_loss_numpy(y_true, y_pred)\n",
    "\n",
    "@torch.no_grad()\n",
    "def label_ranking_loss(y_true, y_pred_proba):\n",
    "    y_true = y_true.cpu().detach().numpy()\n",
    "    y_pred_proba = y_pred_proba.cpu().detach().numpy()\n",
    "    return label_ranking_loss_numpy(y_true, y_pred_proba)\n",
    "\n",
    "@torch.no_grad()\n",
    "def average_precision_score(y_true, y_pred_proba):\n",
    "    y_true = y_true.cpu().detach().numpy()\n",
    "    y_pred_proba = y_pred_proba.cpu().detach().numpy()\n",
    "    return average_precision_score_numpy(y_true, y_pred_proba)"
   ]
  },
  {
   "cell_type": "markdown",
   "id": "ae06f398",
   "metadata": {},
   "source": [
    "## Logger"
   ]
  },
  {
   "cell_type": "code",
   "execution_count": 10,
   "id": "959526fd",
   "metadata": {
    "ExecuteTime": {
     "end_time": "2023-12-11T13:19:08.198272Z",
     "start_time": "2023-12-11T13:19:08.190783Z"
    },
    "code_folding": [
     0,
     37,
     47
    ]
   },
   "outputs": [],
   "source": [
    "class Meter(object):\n",
    "    def __init__(self, **kwargs):\n",
    "        self.reset()\n",
    "        self.format(**kwargs)\n",
    "\n",
    "    def reset(self):\n",
    "        self.fmt = dict()\n",
    "        self.values = dict()\n",
    "\n",
    "    def format(self, **kwargs):\n",
    "        for key, fmt_str in kwargs.items():\n",
    "            self.fmt[key] = fmt_str\n",
    "\n",
    "    def average_value(self):\n",
    "        return {key: sum(vals) / len(vals) for key, vals in self.values.items()}\n",
    "\n",
    "    def last_value(self):\n",
    "        return {key:  vals[-1] for key, vals in self.values.items()}\n",
    "\n",
    "    def update(self, **kwargs):\n",
    "        for key, val in kwargs.items():\n",
    "            self._update(key, val)\n",
    "\n",
    "    def _create(self, key):\n",
    "        if key not in self.fmt.keys():\n",
    "            self.fmt[key] = ':5.3f'\n",
    "        self.values[key] = []\n",
    "\n",
    "    def _update(self, key, val):\n",
    "        if key not in self.values.keys():\n",
    "            self._create(key)\n",
    "        self.values[key].append(val)\n",
    "\n",
    "    def _str(self, key, val):\n",
    "        return ('{key:s}: {val' + self.fmt[key] + '}').format(key=key, val=val)\n",
    "\n",
    "\n",
    "class AverageMeter(Meter):\n",
    "    def __init__(self, **kwargs):\n",
    "        super(AverageMeter, self).__init__()\n",
    "\n",
    "    def __str__(self):\n",
    "        return ', '.join([\n",
    "            self._str(key, val) for key, val in self.average_value().items()\n",
    "        ])\n",
    "\n",
    "\n",
    "class LastMeter(Meter):\n",
    "    def __init__(self, **kwargs):\n",
    "        super(LastMeter, self).__init__()\n",
    "\n",
    "    def __str__(self):\n",
    "        return ', '.join([\n",
    "            self._str(key, val) for key, val in self.last_value().items()\n",
    "        ])"
   ]
  },
  {
   "cell_type": "markdown",
   "id": "a7e52043",
   "metadata": {},
   "source": [
    "## Utils"
   ]
  },
  {
   "cell_type": "markdown",
   "id": "16970303",
   "metadata": {},
   "source": [
    "## Train & Eval"
   ]
  },
  {
   "cell_type": "code",
   "execution_count": 11,
   "id": "7eb020b9",
   "metadata": {
    "ExecuteTime": {
     "end_time": "2023-12-11T13:19:08.711069Z",
     "start_time": "2023-12-11T13:19:08.709382Z"
    }
   },
   "outputs": [],
   "source": [
    "from torch import softmax, sigmoid, exp\n",
    "from tqdm.notebook import tqdm"
   ]
  },
  {
   "cell_type": "code",
   "execution_count": 28,
   "id": "52b7b72f",
   "metadata": {
    "ExecuteTime": {
     "end_time": "2023-12-11T13:23:28.451273Z",
     "start_time": "2023-12-11T13:23:28.446371Z"
    },
    "code_folding": []
   },
   "outputs": [],
   "source": [
    "def train_epoch(show_progress=False):\n",
    "    global train_loader, optimizer, model\n",
    "    meter = AverageMeter()\n",
    "    model.train()\n",
    "    \n",
    "    for indices, img, img_w, img_s, y_true, y_candidate in tqdm(train_loader, leave=False, disable=not show_progress):\n",
    "        img_w = img_w.cuda() # weakly augmented\n",
    "        img_s = img_s.cuda() # strongly augmented\n",
    "        y_true = y_true.cuda() # (batch_size, num_classes)\n",
    "        batch_size, num_classes = y_candidate.shape\n",
    "\n",
    "        y_logit = model(img_w) # (batch_size, num_classes)\n",
    "        y_score = sigmoid(y_logit)\n",
    "        y_pred = y_score > 0.5\n",
    "\n",
    "        loss = binary_cross_entropy(input=y_score, target=y_true)\n",
    "        \n",
    "        # optimize\n",
    "        optimizer.zero_grad()\n",
    "        loss.backward()\n",
    "        optimizer.step()\n",
    "\n",
    "        # record\n",
    "        meter.update(\n",
    "            loss=loss.item(), \n",
    "            h_loss=hamming_loss(y_true, y_pred),\n",
    "            r_loss=label_ranking_loss(y_true, y_score),\n",
    "            mAP=average_precision_score(y_true, y_score),\n",
    "        )\n",
    "\n",
    "    return meter"
   ]
  },
  {
   "cell_type": "code",
   "execution_count": 29,
   "id": "b1181e3c",
   "metadata": {
    "ExecuteTime": {
     "end_time": "2023-12-11T13:23:28.822729Z",
     "start_time": "2023-12-11T13:23:28.817754Z"
    },
    "code_folding": []
   },
   "outputs": [],
   "source": [
    "def eval_epoch(show_progress=False):\n",
    "    global test_loader, optimizer, model\n",
    "    meter = AverageMeter()\n",
    "    model.eval()\n",
    "    \n",
    "    for indices, img, img_w, img_s, y_true, y_candidate in tqdm(test_loader, leave=False, disable=not show_progress):\n",
    "        img = img.cuda() # no augmented\n",
    "        y_true = y_true.cuda() # (batch_size, num_classes)\n",
    "        indices = indices.cuda()\n",
    "        batch_size, num_classes = y_candidate.shape\n",
    "\n",
    "        y_logit = model(img) # (batch_size, num_classes)\n",
    "        y_score = sigmoid(y_logit)\n",
    "        y_pred = y_score > 0.5\n",
    "\n",
    "        loss = binary_cross_entropy(input=y_score, target=y_true)\n",
    "\n",
    "        # record\n",
    "        meter.update(\n",
    "            loss=loss.item(), \n",
    "            h_loss=hamming_loss(y_true, y_pred),\n",
    "            r_loss=label_ranking_loss(y_true, y_score),\n",
    "            mAP=average_precision_score(y_true, y_score),\n",
    "        )\n",
    "\n",
    "    return meter"
   ]
  },
  {
   "cell_type": "markdown",
   "id": "63113552",
   "metadata": {},
   "source": [
    "## Start"
   ]
  },
  {
   "cell_type": "markdown",
   "id": "73a52ddd",
   "metadata": {},
   "source": [
    "### Initialization"
   ]
  },
  {
   "cell_type": "code",
   "execution_count": 21,
   "id": "3fccd718",
   "metadata": {
    "ExecuteTime": {
     "end_time": "2023-12-11T13:23:01.590938Z",
     "start_time": "2023-12-11T13:23:01.587592Z"
    }
   },
   "outputs": [],
   "source": [
    "import torch.backends.cudnn as cudnn\n",
    "import random\n",
    "import numpy as np\n",
    "import os "
   ]
  },
  {
   "cell_type": "code",
   "execution_count": 22,
   "id": "ba18ea08",
   "metadata": {
    "ExecuteTime": {
     "end_time": "2023-12-11T13:23:03.926764Z",
     "start_time": "2023-12-11T13:23:03.922768Z"
    }
   },
   "outputs": [],
   "source": [
    "cudnn.benchmark = True\n",
    "seed = 123\n",
    "random.seed(seed)\n",
    "torch.manual_seed(seed)\n",
    "np.random.seed(seed)\n",
    "cudnn.deterministic = True\n",
    "\n",
    "os.environ['CUDA_VISIBLE_DEVICES'] = '2'\n",
    "# torch.use_deterministic_algorithms(True)"
   ]
  },
  {
   "cell_type": "code",
   "execution_count": 18,
   "id": "9da9a590",
   "metadata": {
    "ExecuteTime": {
     "end_time": "2023-12-11T13:19:42.663261Z",
     "start_time": "2023-12-11T13:19:21.548828Z"
    }
   },
   "outputs": [
    {
     "name": "stdout",
     "output_type": "stream",
     "text": [
      "loading dataset ...\n",
      "loading annotations into memory...\n",
      "Done (t=16.25s)\n",
      "creating index...\n",
      "index created!\n",
      "candidate-labels per sample: 2.94\n",
      "true-labels per sample: 2.94\n"
     ]
    }
   ],
   "source": [
    "# dataset\n",
    "dataset = CocoDataset(partial_rate=0.0)\n",
    "print(f'candidate-labels per sample: {dataset.Y_candidate.sum(dim=1).mean():.2f}')\n",
    "print(f'true-labels per sample: {dataset.Y_true.sum(dim=1).mean():.2f}')"
   ]
  },
  {
   "cell_type": "code",
   "execution_count": 23,
   "id": "254d5009",
   "metadata": {
    "ExecuteTime": {
     "end_time": "2023-12-11T13:23:07.482636Z",
     "start_time": "2023-12-11T13:23:07.476206Z"
    },
    "code_folding": [
     5,
     10
    ]
   },
   "outputs": [],
   "source": [
    "from torch.utils.data import DataLoader\n",
    "batch_size = 64\n",
    "\n",
    "train_sampler, test_sampler = split_trainval_dataset(dataset, split_ratio=[0.2, 0.1], shuffle=True, seed=123)\n",
    "assert set(train_sampler.indices) & set(test_sampler.indices) == set()\n",
    "train_loader = DataLoader(\n",
    "    dataset, \n",
    "    batch_size=batch_size, sampler=train_sampler, \n",
    "    num_workers=8, drop_last=True\n",
    ")\n",
    "test_loader = DataLoader(\n",
    "    dataset, \n",
    "    batch_size=batch_size, sampler=test_sampler, \n",
    "    num_workers=8, drop_last=True\n",
    ")"
   ]
  },
  {
   "cell_type": "code",
   "execution_count": 30,
   "id": "18bf4c17",
   "metadata": {
    "ExecuteTime": {
     "end_time": "2023-12-11T13:24:24.534472Z",
     "start_time": "2023-12-11T13:24:23.823249Z"
    }
   },
   "outputs": [
    {
     "name": "stderr",
     "output_type": "stream",
     "text": [
      "/hdd/lzm/.conda/envs/multi-label/lib/python3.8/site-packages/torchvision/models/_utils.py:208: UserWarning: The parameter 'pretrained' is deprecated since 0.13 and may be removed in the future, please use 'weights' instead.\n",
      "  warnings.warn(\n",
      "/hdd/lzm/.conda/envs/multi-label/lib/python3.8/site-packages/torchvision/models/_utils.py:223: UserWarning: Arguments other than a weight enum or `None` for 'weights' are deprecated since 0.13 and may be removed in the future. The current behavior is equivalent to passing `weights=ResNet101_Weights.IMAGENET1K_V1`. You can also use `weights=ResNet101_Weights.DEFAULT` to get the most up-to-date weights.\n",
      "  warnings.warn(msg)\n"
     ]
    }
   ],
   "source": [
    "# models\n",
    "num_classes = dataset.dim_labels\n",
    "model = MyNet(num_classes=num_classes, pretrained=True).cuda()\n",
    "\n",
    "optimizer = torch.optim.SGD(\n",
    "    params=model.parameters(),\n",
    "    lr=1e-2,\n",
    "    momentum=0.9,\n",
    "    weight_decay=1e-4\n",
    ")"
   ]
  },
  {
   "cell_type": "markdown",
   "id": "91538923",
   "metadata": {},
   "source": [
    "### Training"
   ]
  },
  {
   "cell_type": "code",
   "execution_count": 31,
   "id": "3fb71bec",
   "metadata": {
    "ExecuteTime": {
     "end_time": "2023-12-11T13:24:25.724202Z",
     "start_time": "2023-12-11T13:24:25.720510Z"
    }
   },
   "outputs": [],
   "source": [
    "meter_train = LastMeter()\n",
    "meter_valid = LastMeter()\n",
    "epoch = 0"
   ]
  },
  {
   "cell_type": "code",
   "execution_count": 37,
   "id": "f36ca8a0",
   "metadata": {
    "ExecuteTime": {
     "end_time": "2023-12-11T15:22:56.039684Z",
     "start_time": "2023-12-11T15:00:27.026102Z"
    },
    "scrolled": true
   },
   "outputs": [
    {
     "data": {
      "application/vnd.jupyter.widget-view+json": {
       "model_id": "",
       "version_major": 2,
       "version_minor": 0
      },
      "text/plain": [
       "  0%|          | 0/74 [00:00<?, ?it/s]"
      ]
     },
     "metadata": {},
     "output_type": "display_data"
    },
    {
     "data": {
      "application/vnd.jupyter.widget-view+json": {
       "model_id": "",
       "version_major": 2,
       "version_minor": 0
      },
      "text/plain": [
       "  0%|          | 0/37 [00:00<?, ?it/s]"
      ]
     },
     "metadata": {},
     "output_type": "display_data"
    },
    {
     "name": "stdout",
     "output_type": "stream",
     "text": [
      "epoch 100 (train): loss: 0.054, h_loss: 0.019, r_loss: 0.021, mAP: 0.850\n",
      "epoch 100 (valid): loss: 0.070, h_loss: 0.024, r_loss: 0.037, mAP: 0.774\n"
     ]
    },
    {
     "data": {
      "application/vnd.jupyter.widget-view+json": {
       "model_id": "",
       "version_major": 2,
       "version_minor": 0
      },
      "text/plain": [
       "  0%|          | 0/74 [00:00<?, ?it/s]"
      ]
     },
     "metadata": {},
     "output_type": "display_data"
    },
    {
     "data": {
      "application/vnd.jupyter.widget-view+json": {
       "model_id": "",
       "version_major": 2,
       "version_minor": 0
      },
      "text/plain": [
       "  0%|          | 0/37 [00:00<?, ?it/s]"
      ]
     },
     "metadata": {},
     "output_type": "display_data"
    },
    {
     "name": "stdout",
     "output_type": "stream",
     "text": [
      "epoch 101 (train): loss: 0.053, h_loss: 0.019, r_loss: 0.020, mAP: 0.854\n",
      "epoch 101 (valid): loss: 0.070, h_loss: 0.024, r_loss: 0.037, mAP: 0.776\n"
     ]
    },
    {
     "data": {
      "application/vnd.jupyter.widget-view+json": {
       "model_id": "",
       "version_major": 2,
       "version_minor": 0
      },
      "text/plain": [
       "  0%|          | 0/74 [00:00<?, ?it/s]"
      ]
     },
     "metadata": {},
     "output_type": "display_data"
    },
    {
     "data": {
      "application/vnd.jupyter.widget-view+json": {
       "model_id": "",
       "version_major": 2,
       "version_minor": 0
      },
      "text/plain": [
       "  0%|          | 0/37 [00:00<?, ?it/s]"
      ]
     },
     "metadata": {},
     "output_type": "display_data"
    },
    {
     "name": "stdout",
     "output_type": "stream",
     "text": [
      "epoch 102 (train): loss: 0.053, h_loss: 0.018, r_loss: 0.020, mAP: 0.853\n",
      "epoch 102 (valid): loss: 0.070, h_loss: 0.023, r_loss: 0.037, mAP: 0.780\n"
     ]
    },
    {
     "data": {
      "application/vnd.jupyter.widget-view+json": {
       "model_id": "",
       "version_major": 2,
       "version_minor": 0
      },
      "text/plain": [
       "  0%|          | 0/74 [00:00<?, ?it/s]"
      ]
     },
     "metadata": {},
     "output_type": "display_data"
    },
    {
     "data": {
      "application/vnd.jupyter.widget-view+json": {
       "model_id": "",
       "version_major": 2,
       "version_minor": 0
      },
      "text/plain": [
       "  0%|          | 0/37 [00:00<?, ?it/s]"
      ]
     },
     "metadata": {},
     "output_type": "display_data"
    },
    {
     "name": "stdout",
     "output_type": "stream",
     "text": [
      "epoch 103 (train): loss: 0.053, h_loss: 0.019, r_loss: 0.020, mAP: 0.853\n",
      "epoch 103 (valid): loss: 0.071, h_loss: 0.024, r_loss: 0.038, mAP: 0.772\n"
     ]
    },
    {
     "data": {
      "application/vnd.jupyter.widget-view+json": {
       "model_id": "",
       "version_major": 2,
       "version_minor": 0
      },
      "text/plain": [
       "  0%|          | 0/74 [00:00<?, ?it/s]"
      ]
     },
     "metadata": {},
     "output_type": "display_data"
    },
    {
     "data": {
      "application/vnd.jupyter.widget-view+json": {
       "model_id": "",
       "version_major": 2,
       "version_minor": 0
      },
      "text/plain": [
       "  0%|          | 0/37 [00:00<?, ?it/s]"
      ]
     },
     "metadata": {},
     "output_type": "display_data"
    },
    {
     "name": "stdout",
     "output_type": "stream",
     "text": [
      "epoch 104 (train): loss: 0.053, h_loss: 0.019, r_loss: 0.021, mAP: 0.854\n",
      "epoch 104 (valid): loss: 0.070, h_loss: 0.024, r_loss: 0.037, mAP: 0.778\n"
     ]
    },
    {
     "data": {
      "application/vnd.jupyter.widget-view+json": {
       "model_id": "",
       "version_major": 2,
       "version_minor": 0
      },
      "text/plain": [
       "  0%|          | 0/74 [00:00<?, ?it/s]"
      ]
     },
     "metadata": {},
     "output_type": "display_data"
    },
    {
     "data": {
      "application/vnd.jupyter.widget-view+json": {
       "model_id": "",
       "version_major": 2,
       "version_minor": 0
      },
      "text/plain": [
       "  0%|          | 0/37 [00:00<?, ?it/s]"
      ]
     },
     "metadata": {},
     "output_type": "display_data"
    },
    {
     "name": "stdout",
     "output_type": "stream",
     "text": [
      "epoch 105 (train): loss: 0.052, h_loss: 0.019, r_loss: 0.020, mAP: 0.855\n",
      "epoch 105 (valid): loss: 0.070, h_loss: 0.024, r_loss: 0.037, mAP: 0.778\n"
     ]
    },
    {
     "data": {
      "application/vnd.jupyter.widget-view+json": {
       "model_id": "",
       "version_major": 2,
       "version_minor": 0
      },
      "text/plain": [
       "  0%|          | 0/74 [00:00<?, ?it/s]"
      ]
     },
     "metadata": {},
     "output_type": "display_data"
    },
    {
     "data": {
      "application/vnd.jupyter.widget-view+json": {
       "model_id": "",
       "version_major": 2,
       "version_minor": 0
      },
      "text/plain": [
       "  0%|          | 0/37 [00:00<?, ?it/s]"
      ]
     },
     "metadata": {},
     "output_type": "display_data"
    },
    {
     "name": "stdout",
     "output_type": "stream",
     "text": [
      "epoch 106 (train): loss: 0.052, h_loss: 0.019, r_loss: 0.020, mAP: 0.853\n",
      "epoch 106 (valid): loss: 0.071, h_loss: 0.024, r_loss: 0.037, mAP: 0.778\n"
     ]
    },
    {
     "data": {
      "application/vnd.jupyter.widget-view+json": {
       "model_id": "",
       "version_major": 2,
       "version_minor": 0
      },
      "text/plain": [
       "  0%|          | 0/74 [00:00<?, ?it/s]"
      ]
     },
     "metadata": {},
     "output_type": "display_data"
    },
    {
     "data": {
      "application/vnd.jupyter.widget-view+json": {
       "model_id": "",
       "version_major": 2,
       "version_minor": 0
      },
      "text/plain": [
       "  0%|          | 0/37 [00:00<?, ?it/s]"
      ]
     },
     "metadata": {},
     "output_type": "display_data"
    },
    {
     "name": "stdout",
     "output_type": "stream",
     "text": [
      "epoch 107 (train): loss: 0.052, h_loss: 0.018, r_loss: 0.020, mAP: 0.859\n",
      "epoch 107 (valid): loss: 0.071, h_loss: 0.024, r_loss: 0.036, mAP: 0.776\n"
     ]
    },
    {
     "data": {
      "application/vnd.jupyter.widget-view+json": {
       "model_id": "",
       "version_major": 2,
       "version_minor": 0
      },
      "text/plain": [
       "  0%|          | 0/74 [00:00<?, ?it/s]"
      ]
     },
     "metadata": {},
     "output_type": "display_data"
    },
    {
     "data": {
      "application/vnd.jupyter.widget-view+json": {
       "model_id": "",
       "version_major": 2,
       "version_minor": 0
      },
      "text/plain": [
       "  0%|          | 0/37 [00:00<?, ?it/s]"
      ]
     },
     "metadata": {},
     "output_type": "display_data"
    },
    {
     "name": "stdout",
     "output_type": "stream",
     "text": [
      "epoch 108 (train): loss: 0.051, h_loss: 0.019, r_loss: 0.019, mAP: 0.862\n",
      "epoch 108 (valid): loss: 0.071, h_loss: 0.024, r_loss: 0.038, mAP: 0.776\n"
     ]
    },
    {
     "data": {
      "application/vnd.jupyter.widget-view+json": {
       "model_id": "",
       "version_major": 2,
       "version_minor": 0
      },
      "text/plain": [
       "  0%|          | 0/74 [00:00<?, ?it/s]"
      ]
     },
     "metadata": {},
     "output_type": "display_data"
    },
    {
     "data": {
      "application/vnd.jupyter.widget-view+json": {
       "model_id": "",
       "version_major": 2,
       "version_minor": 0
      },
      "text/plain": [
       "  0%|          | 0/37 [00:00<?, ?it/s]"
      ]
     },
     "metadata": {},
     "output_type": "display_data"
    },
    {
     "name": "stdout",
     "output_type": "stream",
     "text": [
      "epoch 109 (train): loss: 0.051, h_loss: 0.018, r_loss: 0.019, mAP: 0.860\n",
      "epoch 109 (valid): loss: 0.070, h_loss: 0.024, r_loss: 0.036, mAP: 0.780\n"
     ]
    },
    {
     "data": {
      "application/vnd.jupyter.widget-view+json": {
       "model_id": "",
       "version_major": 2,
       "version_minor": 0
      },
      "text/plain": [
       "  0%|          | 0/74 [00:00<?, ?it/s]"
      ]
     },
     "metadata": {},
     "output_type": "display_data"
    },
    {
     "data": {
      "application/vnd.jupyter.widget-view+json": {
       "model_id": "",
       "version_major": 2,
       "version_minor": 0
      },
      "text/plain": [
       "  0%|          | 0/37 [00:00<?, ?it/s]"
      ]
     },
     "metadata": {},
     "output_type": "display_data"
    },
    {
     "name": "stdout",
     "output_type": "stream",
     "text": [
      "epoch 110 (train): loss: 0.051, h_loss: 0.018, r_loss: 0.019, mAP: 0.861\n",
      "epoch 110 (valid): loss: 0.070, h_loss: 0.023, r_loss: 0.037, mAP: 0.777\n"
     ]
    },
    {
     "data": {
      "application/vnd.jupyter.widget-view+json": {
       "model_id": "",
       "version_major": 2,
       "version_minor": 0
      },
      "text/plain": [
       "  0%|          | 0/74 [00:00<?, ?it/s]"
      ]
     },
     "metadata": {},
     "output_type": "display_data"
    },
    {
     "data": {
      "application/vnd.jupyter.widget-view+json": {
       "model_id": "",
       "version_major": 2,
       "version_minor": 0
      },
      "text/plain": [
       "  0%|          | 0/37 [00:00<?, ?it/s]"
      ]
     },
     "metadata": {},
     "output_type": "display_data"
    },
    {
     "name": "stdout",
     "output_type": "stream",
     "text": [
      "epoch 111 (train): loss: 0.051, h_loss: 0.018, r_loss: 0.019, mAP: 0.864\n",
      "epoch 111 (valid): loss: 0.070, h_loss: 0.023, r_loss: 0.036, mAP: 0.781\n"
     ]
    },
    {
     "data": {
      "application/vnd.jupyter.widget-view+json": {
       "model_id": "",
       "version_major": 2,
       "version_minor": 0
      },
      "text/plain": [
       "  0%|          | 0/74 [00:00<?, ?it/s]"
      ]
     },
     "metadata": {},
     "output_type": "display_data"
    },
    {
     "data": {
      "application/vnd.jupyter.widget-view+json": {
       "model_id": "",
       "version_major": 2,
       "version_minor": 0
      },
      "text/plain": [
       "  0%|          | 0/37 [00:00<?, ?it/s]"
      ]
     },
     "metadata": {},
     "output_type": "display_data"
    },
    {
     "name": "stdout",
     "output_type": "stream",
     "text": [
      "epoch 112 (train): loss: 0.051, h_loss: 0.018, r_loss: 0.019, mAP: 0.863\n",
      "epoch 112 (valid): loss: 0.070, h_loss: 0.024, r_loss: 0.036, mAP: 0.777\n"
     ]
    },
    {
     "data": {
      "application/vnd.jupyter.widget-view+json": {
       "model_id": "",
       "version_major": 2,
       "version_minor": 0
      },
      "text/plain": [
       "  0%|          | 0/74 [00:00<?, ?it/s]"
      ]
     },
     "metadata": {},
     "output_type": "display_data"
    },
    {
     "data": {
      "application/vnd.jupyter.widget-view+json": {
       "model_id": "",
       "version_major": 2,
       "version_minor": 0
      },
      "text/plain": [
       "  0%|          | 0/37 [00:00<?, ?it/s]"
      ]
     },
     "metadata": {},
     "output_type": "display_data"
    },
    {
     "name": "stdout",
     "output_type": "stream",
     "text": [
      "epoch 113 (train): loss: 0.051, h_loss: 0.018, r_loss: 0.018, mAP: 0.865\n",
      "epoch 113 (valid): loss: 0.070, h_loss: 0.023, r_loss: 0.036, mAP: 0.780\n"
     ]
    },
    {
     "data": {
      "application/vnd.jupyter.widget-view+json": {
       "model_id": "",
       "version_major": 2,
       "version_minor": 0
      },
      "text/plain": [
       "  0%|          | 0/74 [00:00<?, ?it/s]"
      ]
     },
     "metadata": {},
     "output_type": "display_data"
    },
    {
     "data": {
      "application/vnd.jupyter.widget-view+json": {
       "model_id": "",
       "version_major": 2,
       "version_minor": 0
      },
      "text/plain": [
       "  0%|          | 0/37 [00:00<?, ?it/s]"
      ]
     },
     "metadata": {},
     "output_type": "display_data"
    },
    {
     "name": "stdout",
     "output_type": "stream",
     "text": [
      "epoch 114 (train): loss: 0.050, h_loss: 0.018, r_loss: 0.018, mAP: 0.869\n",
      "epoch 114 (valid): loss: 0.070, h_loss: 0.023, r_loss: 0.036, mAP: 0.778\n"
     ]
    },
    {
     "data": {
      "application/vnd.jupyter.widget-view+json": {
       "model_id": "",
       "version_major": 2,
       "version_minor": 0
      },
      "text/plain": [
       "  0%|          | 0/74 [00:00<?, ?it/s]"
      ]
     },
     "metadata": {},
     "output_type": "display_data"
    },
    {
     "data": {
      "application/vnd.jupyter.widget-view+json": {
       "model_id": "",
       "version_major": 2,
       "version_minor": 0
      },
      "text/plain": [
       "  0%|          | 0/37 [00:00<?, ?it/s]"
      ]
     },
     "metadata": {},
     "output_type": "display_data"
    },
    {
     "name": "stdout",
     "output_type": "stream",
     "text": [
      "epoch 115 (train): loss: 0.051, h_loss: 0.018, r_loss: 0.019, mAP: 0.862\n",
      "epoch 115 (valid): loss: 0.071, h_loss: 0.024, r_loss: 0.038, mAP: 0.776\n"
     ]
    },
    {
     "data": {
      "application/vnd.jupyter.widget-view+json": {
       "model_id": "",
       "version_major": 2,
       "version_minor": 0
      },
      "text/plain": [
       "  0%|          | 0/74 [00:00<?, ?it/s]"
      ]
     },
     "metadata": {},
     "output_type": "display_data"
    },
    {
     "data": {
      "application/vnd.jupyter.widget-view+json": {
       "model_id": "",
       "version_major": 2,
       "version_minor": 0
      },
      "text/plain": [
       "  0%|          | 0/37 [00:00<?, ?it/s]"
      ]
     },
     "metadata": {},
     "output_type": "display_data"
    },
    {
     "name": "stdout",
     "output_type": "stream",
     "text": [
      "epoch 116 (train): loss: 0.049, h_loss: 0.017, r_loss: 0.018, mAP: 0.870\n",
      "epoch 116 (valid): loss: 0.070, h_loss: 0.024, r_loss: 0.036, mAP: 0.777\n"
     ]
    },
    {
     "data": {
      "application/vnd.jupyter.widget-view+json": {
       "model_id": "",
       "version_major": 2,
       "version_minor": 0
      },
      "text/plain": [
       "  0%|          | 0/74 [00:00<?, ?it/s]"
      ]
     },
     "metadata": {},
     "output_type": "display_data"
    },
    {
     "data": {
      "application/vnd.jupyter.widget-view+json": {
       "model_id": "",
       "version_major": 2,
       "version_minor": 0
      },
      "text/plain": [
       "  0%|          | 0/37 [00:00<?, ?it/s]"
      ]
     },
     "metadata": {},
     "output_type": "display_data"
    },
    {
     "name": "stdout",
     "output_type": "stream",
     "text": [
      "epoch 117 (train): loss: 0.049, h_loss: 0.018, r_loss: 0.018, mAP: 0.870\n",
      "epoch 117 (valid): loss: 0.071, h_loss: 0.024, r_loss: 0.037, mAP: 0.776\n"
     ]
    },
    {
     "data": {
      "application/vnd.jupyter.widget-view+json": {
       "model_id": "",
       "version_major": 2,
       "version_minor": 0
      },
      "text/plain": [
       "  0%|          | 0/74 [00:00<?, ?it/s]"
      ]
     },
     "metadata": {},
     "output_type": "display_data"
    },
    {
     "data": {
      "application/vnd.jupyter.widget-view+json": {
       "model_id": "",
       "version_major": 2,
       "version_minor": 0
      },
      "text/plain": [
       "  0%|          | 0/37 [00:00<?, ?it/s]"
      ]
     },
     "metadata": {},
     "output_type": "display_data"
    },
    {
     "name": "stdout",
     "output_type": "stream",
     "text": [
      "epoch 118 (train): loss: 0.049, h_loss: 0.017, r_loss: 0.017, mAP: 0.872\n",
      "epoch 118 (valid): loss: 0.071, h_loss: 0.024, r_loss: 0.036, mAP: 0.779\n"
     ]
    },
    {
     "data": {
      "application/vnd.jupyter.widget-view+json": {
       "model_id": "",
       "version_major": 2,
       "version_minor": 0
      },
      "text/plain": [
       "  0%|          | 0/74 [00:00<?, ?it/s]"
      ]
     },
     "metadata": {},
     "output_type": "display_data"
    },
    {
     "data": {
      "application/vnd.jupyter.widget-view+json": {
       "model_id": "",
       "version_major": 2,
       "version_minor": 0
      },
      "text/plain": [
       "  0%|          | 0/37 [00:00<?, ?it/s]"
      ]
     },
     "metadata": {},
     "output_type": "display_data"
    },
    {
     "name": "stdout",
     "output_type": "stream",
     "text": [
      "epoch 119 (train): loss: 0.049, h_loss: 0.017, r_loss: 0.017, mAP: 0.871\n",
      "epoch 119 (valid): loss: 0.070, h_loss: 0.024, r_loss: 0.037, mAP: 0.781\n"
     ]
    },
    {
     "data": {
      "application/vnd.jupyter.widget-view+json": {
       "model_id": "",
       "version_major": 2,
       "version_minor": 0
      },
      "text/plain": [
       "  0%|          | 0/74 [00:00<?, ?it/s]"
      ]
     },
     "metadata": {},
     "output_type": "display_data"
    },
    {
     "data": {
      "application/vnd.jupyter.widget-view+json": {
       "model_id": "",
       "version_major": 2,
       "version_minor": 0
      },
      "text/plain": [
       "  0%|          | 0/37 [00:00<?, ?it/s]"
      ]
     },
     "metadata": {},
     "output_type": "display_data"
    },
    {
     "name": "stdout",
     "output_type": "stream",
     "text": [
      "epoch 120 (train): loss: 0.049, h_loss: 0.017, r_loss: 0.018, mAP: 0.871\n",
      "epoch 120 (valid): loss: 0.070, h_loss: 0.024, r_loss: 0.037, mAP: 0.775\n"
     ]
    },
    {
     "data": {
      "application/vnd.jupyter.widget-view+json": {
       "model_id": "",
       "version_major": 2,
       "version_minor": 0
      },
      "text/plain": [
       "  0%|          | 0/74 [00:00<?, ?it/s]"
      ]
     },
     "metadata": {},
     "output_type": "display_data"
    },
    {
     "data": {
      "application/vnd.jupyter.widget-view+json": {
       "model_id": "",
       "version_major": 2,
       "version_minor": 0
      },
      "text/plain": [
       "  0%|          | 0/37 [00:00<?, ?it/s]"
      ]
     },
     "metadata": {},
     "output_type": "display_data"
    },
    {
     "name": "stdout",
     "output_type": "stream",
     "text": [
      "epoch 121 (train): loss: 0.049, h_loss: 0.017, r_loss: 0.018, mAP: 0.875\n",
      "epoch 121 (valid): loss: 0.070, h_loss: 0.024, r_loss: 0.037, mAP: 0.779\n"
     ]
    },
    {
     "data": {
      "application/vnd.jupyter.widget-view+json": {
       "model_id": "",
       "version_major": 2,
       "version_minor": 0
      },
      "text/plain": [
       "  0%|          | 0/74 [00:00<?, ?it/s]"
      ]
     },
     "metadata": {},
     "output_type": "display_data"
    },
    {
     "data": {
      "application/vnd.jupyter.widget-view+json": {
       "model_id": "",
       "version_major": 2,
       "version_minor": 0
      },
      "text/plain": [
       "  0%|          | 0/37 [00:00<?, ?it/s]"
      ]
     },
     "metadata": {},
     "output_type": "display_data"
    },
    {
     "name": "stdout",
     "output_type": "stream",
     "text": [
      "epoch 122 (train): loss: 0.048, h_loss: 0.017, r_loss: 0.016, mAP: 0.877\n",
      "epoch 122 (valid): loss: 0.070, h_loss: 0.024, r_loss: 0.036, mAP: 0.780\n"
     ]
    },
    {
     "data": {
      "application/vnd.jupyter.widget-view+json": {
       "model_id": "",
       "version_major": 2,
       "version_minor": 0
      },
      "text/plain": [
       "  0%|          | 0/74 [00:00<?, ?it/s]"
      ]
     },
     "metadata": {},
     "output_type": "display_data"
    },
    {
     "data": {
      "application/vnd.jupyter.widget-view+json": {
       "model_id": "",
       "version_major": 2,
       "version_minor": 0
      },
      "text/plain": [
       "  0%|          | 0/37 [00:00<?, ?it/s]"
      ]
     },
     "metadata": {},
     "output_type": "display_data"
    },
    {
     "name": "stdout",
     "output_type": "stream",
     "text": [
      "epoch 123 (train): loss: 0.048, h_loss: 0.017, r_loss: 0.016, mAP: 0.874\n",
      "epoch 123 (valid): loss: 0.071, h_loss: 0.024, r_loss: 0.037, mAP: 0.773\n"
     ]
    },
    {
     "data": {
      "application/vnd.jupyter.widget-view+json": {
       "model_id": "",
       "version_major": 2,
       "version_minor": 0
      },
      "text/plain": [
       "  0%|          | 0/74 [00:00<?, ?it/s]"
      ]
     },
     "metadata": {},
     "output_type": "display_data"
    },
    {
     "data": {
      "application/vnd.jupyter.widget-view+json": {
       "model_id": "",
       "version_major": 2,
       "version_minor": 0
      },
      "text/plain": [
       "  0%|          | 0/37 [00:00<?, ?it/s]"
      ]
     },
     "metadata": {},
     "output_type": "display_data"
    },
    {
     "name": "stdout",
     "output_type": "stream",
     "text": [
      "epoch 124 (train): loss: 0.048, h_loss: 0.017, r_loss: 0.016, mAP: 0.876\n",
      "epoch 124 (valid): loss: 0.071, h_loss: 0.024, r_loss: 0.037, mAP: 0.781\n"
     ]
    },
    {
     "data": {
      "application/vnd.jupyter.widget-view+json": {
       "model_id": "",
       "version_major": 2,
       "version_minor": 0
      },
      "text/plain": [
       "  0%|          | 0/74 [00:00<?, ?it/s]"
      ]
     },
     "metadata": {},
     "output_type": "display_data"
    },
    {
     "data": {
      "application/vnd.jupyter.widget-view+json": {
       "model_id": "",
       "version_major": 2,
       "version_minor": 0
      },
      "text/plain": [
       "  0%|          | 0/37 [00:00<?, ?it/s]"
      ]
     },
     "metadata": {},
     "output_type": "display_data"
    },
    {
     "name": "stdout",
     "output_type": "stream",
     "text": [
      "epoch 125 (train): loss: 0.047, h_loss: 0.017, r_loss: 0.016, mAP: 0.880\n",
      "epoch 125 (valid): loss: 0.070, h_loss: 0.024, r_loss: 0.036, mAP: 0.780\n"
     ]
    },
    {
     "data": {
      "application/vnd.jupyter.widget-view+json": {
       "model_id": "",
       "version_major": 2,
       "version_minor": 0
      },
      "text/plain": [
       "  0%|          | 0/74 [00:00<?, ?it/s]"
      ]
     },
     "metadata": {},
     "output_type": "display_data"
    },
    {
     "data": {
      "application/vnd.jupyter.widget-view+json": {
       "model_id": "",
       "version_major": 2,
       "version_minor": 0
      },
      "text/plain": [
       "  0%|          | 0/37 [00:00<?, ?it/s]"
      ]
     },
     "metadata": {},
     "output_type": "display_data"
    },
    {
     "name": "stdout",
     "output_type": "stream",
     "text": [
      "epoch 126 (train): loss: 0.047, h_loss: 0.017, r_loss: 0.015, mAP: 0.881\n",
      "epoch 126 (valid): loss: 0.071, h_loss: 0.024, r_loss: 0.037, mAP: 0.776\n"
     ]
    },
    {
     "data": {
      "application/vnd.jupyter.widget-view+json": {
       "model_id": "",
       "version_major": 2,
       "version_minor": 0
      },
      "text/plain": [
       "  0%|          | 0/74 [00:00<?, ?it/s]"
      ]
     },
     "metadata": {},
     "output_type": "display_data"
    },
    {
     "data": {
      "application/vnd.jupyter.widget-view+json": {
       "model_id": "",
       "version_major": 2,
       "version_minor": 0
      },
      "text/plain": [
       "  0%|          | 0/37 [00:00<?, ?it/s]"
      ]
     },
     "metadata": {},
     "output_type": "display_data"
    },
    {
     "name": "stdout",
     "output_type": "stream",
     "text": [
      "epoch 127 (train): loss: 0.047, h_loss: 0.017, r_loss: 0.016, mAP: 0.880\n",
      "epoch 127 (valid): loss: 0.071, h_loss: 0.024, r_loss: 0.037, mAP: 0.779\n"
     ]
    },
    {
     "data": {
      "application/vnd.jupyter.widget-view+json": {
       "model_id": "",
       "version_major": 2,
       "version_minor": 0
      },
      "text/plain": [
       "  0%|          | 0/74 [00:00<?, ?it/s]"
      ]
     },
     "metadata": {},
     "output_type": "display_data"
    },
    {
     "data": {
      "application/vnd.jupyter.widget-view+json": {
       "model_id": "",
       "version_major": 2,
       "version_minor": 0
      },
      "text/plain": [
       "  0%|          | 0/37 [00:00<?, ?it/s]"
      ]
     },
     "metadata": {},
     "output_type": "display_data"
    },
    {
     "name": "stdout",
     "output_type": "stream",
     "text": [
      "epoch 128 (train): loss: 0.047, h_loss: 0.017, r_loss: 0.016, mAP: 0.879\n",
      "epoch 128 (valid): loss: 0.072, h_loss: 0.023, r_loss: 0.038, mAP: 0.778\n"
     ]
    },
    {
     "data": {
      "application/vnd.jupyter.widget-view+json": {
       "model_id": "",
       "version_major": 2,
       "version_minor": 0
      },
      "text/plain": [
       "  0%|          | 0/74 [00:00<?, ?it/s]"
      ]
     },
     "metadata": {},
     "output_type": "display_data"
    },
    {
     "data": {
      "application/vnd.jupyter.widget-view+json": {
       "model_id": "",
       "version_major": 2,
       "version_minor": 0
      },
      "text/plain": [
       "  0%|          | 0/37 [00:00<?, ?it/s]"
      ]
     },
     "metadata": {},
     "output_type": "display_data"
    },
    {
     "name": "stdout",
     "output_type": "stream",
     "text": [
      "epoch 129 (train): loss: 0.047, h_loss: 0.017, r_loss: 0.016, mAP: 0.881\n",
      "epoch 129 (valid): loss: 0.071, h_loss: 0.024, r_loss: 0.037, mAP: 0.780\n"
     ]
    },
    {
     "data": {
      "application/vnd.jupyter.widget-view+json": {
       "model_id": "",
       "version_major": 2,
       "version_minor": 0
      },
      "text/plain": [
       "  0%|          | 0/74 [00:00<?, ?it/s]"
      ]
     },
     "metadata": {},
     "output_type": "display_data"
    },
    {
     "data": {
      "application/vnd.jupyter.widget-view+json": {
       "model_id": "",
       "version_major": 2,
       "version_minor": 0
      },
      "text/plain": [
       "  0%|          | 0/37 [00:00<?, ?it/s]"
      ]
     },
     "metadata": {},
     "output_type": "display_data"
    },
    {
     "name": "stdout",
     "output_type": "stream",
     "text": [
      "epoch 130 (train): loss: 0.046, h_loss: 0.016, r_loss: 0.015, mAP: 0.883\n",
      "epoch 130 (valid): loss: 0.071, h_loss: 0.024, r_loss: 0.037, mAP: 0.782\n"
     ]
    },
    {
     "data": {
      "application/vnd.jupyter.widget-view+json": {
       "model_id": "",
       "version_major": 2,
       "version_minor": 0
      },
      "text/plain": [
       "  0%|          | 0/74 [00:00<?, ?it/s]"
      ]
     },
     "metadata": {},
     "output_type": "display_data"
    },
    {
     "data": {
      "application/vnd.jupyter.widget-view+json": {
       "model_id": "",
       "version_major": 2,
       "version_minor": 0
      },
      "text/plain": [
       "  0%|          | 0/37 [00:00<?, ?it/s]"
      ]
     },
     "metadata": {},
     "output_type": "display_data"
    },
    {
     "name": "stdout",
     "output_type": "stream",
     "text": [
      "epoch 131 (train): loss: 0.046, h_loss: 0.016, r_loss: 0.015, mAP: 0.885\n",
      "epoch 131 (valid): loss: 0.071, h_loss: 0.023, r_loss: 0.037, mAP: 0.777\n"
     ]
    },
    {
     "data": {
      "application/vnd.jupyter.widget-view+json": {
       "model_id": "",
       "version_major": 2,
       "version_minor": 0
      },
      "text/plain": [
       "  0%|          | 0/74 [00:00<?, ?it/s]"
      ]
     },
     "metadata": {},
     "output_type": "display_data"
    },
    {
     "data": {
      "application/vnd.jupyter.widget-view+json": {
       "model_id": "",
       "version_major": 2,
       "version_minor": 0
      },
      "text/plain": [
       "  0%|          | 0/37 [00:00<?, ?it/s]"
      ]
     },
     "metadata": {},
     "output_type": "display_data"
    },
    {
     "name": "stdout",
     "output_type": "stream",
     "text": [
      "epoch 132 (train): loss: 0.046, h_loss: 0.016, r_loss: 0.015, mAP: 0.884\n",
      "epoch 132 (valid): loss: 0.071, h_loss: 0.024, r_loss: 0.037, mAP: 0.778\n"
     ]
    },
    {
     "data": {
      "application/vnd.jupyter.widget-view+json": {
       "model_id": "",
       "version_major": 2,
       "version_minor": 0
      },
      "text/plain": [
       "  0%|          | 0/74 [00:00<?, ?it/s]"
      ]
     },
     "metadata": {},
     "output_type": "display_data"
    },
    {
     "data": {
      "application/vnd.jupyter.widget-view+json": {
       "model_id": "",
       "version_major": 2,
       "version_minor": 0
      },
      "text/plain": [
       "  0%|          | 0/37 [00:00<?, ?it/s]"
      ]
     },
     "metadata": {},
     "output_type": "display_data"
    },
    {
     "name": "stdout",
     "output_type": "stream",
     "text": [
      "epoch 133 (train): loss: 0.046, h_loss: 0.016, r_loss: 0.015, mAP: 0.883\n",
      "epoch 133 (valid): loss: 0.071, h_loss: 0.024, r_loss: 0.037, mAP: 0.777\n"
     ]
    },
    {
     "data": {
      "application/vnd.jupyter.widget-view+json": {
       "model_id": "",
       "version_major": 2,
       "version_minor": 0
      },
      "text/plain": [
       "  0%|          | 0/74 [00:00<?, ?it/s]"
      ]
     },
     "metadata": {},
     "output_type": "display_data"
    },
    {
     "data": {
      "application/vnd.jupyter.widget-view+json": {
       "model_id": "",
       "version_major": 2,
       "version_minor": 0
      },
      "text/plain": [
       "  0%|          | 0/37 [00:00<?, ?it/s]"
      ]
     },
     "metadata": {},
     "output_type": "display_data"
    },
    {
     "name": "stdout",
     "output_type": "stream",
     "text": [
      "epoch 134 (train): loss: 0.046, h_loss: 0.016, r_loss: 0.015, mAP: 0.887\n",
      "epoch 134 (valid): loss: 0.071, h_loss: 0.024, r_loss: 0.037, mAP: 0.778\n"
     ]
    },
    {
     "data": {
      "application/vnd.jupyter.widget-view+json": {
       "model_id": "",
       "version_major": 2,
       "version_minor": 0
      },
      "text/plain": [
       "  0%|          | 0/74 [00:00<?, ?it/s]"
      ]
     },
     "metadata": {},
     "output_type": "display_data"
    },
    {
     "data": {
      "application/vnd.jupyter.widget-view+json": {
       "model_id": "",
       "version_major": 2,
       "version_minor": 0
      },
      "text/plain": [
       "  0%|          | 0/37 [00:00<?, ?it/s]"
      ]
     },
     "metadata": {},
     "output_type": "display_data"
    },
    {
     "name": "stdout",
     "output_type": "stream",
     "text": [
      "epoch 135 (train): loss: 0.045, h_loss: 0.016, r_loss: 0.014, mAP: 0.889\n",
      "epoch 135 (valid): loss: 0.071, h_loss: 0.024, r_loss: 0.037, mAP: 0.776\n"
     ]
    },
    {
     "data": {
      "application/vnd.jupyter.widget-view+json": {
       "model_id": "",
       "version_major": 2,
       "version_minor": 0
      },
      "text/plain": [
       "  0%|          | 0/74 [00:00<?, ?it/s]"
      ]
     },
     "metadata": {},
     "output_type": "display_data"
    },
    {
     "data": {
      "application/vnd.jupyter.widget-view+json": {
       "model_id": "",
       "version_major": 2,
       "version_minor": 0
      },
      "text/plain": [
       "  0%|          | 0/37 [00:00<?, ?it/s]"
      ]
     },
     "metadata": {},
     "output_type": "display_data"
    },
    {
     "name": "stdout",
     "output_type": "stream",
     "text": [
      "epoch 136 (train): loss: 0.045, h_loss: 0.016, r_loss: 0.014, mAP: 0.889\n",
      "epoch 136 (valid): loss: 0.071, h_loss: 0.024, r_loss: 0.037, mAP: 0.782\n"
     ]
    },
    {
     "data": {
      "application/vnd.jupyter.widget-view+json": {
       "model_id": "",
       "version_major": 2,
       "version_minor": 0
      },
      "text/plain": [
       "  0%|          | 0/74 [00:00<?, ?it/s]"
      ]
     },
     "metadata": {},
     "output_type": "display_data"
    },
    {
     "data": {
      "application/vnd.jupyter.widget-view+json": {
       "model_id": "",
       "version_major": 2,
       "version_minor": 0
      },
      "text/plain": [
       "  0%|          | 0/37 [00:00<?, ?it/s]"
      ]
     },
     "metadata": {},
     "output_type": "display_data"
    },
    {
     "name": "stdout",
     "output_type": "stream",
     "text": [
      "epoch 137 (train): loss: 0.045, h_loss: 0.016, r_loss: 0.015, mAP: 0.889\n",
      "epoch 137 (valid): loss: 0.072, h_loss: 0.024, r_loss: 0.038, mAP: 0.775\n"
     ]
    },
    {
     "data": {
      "application/vnd.jupyter.widget-view+json": {
       "model_id": "",
       "version_major": 2,
       "version_minor": 0
      },
      "text/plain": [
       "  0%|          | 0/74 [00:00<?, ?it/s]"
      ]
     },
     "metadata": {},
     "output_type": "display_data"
    },
    {
     "data": {
      "application/vnd.jupyter.widget-view+json": {
       "model_id": "",
       "version_major": 2,
       "version_minor": 0
      },
      "text/plain": [
       "  0%|          | 0/37 [00:00<?, ?it/s]"
      ]
     },
     "metadata": {},
     "output_type": "display_data"
    },
    {
     "name": "stdout",
     "output_type": "stream",
     "text": [
      "epoch 138 (train): loss: 0.045, h_loss: 0.016, r_loss: 0.014, mAP: 0.891\n",
      "epoch 138 (valid): loss: 0.072, h_loss: 0.024, r_loss: 0.038, mAP: 0.779\n"
     ]
    },
    {
     "data": {
      "application/vnd.jupyter.widget-view+json": {
       "model_id": "",
       "version_major": 2,
       "version_minor": 0
      },
      "text/plain": [
       "  0%|          | 0/74 [00:00<?, ?it/s]"
      ]
     },
     "metadata": {},
     "output_type": "display_data"
    },
    {
     "data": {
      "application/vnd.jupyter.widget-view+json": {
       "model_id": "",
       "version_major": 2,
       "version_minor": 0
      },
      "text/plain": [
       "  0%|          | 0/37 [00:00<?, ?it/s]"
      ]
     },
     "metadata": {},
     "output_type": "display_data"
    },
    {
     "name": "stdout",
     "output_type": "stream",
     "text": [
      "epoch 139 (train): loss: 0.044, h_loss: 0.015, r_loss: 0.014, mAP: 0.892\n",
      "epoch 139 (valid): loss: 0.072, h_loss: 0.024, r_loss: 0.039, mAP: 0.775\n"
     ]
    },
    {
     "data": {
      "application/vnd.jupyter.widget-view+json": {
       "model_id": "",
       "version_major": 2,
       "version_minor": 0
      },
      "text/plain": [
       "  0%|          | 0/74 [00:00<?, ?it/s]"
      ]
     },
     "metadata": {},
     "output_type": "display_data"
    },
    {
     "data": {
      "application/vnd.jupyter.widget-view+json": {
       "model_id": "",
       "version_major": 2,
       "version_minor": 0
      },
      "text/plain": [
       "  0%|          | 0/37 [00:00<?, ?it/s]"
      ]
     },
     "metadata": {},
     "output_type": "display_data"
    },
    {
     "name": "stdout",
     "output_type": "stream",
     "text": [
      "epoch 140 (train): loss: 0.044, h_loss: 0.016, r_loss: 0.014, mAP: 0.894\n",
      "epoch 140 (valid): loss: 0.072, h_loss: 0.024, r_loss: 0.038, mAP: 0.777\n"
     ]
    },
    {
     "data": {
      "application/vnd.jupyter.widget-view+json": {
       "model_id": "",
       "version_major": 2,
       "version_minor": 0
      },
      "text/plain": [
       "  0%|          | 0/74 [00:00<?, ?it/s]"
      ]
     },
     "metadata": {},
     "output_type": "display_data"
    },
    {
     "data": {
      "application/vnd.jupyter.widget-view+json": {
       "model_id": "",
       "version_major": 2,
       "version_minor": 0
      },
      "text/plain": [
       "  0%|          | 0/37 [00:00<?, ?it/s]"
      ]
     },
     "metadata": {},
     "output_type": "display_data"
    },
    {
     "name": "stdout",
     "output_type": "stream",
     "text": [
      "epoch 141 (train): loss: 0.044, h_loss: 0.016, r_loss: 0.013, mAP: 0.895\n",
      "epoch 141 (valid): loss: 0.072, h_loss: 0.024, r_loss: 0.038, mAP: 0.779\n"
     ]
    },
    {
     "data": {
      "application/vnd.jupyter.widget-view+json": {
       "model_id": "",
       "version_major": 2,
       "version_minor": 0
      },
      "text/plain": [
       "  0%|          | 0/74 [00:00<?, ?it/s]"
      ]
     },
     "metadata": {},
     "output_type": "display_data"
    },
    {
     "data": {
      "application/vnd.jupyter.widget-view+json": {
       "model_id": "",
       "version_major": 2,
       "version_minor": 0
      },
      "text/plain": [
       "  0%|          | 0/37 [00:00<?, ?it/s]"
      ]
     },
     "metadata": {},
     "output_type": "display_data"
    },
    {
     "name": "stdout",
     "output_type": "stream",
     "text": [
      "epoch 142 (train): loss: 0.044, h_loss: 0.016, r_loss: 0.014, mAP: 0.896\n",
      "epoch 142 (valid): loss: 0.072, h_loss: 0.024, r_loss: 0.037, mAP: 0.781\n"
     ]
    },
    {
     "data": {
      "application/vnd.jupyter.widget-view+json": {
       "model_id": "",
       "version_major": 2,
       "version_minor": 0
      },
      "text/plain": [
       "  0%|          | 0/74 [00:00<?, ?it/s]"
      ]
     },
     "metadata": {},
     "output_type": "display_data"
    },
    {
     "data": {
      "application/vnd.jupyter.widget-view+json": {
       "model_id": "",
       "version_major": 2,
       "version_minor": 0
      },
      "text/plain": [
       "  0%|          | 0/37 [00:00<?, ?it/s]"
      ]
     },
     "metadata": {},
     "output_type": "display_data"
    },
    {
     "name": "stdout",
     "output_type": "stream",
     "text": [
      "epoch 143 (train): loss: 0.044, h_loss: 0.016, r_loss: 0.014, mAP: 0.894\n",
      "epoch 143 (valid): loss: 0.071, h_loss: 0.024, r_loss: 0.037, mAP: 0.783\n"
     ]
    },
    {
     "data": {
      "application/vnd.jupyter.widget-view+json": {
       "model_id": "",
       "version_major": 2,
       "version_minor": 0
      },
      "text/plain": [
       "  0%|          | 0/74 [00:00<?, ?it/s]"
      ]
     },
     "metadata": {},
     "output_type": "display_data"
    },
    {
     "data": {
      "application/vnd.jupyter.widget-view+json": {
       "model_id": "",
       "version_major": 2,
       "version_minor": 0
      },
      "text/plain": [
       "  0%|          | 0/37 [00:00<?, ?it/s]"
      ]
     },
     "metadata": {},
     "output_type": "display_data"
    },
    {
     "name": "stdout",
     "output_type": "stream",
     "text": [
      "epoch 144 (train): loss: 0.043, h_loss: 0.016, r_loss: 0.014, mAP: 0.895\n",
      "epoch 144 (valid): loss: 0.072, h_loss: 0.024, r_loss: 0.039, mAP: 0.772\n"
     ]
    },
    {
     "data": {
      "application/vnd.jupyter.widget-view+json": {
       "model_id": "",
       "version_major": 2,
       "version_minor": 0
      },
      "text/plain": [
       "  0%|          | 0/74 [00:00<?, ?it/s]"
      ]
     },
     "metadata": {},
     "output_type": "display_data"
    },
    {
     "data": {
      "application/vnd.jupyter.widget-view+json": {
       "model_id": "",
       "version_major": 2,
       "version_minor": 0
      },
      "text/plain": [
       "  0%|          | 0/37 [00:00<?, ?it/s]"
      ]
     },
     "metadata": {},
     "output_type": "display_data"
    },
    {
     "name": "stdout",
     "output_type": "stream",
     "text": [
      "epoch 145 (train): loss: 0.043, h_loss: 0.015, r_loss: 0.013, mAP: 0.896\n",
      "epoch 145 (valid): loss: 0.072, h_loss: 0.024, r_loss: 0.038, mAP: 0.771\n"
     ]
    },
    {
     "data": {
      "application/vnd.jupyter.widget-view+json": {
       "model_id": "",
       "version_major": 2,
       "version_minor": 0
      },
      "text/plain": [
       "  0%|          | 0/74 [00:00<?, ?it/s]"
      ]
     },
     "metadata": {},
     "output_type": "display_data"
    },
    {
     "data": {
      "application/vnd.jupyter.widget-view+json": {
       "model_id": "",
       "version_major": 2,
       "version_minor": 0
      },
      "text/plain": [
       "  0%|          | 0/37 [00:00<?, ?it/s]"
      ]
     },
     "metadata": {},
     "output_type": "display_data"
    },
    {
     "name": "stdout",
     "output_type": "stream",
     "text": [
      "epoch 146 (train): loss: 0.043, h_loss: 0.015, r_loss: 0.013, mAP: 0.899\n",
      "epoch 146 (valid): loss: 0.072, h_loss: 0.024, r_loss: 0.038, mAP: 0.777\n"
     ]
    },
    {
     "data": {
      "application/vnd.jupyter.widget-view+json": {
       "model_id": "",
       "version_major": 2,
       "version_minor": 0
      },
      "text/plain": [
       "  0%|          | 0/74 [00:00<?, ?it/s]"
      ]
     },
     "metadata": {},
     "output_type": "display_data"
    },
    {
     "data": {
      "application/vnd.jupyter.widget-view+json": {
       "model_id": "",
       "version_major": 2,
       "version_minor": 0
      },
      "text/plain": [
       "  0%|          | 0/37 [00:00<?, ?it/s]"
      ]
     },
     "metadata": {},
     "output_type": "display_data"
    },
    {
     "name": "stdout",
     "output_type": "stream",
     "text": [
      "epoch 147 (train): loss: 0.043, h_loss: 0.015, r_loss: 0.013, mAP: 0.899\n",
      "epoch 147 (valid): loss: 0.072, h_loss: 0.024, r_loss: 0.037, mAP: 0.774\n"
     ]
    },
    {
     "data": {
      "application/vnd.jupyter.widget-view+json": {
       "model_id": "",
       "version_major": 2,
       "version_minor": 0
      },
      "text/plain": [
       "  0%|          | 0/74 [00:00<?, ?it/s]"
      ]
     },
     "metadata": {},
     "output_type": "display_data"
    },
    {
     "data": {
      "application/vnd.jupyter.widget-view+json": {
       "model_id": "",
       "version_major": 2,
       "version_minor": 0
      },
      "text/plain": [
       "  0%|          | 0/37 [00:00<?, ?it/s]"
      ]
     },
     "metadata": {},
     "output_type": "display_data"
    },
    {
     "name": "stdout",
     "output_type": "stream",
     "text": [
      "epoch 148 (train): loss: 0.042, h_loss: 0.015, r_loss: 0.013, mAP: 0.901\n",
      "epoch 148 (valid): loss: 0.072, h_loss: 0.024, r_loss: 0.039, mAP: 0.780\n"
     ]
    },
    {
     "data": {
      "application/vnd.jupyter.widget-view+json": {
       "model_id": "",
       "version_major": 2,
       "version_minor": 0
      },
      "text/plain": [
       "  0%|          | 0/74 [00:00<?, ?it/s]"
      ]
     },
     "metadata": {},
     "output_type": "display_data"
    },
    {
     "data": {
      "application/vnd.jupyter.widget-view+json": {
       "model_id": "",
       "version_major": 2,
       "version_minor": 0
      },
      "text/plain": [
       "  0%|          | 0/37 [00:00<?, ?it/s]"
      ]
     },
     "metadata": {},
     "output_type": "display_data"
    },
    {
     "name": "stdout",
     "output_type": "stream",
     "text": [
      "epoch 149 (train): loss: 0.042, h_loss: 0.015, r_loss: 0.013, mAP: 0.897\n",
      "epoch 149 (valid): loss: 0.072, h_loss: 0.024, r_loss: 0.037, mAP: 0.775\n"
     ]
    }
   ],
   "source": [
    "for e in range(50):\n",
    "    meter_epoch_train = train_epoch(show_progress=True)\n",
    "    meter_epoch_valid = eval_epoch(show_progress=True)\n",
    "    \n",
    "    print(f'epoch {epoch:>2d} (train): {meter_epoch_train}')\n",
    "    print(f'epoch {epoch:>2d} (valid): {meter_epoch_valid}')\n",
    "    \n",
    "    meter_train.update(epoch=epoch, **meter_epoch_train.average_value())\n",
    "    meter_valid.update(epoch=epoch, **meter_epoch_valid.average_value())\n",
    "    \n",
    "    epoch += 1"
   ]
  },
  {
   "cell_type": "markdown",
   "id": "c2298e46",
   "metadata": {},
   "source": [
    "## Result"
   ]
  },
  {
   "cell_type": "code",
   "execution_count": 35,
   "id": "bc45d609",
   "metadata": {
    "ExecuteTime": {
     "end_time": "2023-12-11T15:00:20.424761Z",
     "start_time": "2023-12-11T15:00:20.182851Z"
    }
   },
   "outputs": [],
   "source": [
    "import matplotlib.pyplot as plt"
   ]
  },
  {
   "cell_type": "code",
   "execution_count": 38,
   "id": "16959459",
   "metadata": {
    "ExecuteTime": {
     "end_time": "2023-12-11T15:24:01.142139Z",
     "start_time": "2023-12-11T15:24:00.943319Z"
    }
   },
   "outputs": [
    {
     "data": {
      "image/png": "[encoded data removed]",
      "text/plain": [
       "<Figure size 600x300 with 1 Axes>"
      ]
     },
     "metadata": {},
     "output_type": "display_data"
    }
   ],
   "source": [
    "plt.figure(figsize=(6, 3))\n",
    "plt.plot(meter_train.values['mAP'], '-', color='#27a', label='mAP (train)')\n",
    "plt.plot(meter_valid.values['mAP'], '-', color='#f81', label='mAP (valid)')\n",
    "plt.plot(meter_train.values['mAP'], '-.', color='#27a', label='mAP (train)')\n",
    "plt.plot(meter_valid.values['mAP'], '-.', color='#f81', label='mAP (valid)')\n",
    "plt.legend()\n",
    "plt.xlabel('epoch')\n",
    "plt.title('ResNet18 on COCO2017\\n(noise_rate=0.05, loss=BCEloss, pretrained=True)')\n",
    "plt.show()"
   ]
  },
  {
   "cell_type": "markdown",
   "id": "282d7451",
   "metadata": {},
   "source": [
    "## Debug"
   ]
  },
  {
   "cell_type": "markdown",
   "id": "48c784bb",
   "metadata": {},
   "source": [
    "### Train"
   ]
  },
  {
   "cell_type": "code",
   "execution_count": 41,
   "id": "48ca49b3",
   "metadata": {
    "ExecuteTime": {
     "end_time": "2023-12-11T11:53:57.023368Z",
     "start_time": "2023-12-11T11:53:56.127568Z"
    }
   },
   "outputs": [],
   "source": [
    "model.train()\n",
    "it = iter(train_loader)"
   ]
  },
  {
   "cell_type": "code",
   "execution_count": 42,
   "id": "1538e599",
   "metadata": {
    "ExecuteTime": {
     "end_time": "2023-12-11T11:53:58.909847Z",
     "start_time": "2023-12-11T11:53:57.516928Z"
    }
   },
   "outputs": [],
   "source": [
    "indices, img, img_w, img_s, y_true, y_candidate = next(it)\n",
    "\n",
    "img_w, img_s = img_w.cuda(), img_s.cuda()\n",
    "y_candidate, y_true = y_candidate.cuda(), y_true.cuda()\n",
    "indices = indices.cuda()\n",
    "batch_size, num_classes = y_candidate.shape"
   ]
  },
  {
   "cell_type": "code",
   "execution_count": null,
   "id": "eab0f45e",
   "metadata": {},
   "outputs": [],
   "source": []
  },
  {
   "cell_type": "markdown",
   "id": "7ad4a190",
   "metadata": {},
   "source": [
    "### Visualize"
   ]
  },
  {
   "cell_type": "code",
   "execution_count": 229,
   "id": "a8a4cd75",
   "metadata": {
    "ExecuteTime": {
     "end_time": "2023-11-20T09:21:16.892886Z",
     "start_time": "2023-11-20T09:21:16.889400Z"
    },
    "code_folding": [
     0
    ]
   },
   "outputs": [],
   "source": [
    "class UnNormalize(object):\n",
    "    def __init__(self, mean, std):\n",
    "        self.mean=mean\n",
    "        self.std=std\n",
    " \n",
    "    def __call__(self, tensor):\n",
    "        tensor = tensor.clone()\n",
    "        for t, m, s in zip(tensor,self.mean,self.std):\n",
    "            t.mul_(s).add_(m)\n",
    "        return tensor"
   ]
  },
  {
   "cell_type": "code",
   "execution_count": 230,
   "id": "cdd2ac39",
   "metadata": {
    "ExecuteTime": {
     "end_time": "2023-11-20T09:21:28.205819Z",
     "start_time": "2023-11-20T09:21:28.203198Z"
    }
   },
   "outputs": [],
   "source": [
    "t = transforms.Compose([\n",
    "    UnNormalize((0.2443, 0.2394, 0.2425), (0.2443, 0.2394, 0.2425)),\n",
    "    transforms.ToPILImage()\n",
    "])"
   ]
  },
  {
   "cell_type": "code",
   "execution_count": 248,
   "id": "c72f5575",
   "metadata": {
    "ExecuteTime": {
     "end_time": "2023-11-20T09:23:13.406986Z",
     "start_time": "2023-11-20T09:23:13.370264Z"
    }
   },
   "outputs": [],
   "source": [
    "index, image_basic, image_weak_aug, image_strong_aug, y_true, y_candidate = dataset[0]"
   ]
  },
  {
   "cell_type": "code",
   "execution_count": 252,
   "id": "955431ef",
   "metadata": {
    "ExecuteTime": {
     "end_time": "2023-11-20T09:23:23.785448Z",
     "start_time": "2023-11-20T09:23:23.765959Z"
    }
   },
   "outputs": [
    {
     "data": {
      "image/jpeg": "[encoded data removed]",
      "image/png": "[encoded data removed]",
      "text/plain": [
       "<PIL.Image.Image image mode=RGB size=224x224>"
      ]
     },
     "execution_count": 252,
     "metadata": {},
     "output_type": "execute_result"
    }
   ],
   "source": [
    "t(image_basic)"
   ]
  },
  {
   "cell_type": "code",
   "execution_count": 253,
   "id": "50ccd4d4",
   "metadata": {
    "ExecuteTime": {
     "end_time": "2023-11-20T09:23:24.096949Z",
     "start_time": "2023-11-20T09:23:24.077740Z"
    }
   },
   "outputs": [
    {
     "data": {
      "image/jpeg": "[encoded data removed]",
      "image/png": "[encoded data removed]",
      "text/plain": [
       "<PIL.Image.Image image mode=RGB size=224x224>"
      ]
     },
     "execution_count": 253,
     "metadata": {},
     "output_type": "execute_result"
    }
   ],
   "source": [
    "t(image_weak_aug)"
   ]
  },
  {
   "cell_type": "code",
   "execution_count": 254,
   "id": "bd3fe540",
   "metadata": {
    "ExecuteTime": {
     "end_time": "2023-11-20T09:23:24.580064Z",
     "start_time": "2023-11-20T09:23:24.558874Z"
    }
   },
   "outputs": [
    {
     "data": {
      "image/jpeg": "[encoded data removed]",
      "image/png": "[encoded data removed]",
      "text/plain": [
       "<PIL.Image.Image image mode=RGB size=224x224>"
      ]
     },
     "execution_count": 254,
     "metadata": {},
     "output_type": "execute_result"
    }
   ],
   "source": [
    "t(image_strong_aug)"
   ]
  },
  {
   "cell_type": "code",
   "execution_count": null,
   "id": "24ead91b",
   "metadata": {},
   "outputs": [],
   "source": []
  }
 ],
 "metadata": {
  "kernelspec": {
   "display_name": "multi-label",
   "language": "python",
   "name": "multi-label"
  },
  "language_info": {
   "codemirror_mode": {
    "name": "ipython",
    "version": 3
   },
   "file_extension": ".py",
   "mimetype": "text/x-python",
   "name": "python",
   "nbconvert_exporter": "python",
   "pygments_lexer": "ipython3",
   "version": "3.8.18"
  },
  "toc": {
   "base_numbering": 1,
   "nav_menu": {},
   "number_sections": true,
   "sideBar": true,
   "skip_h1_title": false,
   "title_cell": "Table of Contents",
   "title_sidebar": "Contents",
   "toc_cell": false,
   "toc_position": {
    "height": "calc(100% - 180px)",
    "left": "10px",
    "top": "150px",
    "width": "291.071px"
   },
   "toc_section_display": true,
   "toc_window_display": false
  }
 },
 "nbformat": 4,
 "nbformat_minor": 5
}
